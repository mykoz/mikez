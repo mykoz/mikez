{
 "cells": [
  {
   "cell_type": "code",
   "execution_count": 2,
   "metadata": {
    "collapsed": false
   },
   "outputs": [],
   "source": [
    "import numpy as np\n",
    "import matplotlib.pyplot as plt\n",
    "\n",
    "data = [2, 7 , 1 , 5,  10]\n",
    "\n",
    "candidate = float(0.0)\n",
    "start = float('inf')\n",
    "\n",
    "xarray = []\n",
    "yarray = []\n",
    "\n",
    "while candidate <= 9.9:\n",
    "    num = [(i-candidate)**2 for i in data]\n",
    "    total = sum(num)\n",
    "    \n",
    "    if total <= start:\n",
    "        start = total\n",
    "\n",
    "    xarray.append(candidate)\n",
    "    yarray.append(total)\n",
    "    candidate += float(0.1)\n",
    "\n",
    "plt.plot(xarray, yarray)\n",
    "plt.show()"
   ]
  }
 ],
 "metadata": {
  "kernelspec": {
   "display_name": "Python 2",
   "language": "python",
   "name": "python2"
  },
  "language_info": {
   "codemirror_mode": {
    "name": "ipython",
    "version": 2
   },
   "file_extension": ".py",
   "mimetype": "text/x-python",
   "name": "python",
   "nbconvert_exporter": "python",
   "pygments_lexer": "ipython2",
   "version": "2.7.10"
  }
 },
 "nbformat": 4,
 "nbformat_minor": 0
}

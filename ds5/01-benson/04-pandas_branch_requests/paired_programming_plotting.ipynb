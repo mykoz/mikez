{
 "cells": [
  {
   "cell_type": "code",
   "execution_count": 7,
   "metadata": {
    "collapsed": false
   },
   "outputs": [
    {
     "name": "stdout",
     "output_type": "stream",
     "text": [
      "Populating the interactive namespace from numpy and matplotlib\n"
     ]
    },
    {
     "data": {
      "text/plain": [
       "[<matplotlib.lines.Line2D at 0x10606b090>]"
      ]
     },
     "execution_count": 7,
     "metadata": {},
     "output_type": "execute_result"
    },
    {
     "data": {
      "image/png": "[encoded data removed]",
      "text/plain": [
       "<matplotlib.figure.Figure at 0x1042acf10>"
      ]
     },
     "metadata": {},
     "output_type": "display_data"
    }
   ],
   "source": [
    "#######################################################\n",
    "##\n",
    "##  Pair problem 01-04:\n",
    "##\n",
    "#######################################################\n",
    "\n",
    "%pylab inline\n",
    "from numpy import arange\n",
    "import matplotlib.pyplot as plt\n",
    "\n",
    "data = [2, 7, 1, 5, 10]\n",
    "num_list = arange(0, 10.1, 0.1)\n",
    "\n",
    "min_total = float('inf')\n",
    "min_num = -1\n",
    "\n",
    "xaxis = []\n",
    "yaxis = []\n",
    "for num_list_elt in num_list:\n",
    "\n",
    "    ## Look at (data_elt - num_list_elt)**2, summed over data_elt in data\n",
    "    tmp_sum = sum([(data_elt - num_list_elt)**2   for  data_elt in data])\n",
    "    xaxis.append(num_list_elt)\n",
    "    yaxis.append(tmp_sum)\n",
    "\n",
    "    if tmp_sum < min_total:\n",
    "        min_total = tmp_sum\n",
    "        min_num = num_list_elt\n",
    "\n",
    "plt.plot(xaxis, yaxis)"
   ]
  },
  {
   "cell_type": "code",
   "execution_count": null,
   "metadata": {
    "collapsed": true
   },
   "outputs": [],
   "source": []
  }
 ],
 "metadata": {
  "kernelspec": {
   "display_name": "Python 2",
   "language": "python",
   "name": "python2"
  },
  "language_info": {
   "codemirror_mode": {
    "name": "ipython",
    "version": 2
   },
   "file_extension": ".py",
   "mimetype": "text/x-python",
   "name": "python",
   "nbconvert_exporter": "python",
   "pygments_lexer": "ipython2",
   "version": "2.7.10"
  }
 },
 "nbformat": 4,
 "nbformat_minor": 0
}

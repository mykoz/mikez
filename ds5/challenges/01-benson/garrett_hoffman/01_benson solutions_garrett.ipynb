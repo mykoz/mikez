{
 "cells": [
  {
   "cell_type": "markdown",
   "metadata": {},
   "source": [
    "# 01-benson Challenges"
   ]
  },
  {
   "cell_type": "code",
   "execution_count": 32,
   "metadata": {
    "collapsed": true
   },
   "outputs": [],
   "source": [
    "%matplotlib inline\n",
    "from __future__ import division\n",
    "import csv\n",
    "from datetime import datetime\n",
    "from collections import Counter, defaultdict\n",
    "import matplotlib.pyplot as plt\n",
    "import numpy as np"
   ]
  },
  {
   "cell_type": "markdown",
   "metadata": {},
   "source": [
    "### Challenge 1"
   ]
  },
  {
   "cell_type": "code",
   "execution_count": 56,
   "metadata": {
    "collapsed": true
   },
   "outputs": [],
   "source": [
    "with open('turnstile_150328.csv') as f:\n",
    "    reader = csv.reader(f)\n",
    "    rows = [[cell.strip() for cell in row] for row in reader]"
   ]
  },
  {
   "cell_type": "code",
   "execution_count": 57,
   "metadata": {
    "collapsed": false
   },
   "outputs": [],
   "source": [
    "assert rows.pop(0) == ['C/A', 'UNIT', 'SCP', 'STATION', 'LINENAME', \n",
    "                       'DIVISION', 'DATE', 'TIME', 'DESC', 'ENTRIES', \n",
    "                       'EXITS']"
   ]
  },
  {
   "cell_type": "code",
   "execution_count": 58,
   "metadata": {
    "collapsed": false
   },
   "outputs": [
    {
     "name": "stdout",
     "output_type": "stream",
     "text": [
      "192190\n",
      "<type 'list'>\n"
     ]
    }
   ],
   "source": [
    "print len(rows)\n",
    "print type(rows)"
   ]
  },
  {
   "cell_type": "code",
   "execution_count": 59,
   "metadata": {
    "collapsed": true
   },
   "outputs": [],
   "source": [
    "raw_readings_0328 = {}\n",
    "for row in rows:\n",
    "    raw_readings_0328.setdefault(tuple(row[:4]), []).append(row[4:])"
   ]
  },
  {
   "cell_type": "markdown",
   "metadata": {},
   "source": [
    "### Challenge 2"
   ]
  },
  {
   "cell_type": "code",
   "execution_count": 60,
   "metadata": {
    "collapsed": true
   },
   "outputs": [],
   "source": [
    "datetime_cumulative_0328 = {turnstile: [(datetime.strptime(date + time,\n",
    "                                            '%m/%d/%Y%X'),\n",
    "                                        int(in_cumulative))\n",
    "                                        for _, _, date, time,\n",
    "                                            _, in_cumulative, _ in rows]\n",
    "                 for turnstile, rows in raw_readings_0328.items()}"
   ]
  },
  {
   "cell_type": "code",
   "execution_count": 61,
   "metadata": {
    "collapsed": false
   },
   "outputs": [
    {
     "data": {
      "text/plain": [
       "(('A030', 'R083', '01-06-00', '23 ST-5 AVE'),\n",
       " [(datetime.datetime(2015, 3, 21, 0, 0), 5752280),\n",
       "  (datetime.datetime(2015, 3, 21, 4, 0), 5752343),\n",
       "  (datetime.datetime(2015, 3, 21, 8, 0), 5752368),\n",
       "  (datetime.datetime(2015, 3, 21, 12, 0), 5752499),\n",
       "  (datetime.datetime(2015, 3, 21, 16, 0), 5752799),\n",
       "  (datetime.datetime(2015, 3, 21, 20, 0), 5753219),\n",
       "  (datetime.datetime(2015, 3, 22, 0, 0), 5753428),\n",
       "  (datetime.datetime(2015, 3, 22, 4, 0), 5753507),\n",
       "  (datetime.datetime(2015, 3, 22, 8, 0), 5753526),\n",
       "  (datetime.datetime(2015, 3, 22, 12, 0), 5753614),\n",
       "  (datetime.datetime(2015, 3, 22, 16, 0), 5753874),\n",
       "  (datetime.datetime(2015, 3, 22, 20, 0), 5754195),\n",
       "  (datetime.datetime(2015, 3, 23, 0, 0), 5754385),\n",
       "  (datetime.datetime(2015, 3, 23, 4, 0), 5754403),\n",
       "  (datetime.datetime(2015, 3, 23, 8, 0), 5754517),\n",
       "  (datetime.datetime(2015, 3, 23, 12, 0), 5754977),\n",
       "  (datetime.datetime(2015, 3, 23, 16, 0), 5755446),\n",
       "  (datetime.datetime(2015, 3, 23, 20, 0), 5756589),\n",
       "  (datetime.datetime(2015, 3, 24, 0, 0), 5756953),\n",
       "  (datetime.datetime(2015, 3, 24, 4, 0), 5756991),\n",
       "  (datetime.datetime(2015, 3, 24, 8, 0), 5757105),\n",
       "  (datetime.datetime(2015, 3, 24, 12, 0), 5757650),\n",
       "  (datetime.datetime(2015, 3, 24, 16, 0), 5758160),\n",
       "  (datetime.datetime(2015, 3, 24, 20, 0), 5759337),\n",
       "  (datetime.datetime(2015, 3, 25, 0, 0), 5759750),\n",
       "  (datetime.datetime(2015, 3, 25, 4, 0), 5759805),\n",
       "  (datetime.datetime(2015, 3, 25, 8, 0), 5759913),\n",
       "  (datetime.datetime(2015, 3, 25, 12, 0), 5760466),\n",
       "  (datetime.datetime(2015, 3, 25, 16, 0), 5761016),\n",
       "  (datetime.datetime(2015, 3, 25, 20, 0), 5762260),\n",
       "  (datetime.datetime(2015, 3, 26, 0, 0), 5762668),\n",
       "  (datetime.datetime(2015, 3, 26, 4, 0), 5762708),\n",
       "  (datetime.datetime(2015, 3, 26, 8, 0), 5762803),\n",
       "  (datetime.datetime(2015, 3, 26, 12, 0), 5763329),\n",
       "  (datetime.datetime(2015, 3, 26, 16, 0), 5763845),\n",
       "  (datetime.datetime(2015, 3, 26, 20, 0), 5764935),\n",
       "  (datetime.datetime(2015, 3, 27, 0, 0), 5765385),\n",
       "  (datetime.datetime(2015, 3, 27, 4, 0), 5765439),\n",
       "  (datetime.datetime(2015, 3, 27, 8, 0), 5765525),\n",
       "  (datetime.datetime(2015, 3, 27, 12, 0), 5766010),\n",
       "  (datetime.datetime(2015, 3, 27, 16, 0), 5766529),\n",
       "  (datetime.datetime(2015, 3, 27, 20, 0), 5767487)])"
      ]
     },
     "execution_count": 61,
     "metadata": {},
     "output_type": "execute_result"
    }
   ],
   "source": [
    "datetime_cumulative_0328.items()[0]"
   ]
  },
  {
   "cell_type": "code",
   "execution_count": 63,
   "metadata": {
    "collapsed": false
   },
   "outputs": [],
   "source": [
    "for key, rows in datetime_cumulative_0328.iteritems():\n",
    "    rows = sorted(rows)"
   ]
  },
  {
   "cell_type": "code",
   "execution_count": 64,
   "metadata": {
    "collapsed": true
   },
   "outputs": [],
   "source": [
    "## Check that our timeseries is sorted (by datetime objects!)\n",
    "for rows in datetime_cumulative_0328.values():\n",
    "    assert rows == sorted(rows)"
   ]
  },
  {
   "cell_type": "code",
   "execution_count": 66,
   "metadata": {
    "collapsed": false
   },
   "outputs": [],
   "source": [
    "datetime_count_times_0328 = {turnstile: [[rows[i][0],\n",
    "                                          rows[i+1][1] - rows[i][1],\n",
    "                                          rows[i+1][0] - rows[i][0]]\n",
    "                                         for i in range(len(rows) - 1)]\n",
    "                    for turnstile, rows in datetime_cumulative_0328.items()}"
   ]
  },
  {
   "cell_type": "code",
   "execution_count": 67,
   "metadata": {
    "collapsed": false
   },
   "outputs": [
    {
     "data": {
      "text/plain": [
       "(('A030', 'R083', '01-06-00', '23 ST-5 AVE'),\n",
       " [[datetime.datetime(2015, 3, 21, 0, 0), 63, datetime.timedelta(0, 14400)],\n",
       "  [datetime.datetime(2015, 3, 21, 4, 0), 25, datetime.timedelta(0, 14400)],\n",
       "  [datetime.datetime(2015, 3, 21, 8, 0), 131, datetime.timedelta(0, 14400)],\n",
       "  [datetime.datetime(2015, 3, 21, 12, 0), 300, datetime.timedelta(0, 14400)],\n",
       "  [datetime.datetime(2015, 3, 21, 16, 0), 420, datetime.timedelta(0, 14400)],\n",
       "  [datetime.datetime(2015, 3, 21, 20, 0), 209, datetime.timedelta(0, 14400)],\n",
       "  [datetime.datetime(2015, 3, 22, 0, 0), 79, datetime.timedelta(0, 14400)],\n",
       "  [datetime.datetime(2015, 3, 22, 4, 0), 19, datetime.timedelta(0, 14400)],\n",
       "  [datetime.datetime(2015, 3, 22, 8, 0), 88, datetime.timedelta(0, 14400)],\n",
       "  [datetime.datetime(2015, 3, 22, 12, 0), 260, datetime.timedelta(0, 14400)],\n",
       "  [datetime.datetime(2015, 3, 22, 16, 0), 321, datetime.timedelta(0, 14400)],\n",
       "  [datetime.datetime(2015, 3, 22, 20, 0), 190, datetime.timedelta(0, 14400)],\n",
       "  [datetime.datetime(2015, 3, 23, 0, 0), 18, datetime.timedelta(0, 14400)],\n",
       "  [datetime.datetime(2015, 3, 23, 4, 0), 114, datetime.timedelta(0, 14400)],\n",
       "  [datetime.datetime(2015, 3, 23, 8, 0), 460, datetime.timedelta(0, 14400)],\n",
       "  [datetime.datetime(2015, 3, 23, 12, 0), 469, datetime.timedelta(0, 14400)],\n",
       "  [datetime.datetime(2015, 3, 23, 16, 0), 1143, datetime.timedelta(0, 14400)],\n",
       "  [datetime.datetime(2015, 3, 23, 20, 0), 364, datetime.timedelta(0, 14400)],\n",
       "  [datetime.datetime(2015, 3, 24, 0, 0), 38, datetime.timedelta(0, 14400)],\n",
       "  [datetime.datetime(2015, 3, 24, 4, 0), 114, datetime.timedelta(0, 14400)],\n",
       "  [datetime.datetime(2015, 3, 24, 8, 0), 545, datetime.timedelta(0, 14400)],\n",
       "  [datetime.datetime(2015, 3, 24, 12, 0), 510, datetime.timedelta(0, 14400)],\n",
       "  [datetime.datetime(2015, 3, 24, 16, 0), 1177, datetime.timedelta(0, 14400)],\n",
       "  [datetime.datetime(2015, 3, 24, 20, 0), 413, datetime.timedelta(0, 14400)],\n",
       "  [datetime.datetime(2015, 3, 25, 0, 0), 55, datetime.timedelta(0, 14400)],\n",
       "  [datetime.datetime(2015, 3, 25, 4, 0), 108, datetime.timedelta(0, 14400)],\n",
       "  [datetime.datetime(2015, 3, 25, 8, 0), 553, datetime.timedelta(0, 14400)],\n",
       "  [datetime.datetime(2015, 3, 25, 12, 0), 550, datetime.timedelta(0, 14400)],\n",
       "  [datetime.datetime(2015, 3, 25, 16, 0), 1244, datetime.timedelta(0, 14400)],\n",
       "  [datetime.datetime(2015, 3, 25, 20, 0), 408, datetime.timedelta(0, 14400)],\n",
       "  [datetime.datetime(2015, 3, 26, 0, 0), 40, datetime.timedelta(0, 14400)],\n",
       "  [datetime.datetime(2015, 3, 26, 4, 0), 95, datetime.timedelta(0, 14400)],\n",
       "  [datetime.datetime(2015, 3, 26, 8, 0), 526, datetime.timedelta(0, 14400)],\n",
       "  [datetime.datetime(2015, 3, 26, 12, 0), 516, datetime.timedelta(0, 14400)],\n",
       "  [datetime.datetime(2015, 3, 26, 16, 0), 1090, datetime.timedelta(0, 14400)],\n",
       "  [datetime.datetime(2015, 3, 26, 20, 0), 450, datetime.timedelta(0, 14400)],\n",
       "  [datetime.datetime(2015, 3, 27, 0, 0), 54, datetime.timedelta(0, 14400)],\n",
       "  [datetime.datetime(2015, 3, 27, 4, 0), 86, datetime.timedelta(0, 14400)],\n",
       "  [datetime.datetime(2015, 3, 27, 8, 0), 485, datetime.timedelta(0, 14400)],\n",
       "  [datetime.datetime(2015, 3, 27, 12, 0), 519, datetime.timedelta(0, 14400)],\n",
       "  [datetime.datetime(2015, 3, 27, 16, 0), 958, datetime.timedelta(0, 14400)]])"
      ]
     },
     "execution_count": 67,
     "metadata": {},
     "output_type": "execute_result"
    }
   ],
   "source": [
    "datetime_count_times_0328.items()[0]"
   ]
  },
  {
   "cell_type": "code",
   "execution_count": 69,
   "metadata": {
    "collapsed": true
   },
   "outputs": [
    {
     "name": "stdout",
     "output_type": "stream",
     "text": [
      "[2453, 2463, 2464, 2464, 2466, 2467, 2467, 2493, 2497, 2499, 2500, 2524, 2526, 2532, 2539, 2542, 2556, 2571, 2573, 2581, 2596, 2620, 2621, 2625, 2628, 2637, 2638, 2644, 2649, 2651, 2654, 2665, 2728, 2785, 2841, 2916, 2920, 2926, 2940, 2945, 2995, 3084, 3385, 4957, 10230, 13596, 83814175, 169801557, 367655512, 436524900]\n"
     ]
    }
   ],
   "source": [
    "## Let's do some EDA!\n",
    "all_counts = [count \n",
    "              for rows \n",
    "              in datetime_count_times_0328.values() \n",
    "              for _, count, _ in rows]\n",
    "all_counts.sort()\n",
    "print all_counts[-50:]"
   ]
  },
  {
   "cell_type": "code",
   "execution_count": 70,
   "metadata": {
    "collapsed": true
   },
   "outputs": [
    {
     "name": "stdout",
     "output_type": "stream",
     "text": [
      "[-752058474, -7586280, -5983249, -1425128, -1262354, -268006, -257818, -192465, -53485, -21966, -1944, -1763, -1709, -1691, -1686, -1686, -1684, -1674, -1665, -1657, -1647, -1643, -1641, -1641, -1635, -1632, -1626, -1620, -1613, -1594, -1593, -1590, -1565, -1549, -1545, -1528, -1497, -1480, -1480, -1468, -1466, -1417, -1417, -1401, -1398, -1398, -1389, -1378, -1375, -1373, -1360, -1360, -1348, -1333, -1327, -1320, -1317, -1311, -1306, -1301, -1299, -1294, -1292, -1289, -1285, -1264, -1250, -1240, -1230, -1229, -1219, -1217, -1211, -1189, -1185, -1171, -1165, -1159, -1156, -1154, -1145, -1137, -1134, -1132, -1131, -1120, -1118, -1113, -1108, -1103, -1102, -1102, -1100, -1094, -1093, -1092, -1086, -1084, -1080, -1073, -1063, -1052, -1042, -1042, -1037, -1037, -1034, -1018, -1016, -1015, -1006, -1004, -997, -977, -976, -975, -967, -959, -953, -953, -947, -947, -940, -934, -926, -924, -920, -918, -908, -907, -906, -904, -901, -901, -900, -896, -892, -887, -886, -885, -883, -881, -880, -879, -867, -866, -864, -858, -845, -842, -841, -841, -809, -797, -796, -794, -794, -793, -791, -787, -782, -782, -780, -775, -774, -772, -754, -749, -742, -740, -734, -731, -730, -725, -722, -722, -716, -711, -698, -696, -693, -688, -688, -682, -682, -681, -680, -677, -676, -675, -675, -668, -668, -664, -662, -661, -657, -652, -649, -649, -648, -648, -647, -647, -645, -645, -645, -644, -639, -635, -633, -627, -623, -623, -620, -617, -616, -615, -615, -614, -613, -612, -610, -609, -604, -603, -601, -599, -598, -596, -592, -591, -591, -591, -589, -589, -586, -585, -584, -582, -581, -580, -578, -578, -575, -574, -573, -573, -573, -572, -571, -569, -568, -566, -566, -565, -565, -563, -563, -563, -560, -559, -558, -556, -553, -553, -553, -551, -550, -549, -549, -548, -547, -545, -542, -542, -541, -540, -539, -538, -538, -536, -535, -534, -533, -530, -529, -526, -524, -524, -524, -519, -517, -517, -516, -512, -511, -509, -508, -507, -506, -502, -501, -500, -499, -496, -494, -493, -492, -491, -490, -489, -487, -486, -486, -485, -484, -484, -482, -478, -477, -475, -475, -472, -469, -465, -464, -464, -462, -462, -462, -462, -461, -461, -458, -457, -456, -454, -454, -452, -452, -451, -449, -449, -448, -447, -443, -443, -441, -440, -440, -439, -437, -433, -433, -433, -430, -429, -428, -427, -427, -425, -424, -423, -422, -421, -411, -410, -410, -409, -409, -407, -407, -404, -403, -403, -403, -403, -401, -400, -395, -393, -392, -392, -390, -388, -387, -387, -386, -385, -384, -384, -384, -383, -382, -381, -379, -379, -378, -377, -377, -376, -375, -375, -373, -373, -368, -368, -368, -366, -365, -365, -365, -363, -362, -360, -359, -359, -358, -356, -355, -355, -355, -354, -354, -353, -353, -352, -352, -350, -350, -348, -346, -346, -345, -345, -344, -344, -343, -342, -342, -341, -341, -340, -340, -340, -339, -339, -337, -337, -337, -336, -335, -333, -332, -331, -329, -329, -328, -328, -325, -325, -324, -323, -323, -322, -322, -321, -320, -319, -319, -318, -314, -314, -314, -313, -313, -311, -311, -311, -310, -310, -309, -309, -306, -306, -306, -303, -300, -300, -297, -297, -295, -295, -292, -291, -290, -290, -289, -289, -288, -286, -285, -281, -281, -280, -280, -280, -279, -279, -278, -278, -277, -276, -275, -275, -274, -273, -272, -272, -270, -269, -269, -268, -267, -265, -264, -264, -263, -262, -262, -261, -261, -259, -258, -257, -257, -256, -256, -255, -255, -253, -247, -247, -247, -244, -243, -239, -238, -238, -237, -236, -234, -234, -229, -229, -229, -228, -228, -227, -226, -226, -225, -225, -222, -221, -221, -221, -220, -220, -218, -218, -218, -218, -217, -215, -215, -215, -215, -214, -213, -212, -210, -209, -209, -208, -208, -208, -206, -206, -205, -205, -204, -202, -202, -200, -199, -199, -199, -198, -195, -194, -194, -193, -191, -191, -190, -190, -188, -188, -188, -186, -186, -185, -185, -184, -183, -182, -181, -179, -178, -178, -177, -175, -175, -174, -174, -174, -172, -171, -171, -170, -169, -169, -168, -168, -168, -168, -168, -168, -167, -166, -166, -166, -165, -165, -165, -164, -164, -163, -162, -161, -160, -160, -160, -159, -159, -158, -157, -157, -155, -155, -155, -155, -154, -154, -153, -153, -153, -153, -152, -151, -151, -151, -150, -150, -150, -149, -149, -149, -148, -147, -146, -146, -146, -145, -144, -143, -143, -143, -142, -142, -140, -140, -138, -137, -136, -134, -134, -134, -133, -133, -133, -132, -132, -131, -131, -130, -130, -128, -126, -125, -125, -125, -125, -124, -124, -124, -124, -124, -123, -123, -123, -123, -122, -122, -122, -122, -120, -119, -119, -118, -118, -118, -117, -117, -117, -116, -115, -114, -114, -113, -113, -113, -112, -112, -111, -111, -110, -109, -108, -108, -108, -107, -107, -107, -107, -106, -106, -105, -105, -104, -104, -103, -103, -102, -101, -100, -99, -98, -97, -97, -97, -97, -96, -95, -95, -95, -93, -92, -92, -92, -91, -90, -88, -88, -88, -88, -88, -87, -85, -85, -84, -84, -83, -83, -83, -83, -83, -83, -82, -81, -81, -80, -80, -80, -80, -80, -79, -78, -78, -78, -78, -77, -77, -76, -76, -76, -76, -76, -76, -75, -74, -74, -73, -73, -73, -73, -72, -72, -72, -71, -70, -70, -70, -70, -70, -69, -68, -68, -67, -67, -66, -66, -66, -66, -65, -65, -65, -65, -65, -64, -63, -63, -63, -63, -63, -63, -63, -62, -62, -62, -61, -61, -60, -60, -60, -60, -60, -59, -59, -59, -59, -59, -58, -58, -58, -57, -57, -57, -57, -56, -56, -56, -56, -56, -56, -56, -55, -55, -55, -54, -54, -53, -53, -52, -52, -52, -51, -51, -51, -51, -51, -50, -50, -50, -50, -50, -49, -49, -49, -49, -48, -48, -48, -48, -48, -46, -46, -46, -46, -46, -46, -46, -45, -45, -45, -45, -45, -44, -44, -44, -44, -44, -43, -42, -42, -42, -41, -41, -41, -41, -41, -40, -40, -40, -39, -39, -39, -39, -38, -38, -37, -37, -37, -37, -37, -37, -36, -36, -36, -36, -35, -35, -35, -34, -34, -34, -34, -33, -33, -33, -32, -32, -32, -30, -30, -30, -29, -29, -29, -28, -28, -28, -28, -27, -27, -26, -26, -25, -25, -24, -24, -23, -23, -23, -23, -23, -22, -22, -22, -22, -22, -20, -20, -20, -20, -20, -20, -20, -20, -20, -20, -20, -20, -19, -19, -19, -19, -19, -19, -19, -19, -19, -18, -18, -18, -18, -18, -17, -17, -17, -17, -17, -17, -17, -17, -16, -16, -16, -16, -16, -16, -16, -16, -15, -15, -14, -14, -14, -14, -14, -14, -13, -13, -13, -13, -13, -12, -12, -12, -11, -11, -11, -11, -10, -10, -10, -10, -10, -10, -9, -9, -9, -9, -9, -9, -9, -9, -9, -9, -8, -8, -8, -8, -8, -7, -7, -7, -7, -6, -6, -6, -6, -5, -5, -5, -5, -5, -5, -5, -4, -4, -4, -4, -4, -3, -3, -2, -2, -2, -2, -2, -2, -1, -1, -1, -1, -1, -1, -1, -1, 0, 0, 0, 0, 0, 0, 0, 0, 0, 0, 0, 0, 0, 0, 0, 0, 0, 0, 0, 0, 0, 0, 0, 0, 0, 0, 0, 0, 0, 0, 0, 0, 0, 0, 0, 0, 0, 0, 0, 0, 0, 0, 0, 0, 0, 0, 0, 0, 0, 0, 0, 0, 0, 0, 0, 0, 0, 0, 0, 0, 0, 0, 0, 0, 0, 0, 0, 0, 0, 0, 0, 0, 0, 0, 0, 0, 0, 0]\n"
     ]
    }
   ],
   "source": [
    "print all_counts[:1200]"
   ]
  },
  {
   "cell_type": "code",
   "execution_count": 72,
   "metadata": {
    "collapsed": false
   },
   "outputs": [
    {
     "name": "stdout",
     "output_type": "stream",
     "text": [
      "[(4.0, 172715), (4.2, 10551), (8.0, 210), (4.433333333333334, 150), (0.022500000000000003, 60), (0.02222222222222222, 59), (0.02388888888888889, 21), (2.230277777777778, 21), (1.5166666666666666, 21), (0.025833333333333333, 21)]\n"
     ]
    }
   ],
   "source": [
    "## Now let's do EDA on the times!\n",
    "all_times = [duration.total_seconds() / 60 / 60\n",
    "             for rows in datetime_count_times_0328.values()\n",
    "             for _, _, duration in rows]\n",
    "print Counter(all_times).most_common(10)"
   ]
  },
  {
   "cell_type": "code",
   "execution_count": 74,
   "metadata": {
    "collapsed": false
   },
   "outputs": [],
   "source": [
    "## Since these times look reasonable, let's just filter by reasonable counts.\n",
    "datetime_counts_0328 = {turnstile: [(time, count)\n",
    "                                    for (time, count, _) in rows\n",
    "                                    if 0 <= count <= 5000]\n",
    "                        for turnstile, rows in datetime_count_times_0328.items()}"
   ]
  },
  {
   "cell_type": "markdown",
   "metadata": {},
   "source": [
    "datetime_counts_0328 is a solution to Challenge 2."
   ]
  },
  {
   "cell_type": "code",
   "execution_count": 78,
   "metadata": {
    "collapsed": false
   },
   "outputs": [
    {
     "name": "stdout",
     "output_type": "stream",
     "text": [
      "0.993988264325\n",
      "[2945, 2995, 3084, 3385, 4957]\n",
      "[0, 0, 0, 0, 0]\n"
     ]
    }
   ],
   "source": [
    "# check how much of the data we kept and some final EDA as a check\n",
    "all_good_counts = [count \n",
    "                   for rows \n",
    "                   in datetime_counts_0328.values()\n",
    "                   for _, count in rows]\n",
    "print len(all_good_counts) / len(all_counts)\n",
    "all_good_counts.sort()\n",
    "print all_good_counts[-5:]\n",
    "print all_good_counts[:5]"
   ]
  },
  {
   "cell_type": "markdown",
   "metadata": {},
   "source": [
    "### Challenge 3"
   ]
  },
  {
   "cell_type": "code",
   "execution_count": 109,
   "metadata": {
    "collapsed": false
   },
   "outputs": [],
   "source": [
    "#get counts by day for each turnstile\n",
    "day_counts_0328 = {}\n",
    "for turnstile, rows in datetime_counts_0328.items():\n",
    "    by_day = {}\n",
    "    for time, count in rows:\n",
    "        day = time.date()\n",
    "        by_day[day] = by_day.get(day, 0) + count\n",
    "    day_counts_0328[turnstile] = sorted(by_day.items())"
   ]
  },
  {
   "cell_type": "code",
   "execution_count": 110,
   "metadata": {
    "collapsed": false
   },
   "outputs": [
    {
     "data": {
      "text/plain": [
       "(('A030', 'R083', '01-06-00', '23 ST-5 AVE'),\n",
       " [(datetime.date(2015, 3, 21), 1148),\n",
       "  (datetime.date(2015, 3, 22), 957),\n",
       "  (datetime.date(2015, 3, 23), 2568),\n",
       "  (datetime.date(2015, 3, 24), 2797),\n",
       "  (datetime.date(2015, 3, 25), 2918),\n",
       "  (datetime.date(2015, 3, 26), 2717),\n",
       "  (datetime.date(2015, 3, 27), 2102)])"
      ]
     },
     "execution_count": 110,
     "metadata": {},
     "output_type": "execute_result"
    }
   ],
   "source": [
    "day_counts_0328.items()[0]"
   ]
  },
  {
   "cell_type": "markdown",
   "metadata": {},
   "source": [
    "### Challenge 4"
   ]
  },
  {
   "cell_type": "code",
   "execution_count": 201,
   "metadata": {
    "collapsed": true
   },
   "outputs": [],
   "source": [
    "turnstile_0328 = sorted(day_counts_0328.items())[0][1]"
   ]
  },
  {
   "cell_type": "code",
   "execution_count": 202,
   "metadata": {
    "collapsed": false
   },
   "outputs": [],
   "source": [
    "dates_0328, counts_0328 = zip(*turnstile_0328)"
   ]
  },
  {
   "cell_type": "code",
   "execution_count": 203,
   "metadata": {
    "collapsed": false
   },
   "outputs": [
    {
     "data": {
      "text/plain": [
       "[<matplotlib.lines.Line2D at 0x1089bb1d0>]"
      ]
     },
     "execution_count": 203,
     "metadata": {},
     "output_type": "execute_result"
    },
    {
     "data": {
      "image/png": "[encoded data removed]",
      "text/plain": [
       "<matplotlib.figure.Figure at 0x10a5ba190>"
      ]
     },
     "metadata": {},
     "output_type": "display_data"
    }
   ],
   "source": [
    "plt.figure(figsize=(10,3))\n",
    "plt.plot(dates_0328, counts_0328)"
   ]
  },
  {
   "cell_type": "markdown",
   "metadata": {},
   "source": [
    "### Challenge 5"
   ]
  },
  {
   "cell_type": "code",
   "execution_count": 197,
   "metadata": {
    "collapsed": false
   },
   "outputs": [],
   "source": [
    "day_counts_station_0328 = None\n",
    "day_counts_station_0328 = defaultdict(list)\n",
    "for (ca, scp, _, station), rows in day_counts_0328.items():\n",
    "    tempkey = (ca, scp, station)\n",
    "    day_counts_station_0328[tempkey].append(rows)"
   ]
  },
  {
   "cell_type": "code",
   "execution_count": 198,
   "metadata": {
    "collapsed": false
   },
   "outputs": [
    {
     "data": {
      "text/plain": [
       "(('N325A', 'R218', 'ELMHURST AVE'),\n",
       " [[(datetime.date(2015, 3, 21), 1673),\n",
       "   (datetime.date(2015, 3, 22), 1393),\n",
       "   (datetime.date(2015, 3, 23), 2923),\n",
       "   (datetime.date(2015, 3, 24), 3018),\n",
       "   (datetime.date(2015, 3, 25), 3226),\n",
       "   (datetime.date(2015, 3, 26), 2863),\n",
       "   (datetime.date(2015, 3, 27), 2901)],\n",
       "  [(datetime.date(2015, 3, 21), 151),\n",
       "   (datetime.date(2015, 3, 22), 130),\n",
       "   (datetime.date(2015, 3, 23), 316),\n",
       "   (datetime.date(2015, 3, 24), 248),\n",
       "   (datetime.date(2015, 3, 25), 234),\n",
       "   (datetime.date(2015, 3, 26), 239),\n",
       "   (datetime.date(2015, 3, 27), 179)],\n",
       "  [(datetime.date(2015, 3, 21), 119),\n",
       "   (datetime.date(2015, 3, 22), 106),\n",
       "   (datetime.date(2015, 3, 23), 186),\n",
       "   (datetime.date(2015, 3, 24), 140),\n",
       "   (datetime.date(2015, 3, 25), 163),\n",
       "   (datetime.date(2015, 3, 26), 150),\n",
       "   (datetime.date(2015, 3, 27), 142)],\n",
       "  [(datetime.date(2015, 3, 21), 1670),\n",
       "   (datetime.date(2015, 3, 22), 1363),\n",
       "   (datetime.date(2015, 3, 23), 2455),\n",
       "   (datetime.date(2015, 3, 24), 2653),\n",
       "   (datetime.date(2015, 3, 25), 2665),\n",
       "   (datetime.date(2015, 3, 26), 2447),\n",
       "   (datetime.date(2015, 3, 27), 2549)],\n",
       "  [(datetime.date(2015, 3, 21), 1199),\n",
       "   (datetime.date(2015, 3, 22), 1082),\n",
       "   (datetime.date(2015, 3, 23), 1322),\n",
       "   (datetime.date(2015, 3, 24), 1274),\n",
       "   (datetime.date(2015, 3, 25), 1215),\n",
       "   (datetime.date(2015, 3, 26), 1196),\n",
       "   (datetime.date(2015, 3, 27), 1245)],\n",
       "  [(datetime.date(2015, 3, 21), 41),\n",
       "   (datetime.date(2015, 3, 22), 30),\n",
       "   (datetime.date(2015, 3, 23), 34),\n",
       "   (datetime.date(2015, 3, 24), 39),\n",
       "   (datetime.date(2015, 3, 25), 46),\n",
       "   (datetime.date(2015, 3, 26), 38),\n",
       "   (datetime.date(2015, 3, 27), 57)],\n",
       "  [(datetime.date(2015, 3, 21), 3628),\n",
       "   (datetime.date(2015, 3, 22), 2972),\n",
       "   (datetime.date(2015, 3, 23), 4911),\n",
       "   (datetime.date(2015, 3, 24), 4864),\n",
       "   (datetime.date(2015, 3, 25), 4679),\n",
       "   (datetime.date(2015, 3, 26), 4962),\n",
       "   (datetime.date(2015, 3, 27), 4823)],\n",
       "  [(datetime.date(2015, 3, 21), 33),\n",
       "   (datetime.date(2015, 3, 22), 52),\n",
       "   (datetime.date(2015, 3, 23), 66),\n",
       "   (datetime.date(2015, 3, 24), 62),\n",
       "   (datetime.date(2015, 3, 25), 72),\n",
       "   (datetime.date(2015, 3, 26), 71),\n",
       "   (datetime.date(2015, 3, 27), 57)],\n",
       "  [(datetime.date(2015, 3, 21), 67),\n",
       "   (datetime.date(2015, 3, 22), 60),\n",
       "   (datetime.date(2015, 3, 23), 71),\n",
       "   (datetime.date(2015, 3, 24), 60),\n",
       "   (datetime.date(2015, 3, 25), 70),\n",
       "   (datetime.date(2015, 3, 26), 71),\n",
       "   (datetime.date(2015, 3, 27), 62)],\n",
       "  [(datetime.date(2015, 3, 21), 996),\n",
       "   (datetime.date(2015, 3, 22), 778),\n",
       "   (datetime.date(2015, 3, 23), 1660),\n",
       "   (datetime.date(2015, 3, 24), 1554),\n",
       "   (datetime.date(2015, 3, 25), 1635),\n",
       "   (datetime.date(2015, 3, 26), 1694),\n",
       "   (datetime.date(2015, 3, 27), 1534)],\n",
       "  [(datetime.date(2015, 3, 21), 55),\n",
       "   (datetime.date(2015, 3, 22), 63),\n",
       "   (datetime.date(2015, 3, 23), 109),\n",
       "   (datetime.date(2015, 3, 24), 93),\n",
       "   (datetime.date(2015, 3, 25), 78),\n",
       "   (datetime.date(2015, 3, 26), 101),\n",
       "   (datetime.date(2015, 3, 27), 70)]])"
      ]
     },
     "execution_count": 198,
     "metadata": {},
     "output_type": "execute_result"
    }
   ],
   "source": [
    "day_counts_station_0328.items()[0]"
   ]
  },
  {
   "cell_type": "markdown",
   "metadata": {},
   "source": [
    "### Challenge 6"
   ]
  },
  {
   "cell_type": "code",
   "execution_count": 199,
   "metadata": {
    "collapsed": true
   },
   "outputs": [],
   "source": [
    "for station, turnstiledata in day_counts_station_0328.items():\n",
    "    by_day = {}\n",
    "    for index, turnstile in enumerate(turnstiledata):\n",
    "        for day, count in turnstile:\n",
    "            by_day[day] = by_day.get(day, 0) + count\n",
    "    day_counts_station_0328[station] = sorted(by_day.items())"
   ]
  },
  {
   "cell_type": "code",
   "execution_count": 200,
   "metadata": {
    "collapsed": false
   },
   "outputs": [
    {
     "data": {
      "text/plain": [
       "(('N325A', 'R218', 'ELMHURST AVE'),\n",
       " [(datetime.date(2015, 3, 21), 9632),\n",
       "  (datetime.date(2015, 3, 22), 8029),\n",
       "  (datetime.date(2015, 3, 23), 14053),\n",
       "  (datetime.date(2015, 3, 24), 14005),\n",
       "  (datetime.date(2015, 3, 25), 14083),\n",
       "  (datetime.date(2015, 3, 26), 13832),\n",
       "  (datetime.date(2015, 3, 27), 13619)])"
      ]
     },
     "execution_count": 200,
     "metadata": {},
     "output_type": "execute_result"
    }
   ],
   "source": [
    "day_counts_station_0328.items()[0]"
   ]
  },
  {
   "cell_type": "markdown",
   "metadata": {},
   "source": [
    "### Challenge 7"
   ]
  },
  {
   "cell_type": "code",
   "execution_count": 254,
   "metadata": {
    "collapsed": true
   },
   "outputs": [],
   "source": [
    "station_0328 = sorted(day_counts_station_0328.items())[0][1]"
   ]
  },
  {
   "cell_type": "code",
   "execution_count": 255,
   "metadata": {
    "collapsed": true
   },
   "outputs": [],
   "source": [
    "dates_0328, counts_0328 = zip(*station_0328)"
   ]
  },
  {
   "cell_type": "code",
   "execution_count": 256,
   "metadata": {
    "collapsed": false
   },
   "outputs": [
    {
     "data": {
      "text/plain": [
       "[<matplotlib.lines.Line2D at 0x10a95f510>]"
      ]
     },
     "execution_count": 256,
     "metadata": {},
     "output_type": "execute_result"
    },
    {
     "data": {
      "image/png": "[encoded data removed]",
      "text/plain": [
       "<matplotlib.figure.Figure at 0x13ada6410>"
      ]
     },
     "metadata": {},
     "output_type": "display_data"
    }
   ],
   "source": [
    "plt.figure(figsize=(10,3))\n",
    "plt.plot(dates_0328, counts_0328)"
   ]
  },
  {
   "cell_type": "markdown",
   "metadata": {},
   "source": [
    "### Challenge 8"
   ]
  },
  {
   "cell_type": "code",
   "execution_count": 257,
   "metadata": {
    "collapsed": false
   },
   "outputs": [
    {
     "data": {
      "text/plain": [
       "[<matplotlib.lines.Line2D at 0x137ceecd0>]"
      ]
     },
     "execution_count": 257,
     "metadata": {},
     "output_type": "execute_result"
    },
    {
     "data": {
      "image/png": "[encoded data removed]",
      "text/plain": [
       "<matplotlib.figure.Figure at 0x13833f890>"
      ]
     },
     "metadata": {},
     "output_type": "display_data"
    }
   ],
   "source": [
    "# re order data for weekday view\n",
    "station_0328 = [[day.weekday(), count] for day, count in station_0328]\n",
    "weekday, counts_0328 = zip(*sorted(station_0328))\n",
    "plt.figure(figsize=(10,3))\n",
    "plt.plot(weekday, counts_0328)"
   ]
  },
  {
   "cell_type": "code",
   "execution_count": 258,
   "metadata": {
    "collapsed": false
   },
   "outputs": [
    {
     "name": "stdout",
     "output_type": "stream",
     "text": [
      "191385\n",
      "<type 'list'>\n"
     ]
    }
   ],
   "source": [
    "# get data for week 2\n",
    "\n",
    "with open('turnstile_150404.csv') as f:\n",
    "    reader = csv.reader(f)\n",
    "    rows = [[cell.strip() for cell in row] for row in reader]\n",
    "    \n",
    "assert rows.pop(0) == ['C/A', 'UNIT', 'SCP', 'STATION', 'LINENAME', \n",
    "                       'DIVISION', 'DATE', 'TIME', 'DESC', 'ENTRIES', \n",
    "                       'EXITS']\n",
    "\n",
    "print len(rows)\n",
    "print type(rows)\n",
    "\n",
    "raw_readings_0404 = {}\n",
    "for row in rows:\n",
    "    raw_readings_0404.setdefault(tuple(row[:4]), []).append(row[4:])\n",
    "    \n",
    "datetime_cumulative_0404 = {turnstile: [(datetime.strptime(date + time,\n",
    "                                            '%m/%d/%Y%X'),\n",
    "                                        int(in_cumulative))\n",
    "                                        for _, _, date, time,\n",
    "                                            _, in_cumulative, _ in rows]\n",
    "                 for turnstile, rows in raw_readings_0404.items()}\n",
    "\n",
    "for key, rows in datetime_cumulative_0404.iteritems():\n",
    "    rows = sorted(rows)\n",
    "    \n",
    "datetime_count_times_0404 = {turnstile: [[rows[i][0],\n",
    "                                          rows[i+1][1] - rows[i][1],\n",
    "                                          rows[i+1][0] - rows[i][0]]\n",
    "                                         for i in range(len(rows) - 1)]\n",
    "                    for turnstile, rows in datetime_cumulative_0404.items()}\n",
    "\n",
    "datetime_counts_0404 = {turnstile: [(time, count)\n",
    "                                    for (time, count, _) in rows\n",
    "                                    if 0 <= count <= 5000]\n",
    "                        for turnstile, rows in datetime_count_times_0404.items()}\n",
    "\n",
    "day_counts_0404 = {}\n",
    "for turnstile, rows in datetime_counts_0404.items():\n",
    "    by_day = {}\n",
    "    for time, count in rows:\n",
    "        day = time.date()\n",
    "        by_day[day] = by_day.get(day, 0) + count\n",
    "    day_counts_0404[turnstile] = sorted(by_day.items())\n",
    "    \n",
    "day_counts_station_0404 = None\n",
    "day_counts_station_0404 = defaultdict(list)\n",
    "for (ca, scp, _, station), rows in day_counts_0404.items():\n",
    "    tempkey = (ca, scp, station)\n",
    "    day_counts_station_0404[tempkey].append(rows)\n",
    "    \n",
    "for station, turnstiledata in day_counts_station_0404.items():\n",
    "    by_day = {}\n",
    "    for index, turnstile in enumerate(turnstiledata):\n",
    "        for day, count in turnstile:\n",
    "            by_day[day] = by_day.get(day, 0) + count\n",
    "    day_counts_station_0404[station] = sorted(by_day.items())\n",
    "    \n",
    "station_0404 = sorted(day_counts_station_0404.items())[0][1]\n",
    "\n",
    "station_0404 = [[day.weekday(), count] for day, count in station_0404]\n",
    "weekday, counts_0404 = zip(*sorted(station_0404))"
   ]
  },
  {
   "cell_type": "code",
   "execution_count": 259,
   "metadata": {
    "collapsed": false
   },
   "outputs": [
    {
     "name": "stdout",
     "output_type": "stream",
     "text": [
      "192372\n",
      "<type 'list'>\n"
     ]
    }
   ],
   "source": [
    "# get data for week 3\n",
    "\n",
    "with open('turnstile_150411.csv') as f:\n",
    "    reader = csv.reader(f)\n",
    "    rows = [[cell.strip() for cell in row] for row in reader]\n",
    "    \n",
    "assert rows.pop(0) == ['C/A', 'UNIT', 'SCP', 'STATION', 'LINENAME', \n",
    "                       'DIVISION', 'DATE', 'TIME', 'DESC', 'ENTRIES', \n",
    "                       'EXITS']\n",
    "\n",
    "print len(rows)\n",
    "print type(rows)\n",
    "\n",
    "raw_readings_0411 = {}\n",
    "for row in rows:\n",
    "    raw_readings_0411.setdefault(tuple(row[:4]), []).append(row[4:])\n",
    "    \n",
    "datetime_cumulative_0411 = {turnstile: [(datetime.strptime(date + time,\n",
    "                                            '%m/%d/%Y%X'),\n",
    "                                        int(in_cumulative))\n",
    "                                        for _, _, date, time,\n",
    "                                            _, in_cumulative, _ in rows]\n",
    "                 for turnstile, rows in raw_readings_0411.items()}\n",
    "\n",
    "for key, rows in datetime_cumulative_0411.iteritems():\n",
    "    rows = sorted(rows)\n",
    "    \n",
    "datetime_count_times_0411 = {turnstile: [[rows[i][0],\n",
    "                                          rows[i+1][1] - rows[i][1],\n",
    "                                          rows[i+1][0] - rows[i][0]]\n",
    "                                         for i in range(len(rows) - 1)]\n",
    "                    for turnstile, rows in datetime_cumulative_0411.items()}\n",
    "\n",
    "datetime_counts_0411 = {turnstile: [(time, count)\n",
    "                                    for (time, count, _) in rows\n",
    "                                    if 0 <= count <= 5000]\n",
    "                        for turnstile, rows in datetime_count_times_0411.items()}\n",
    "\n",
    "day_counts_0411 = {}\n",
    "for turnstile, rows in datetime_counts_0411.items():\n",
    "    by_day = {}\n",
    "    for time, count in rows:\n",
    "        day = time.date()\n",
    "        by_day[day] = by_day.get(day, 0) + count\n",
    "    day_counts_0411[turnstile] = sorted(by_day.items())\n",
    "    \n",
    "day_counts_station_0411 = None\n",
    "day_counts_station_0411 = defaultdict(list)\n",
    "for (ca, scp, _, station), rows in day_counts_0411.items():\n",
    "    tempkey = (ca, scp, station)\n",
    "    day_counts_station_0411[tempkey].append(rows)\n",
    "    \n",
    "for station, turnstiledata in day_counts_station_0411.items():\n",
    "    by_day = {}\n",
    "    for index, turnstile in enumerate(turnstiledata):\n",
    "        for day, count in turnstile:\n",
    "            by_day[day] = by_day.get(day, 0) + count\n",
    "    day_counts_station_0411[station] = sorted(by_day.items())\n",
    "    \n",
    "station_0411 = sorted(day_counts_station_0411.items())[0][1]\n",
    "\n",
    "station_0411 = [[day.weekday(), count] for day, count in station_0411]\n",
    "weekday, counts_0411 = zip(*sorted(station_0411))"
   ]
  },
  {
   "cell_type": "code",
   "execution_count": 260,
   "metadata": {
    "collapsed": false
   },
   "outputs": [
    {
     "name": "stdout",
     "output_type": "stream",
     "text": [
      "191662\n",
      "<type 'list'>\n"
     ]
    }
   ],
   "source": [
    "# get data for week 4\n",
    "\n",
    "with open('turnstile_150418.csv') as f:\n",
    "    reader = csv.reader(f)\n",
    "    rows = [[cell.strip() for cell in row] for row in reader]\n",
    "    \n",
    "assert rows.pop(0) == ['C/A', 'UNIT', 'SCP', 'STATION', 'LINENAME', \n",
    "                       'DIVISION', 'DATE', 'TIME', 'DESC', 'ENTRIES', \n",
    "                       'EXITS']\n",
    "\n",
    "print len(rows)\n",
    "print type(rows)\n",
    "\n",
    "raw_readings_0418 = {}\n",
    "for row in rows:\n",
    "    raw_readings_0418.setdefault(tuple(row[:4]), []).append(row[4:])\n",
    "    \n",
    "datetime_cumulative_0418 = {turnstile: [(datetime.strptime(date + time,\n",
    "                                            '%m/%d/%Y%X'),\n",
    "                                        int(in_cumulative))\n",
    "                                        for _, _, date, time,\n",
    "                                            _, in_cumulative, _ in rows]\n",
    "                 for turnstile, rows in raw_readings_0418.items()}\n",
    "\n",
    "for key, rows in datetime_cumulative_0418.iteritems():\n",
    "    rows = sorted(rows)\n",
    "    \n",
    "datetime_count_times_0418 = {turnstile: [[rows[i][0],\n",
    "                                          rows[i+1][1] - rows[i][1],\n",
    "                                          rows[i+1][0] - rows[i][0]]\n",
    "                                         for i in range(len(rows) - 1)]\n",
    "                    for turnstile, rows in datetime_cumulative_0418.items()}\n",
    "\n",
    "datetime_counts_0418 = {turnstile: [(time, count)\n",
    "                                    for (time, count, _) in rows\n",
    "                                    if 0 <= count <= 5000]\n",
    "                        for turnstile, rows in datetime_count_times_0418.items()}\n",
    "\n",
    "day_counts_0418 = {}\n",
    "for turnstile, rows in datetime_counts_0418.items():\n",
    "    by_day = {}\n",
    "    for time, count in rows:\n",
    "        day = time.date()\n",
    "        by_day[day] = by_day.get(day, 0) + count\n",
    "    day_counts_0418[turnstile] = sorted(by_day.items())\n",
    "    \n",
    "day_counts_station_0418 = None\n",
    "day_counts_station_0418 = defaultdict(list)\n",
    "for (ca, scp, _, station), rows in day_counts_0418.items():\n",
    "    tempkey = (ca, scp, station)\n",
    "    day_counts_station_0418[tempkey].append(rows)\n",
    "    \n",
    "for station, turnstiledata in day_counts_station_0418.items():\n",
    "    by_day = {}\n",
    "    for index, turnstile in enumerate(turnstiledata):\n",
    "        for day, count in turnstile:\n",
    "            by_day[day] = by_day.get(day, 0) + count\n",
    "    day_counts_station_0418[station] = sorted(by_day.items())\n",
    "    \n",
    "station_0418 = sorted(day_counts_station_0418.items())[0][1]\n",
    "\n",
    "station_0418 = [[day.weekday(), count] for day, count in station_0418]\n",
    "weekday, counts_0418 = zip(*sorted(station_0418))"
   ]
  },
  {
   "cell_type": "code",
   "execution_count": 274,
   "metadata": {
    "collapsed": false
   },
   "outputs": [
    {
     "data": {
      "image/png": "[encoded data removed]",
      "text/plain": [
       "<matplotlib.figure.Figure at 0x125b0a5d0>"
      ]
     },
     "metadata": {},
     "output_type": "display_data"
    }
   ],
   "source": [
    "#plot weekly counts\n",
    "\n",
    "plt.figure(figsize=(10,3))\n",
    "plt.plot(weekday, counts_0328, label=\"3/28/2015\")\n",
    "plt.plot(weekday, counts_0404, label=\"4/04/2015\")\n",
    "plt.plot(weekday, counts_0411, label=\"4/11/2015\")\n",
    "plt.plot(weekday, counts_0418, label=\"4/18/2015\")\n",
    "plt.title('Total Entires by Weekday')\n",
    "plt.ylabel('Total Entries')\n",
    "plt.xlabel('Weekday')\n",
    "plt.legend(loc=3)\n",
    "plt.show()"
   ]
  },
  {
   "cell_type": "markdown",
   "metadata": {},
   "source": [
    "### Challenge 9"
   ]
  },
  {
   "cell_type": "code",
   "execution_count": 275,
   "metadata": {
    "collapsed": true
   },
   "outputs": [],
   "source": [
    "#combine 4 weeks of data\n",
    "station_list = [day_counts_station_0328, day_counts_station_0404, \n",
    "                day_counts_station_0411, day_counts_station_0418]"
   ]
  },
  {
   "cell_type": "code",
   "execution_count": 276,
   "metadata": {
    "collapsed": true
   },
   "outputs": [],
   "source": [
    "def combine_dics(diclist):\n",
    "    dic_combined = {}\n",
    "    for dic in diclist:\n",
    "        for key, val in dic.iteritems():\n",
    "            if not key in dic_combined:\n",
    "                dic_combined[key] = val\n",
    "            else:\n",
    "                dic_combined[key] = dic_combined[key] + val\n",
    "    return dic_combined"
   ]
  },
  {
   "cell_type": "code",
   "execution_count": 277,
   "metadata": {
    "collapsed": true
   },
   "outputs": [],
   "source": [
    "station_data = combine_dics(station_list)"
   ]
  },
  {
   "cell_type": "code",
   "execution_count": 279,
   "metadata": {
    "collapsed": false
   },
   "outputs": [
    {
     "data": {
      "text/plain": [
       "(('A002', 'R051', 'LEXINGTON AVE'),\n",
       " [(datetime.date(2015, 3, 21), 10938),\n",
       "  (datetime.date(2015, 3, 22), 8686),\n",
       "  (datetime.date(2015, 3, 23), 17298),\n",
       "  (datetime.date(2015, 3, 24), 17829),\n",
       "  (datetime.date(2015, 3, 25), 18618),\n",
       "  (datetime.date(2015, 3, 26), 18391),\n",
       "  (datetime.date(2015, 3, 27), 15564),\n",
       "  (datetime.date(2015, 3, 28), 11286),\n",
       "  (datetime.date(2015, 3, 29), 9082),\n",
       "  (datetime.date(2015, 3, 30), 17859),\n",
       "  (datetime.date(2015, 3, 31), 18319),\n",
       "  (datetime.date(2015, 4, 1), 18894),\n",
       "  (datetime.date(2015, 4, 2), 19148),\n",
       "  (datetime.date(2015, 4, 3), 12577),\n",
       "  (datetime.date(2015, 4, 4), 2365),\n",
       "  (datetime.date(2015, 4, 5), 55),\n",
       "  (datetime.date(2015, 4, 6), 16619),\n",
       "  (datetime.date(2015, 4, 7), 17531),\n",
       "  (datetime.date(2015, 4, 8), 17970),\n",
       "  (datetime.date(2015, 4, 9), 18134),\n",
       "  (datetime.date(2015, 4, 10), 14713),\n",
       "  (datetime.date(2015, 4, 11), 10642),\n",
       "  (datetime.date(2015, 4, 12), 7981),\n",
       "  (datetime.date(2015, 4, 13), 17236),\n",
       "  (datetime.date(2015, 4, 14), 17982),\n",
       "  (datetime.date(2015, 4, 15), 18510),\n",
       "  (datetime.date(2015, 4, 16), 18596),\n",
       "  (datetime.date(2015, 4, 17), 15502)])"
      ]
     },
     "execution_count": 279,
     "metadata": {},
     "output_type": "execute_result"
    }
   ],
   "source": [
    "sorted(station_data.items())[0]"
   ]
  },
  {
   "cell_type": "code",
   "execution_count": 312,
   "metadata": {
    "collapsed": false
   },
   "outputs": [],
   "source": [
    "#reduce to total count for each station over 4 week period\n",
    "station_total_counts = {}\n",
    "for station, days in station_data.items():\n",
    "    for day, count in days:\n",
    "        station_total_counts[station] = (station_total_counts.get(station, 0) \n",
    "                                         + count)"
   ]
  },
  {
   "cell_type": "code",
   "execution_count": 313,
   "metadata": {
    "collapsed": false
   },
   "outputs": [
    {
     "data": {
      "text/plain": [
       "(('A002', 'R051', 'LEXINGTON AVE'), 408325)"
      ]
     },
     "execution_count": 313,
     "metadata": {},
     "output_type": "execute_result"
    }
   ],
   "source": [
    "sorted(station_total_counts.items())[0]"
   ]
  },
  {
   "cell_type": "code",
   "execution_count": 337,
   "metadata": {
    "collapsed": false
   },
   "outputs": [],
   "source": [
    "station_totals = sorted(station_total_counts.items(), key=lambda x: x[1], \n",
    "                        reverse=True)"
   ]
  },
  {
   "cell_type": "markdown",
   "metadata": {},
   "source": [
    "### Challenge 10"
   ]
  },
  {
   "cell_type": "code",
   "execution_count": 339,
   "metadata": {
    "collapsed": false
   },
   "outputs": [
    {
     "data": {
      "text/plain": [
       "(array([ 406.,  199.,   70.,   32.,    9.,    4.,    3.,    1.,    1.,    1.]),\n",
       " array([       0. ,   158744.7,   317489.4,   476234.1,   634978.8,\n",
       "          793723.5,   952468.2,  1111212.9,  1269957.6,  1428702.3,\n",
       "         1587447. ]),\n",
       " <a list of 10 Patch objects>)"
      ]
     },
     "execution_count": 339,
     "metadata": {},
     "output_type": "execute_result"
    },
    {
     "data": {
      "image/png": "[encoded data removed]",
      "text/plain": [
       "<matplotlib.figure.Figure at 0x137989390>"
      ]
     },
     "metadata": {},
     "output_type": "display_data"
    }
   ],
   "source": [
    "# histogram to visualize \n",
    "\n",
    "station, totalcount = zip(*station_totals)\n",
    "plt.hist(totalcount)"
   ]
  },
  {
   "cell_type": "code",
   "execution_count": 353,
   "metadata": {
    "collapsed": false
   },
   "outputs": [
    {
     "data": {
      "text/plain": [
       "<Container object of 15 artists>"
      ]
     },
     "execution_count": 353,
     "metadata": {},
     "output_type": "execute_result"
    },
    {
     "data": {
      "image/png": "[encoded data removed]",
      "text/plain": [
       "<matplotlib.figure.Figure at 0x143dfd050>"
      ]
     },
     "metadata": {},
     "output_type": "display_data"
    }
   ],
   "source": [
    "#plot top 15 stations\n",
    "\n",
    "pos = np.arange(len(totalcount[:15]))\n",
    "width = 1.0\n",
    "\n",
    "ax = plt.axes()\n",
    "ax.set_ylabel('Total Entries')\n",
    "ax.set_xticks(pos + width / 2)\n",
    "ax.set_xticklabels(station[:15])\n",
    "plt.xticks(rotation = 90)\n",
    "plt.title('Top 15 Subway Stations by Entry Volume')\n",
    "\n",
    "indices = range(len(totalcount))\n",
    "plt.bar(indices[:15], totalcount[:15])"
   ]
  }
 ],
 "metadata": {
  "kernelspec": {
   "display_name": "Python 2",
   "language": "python",
   "name": "python2"
  },
  "language_info": {
   "codemirror_mode": {
    "name": "ipython",
    "version": 2
   },
   "file_extension": ".py",
   "mimetype": "text/x-python",
   "name": "python",
   "nbconvert_exporter": "python",
   "pygments_lexer": "ipython2",
   "version": "2.7.10"
  }
 },
 "nbformat": 4,
 "nbformat_minor": 0
}

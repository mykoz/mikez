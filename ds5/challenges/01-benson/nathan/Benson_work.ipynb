{
 "cells": [
  {
   "cell_type": "code",
   "execution_count": 71,
   "metadata": {
    "collapsed": true
   },
   "outputs": [],
   "source": [
    "%matplotlib inline\n",
    "import matplotlib.pyplot as plt\n",
    "from __future__ import division\n",
    "import csv\n",
    "from datetime import datetime\n",
    "from collections import Counter"
   ]
  },
  {
   "cell_type": "code",
   "execution_count": 72,
   "metadata": {
    "collapsed": false
   },
   "outputs": [],
   "source": [
    "# cool way to import files (like command line)\n",
    "# !curl -O http://web.mta.info/developers/data/nyct/turnstile/turnstile_150418.txt"
   ]
  },
  {
   "cell_type": "code",
   "execution_count": 73,
   "metadata": {
    "collapsed": false
   },
   "outputs": [],
   "source": [
    "# %%time\n",
    "\n",
    "# openers = ['turnstile_150418.txt', 'turnstile_150425.txt', 'turnstile_150502.txt', 'turnstile_150509.txt']\n",
    "\n",
    "# readings = []\n",
    "\n",
    "# for i in openers:\n",
    "#     with open(i) as f:\n",
    "#         reader = csv.reader(f)\n",
    "#         rows = [[cell.strip() for cell in row] for row in reader]\n",
    "#         assert rows.pop(0) == ['C/A', 'UNIT', 'SCP', 'STATION', 'LINENAME',\n",
    "#                        'DIVISION', 'DATE', 'TIME', 'DESC', 'ENTRIES',\n",
    "#                        'EXITS']\n",
    "#     readings.append(rows)\n",
    "\n",
    "# dct = {}\n",
    "\n",
    "# for row in readings:\n",
    "#     dct.setdefault(tuple(row[:4]), []).append(row[4:])\n",
    "#     # this produces: \"unhashable type: 'list'\""
   ]
  },
  {
   "cell_type": "code",
   "execution_count": 74,
   "metadata": {
    "collapsed": false
   },
   "outputs": [],
   "source": [
    "# totally violating DRY :(\n",
    "##########################\n",
    "### import 0418 data #####\n",
    "with open('turnstile_150418.txt') as f:\n",
    "    reader = csv.reader(f)\n",
    "    rows = [[cell.strip() for cell in row] for row in reader]\n",
    "    \n",
    "assert rows.pop(0) == ['C/A', 'UNIT', 'SCP', 'STATION', 'LINENAME',\n",
    "                       'DIVISION', 'DATE', 'TIME', 'DESC', 'ENTRIES', 'EXITS']\n",
    "raw_readings_0418 = {}\n",
    "for row in rows:\n",
    "    raw_readings_0418.setdefault(tuple(row[:4]), []).append(row[4:])\n",
    "#########################\n",
    "\n",
    "#########################\n",
    "### import 0425 data ####\n",
    "with open('turnstile_150425.txt') as f:\n",
    "    reader = csv.reader(f)\n",
    "    rows = [[cell.strip() for cell in row] for row in reader]\n",
    "    \n",
    "assert rows.pop(0) == ['C/A', 'UNIT', 'SCP', 'STATION', 'LINENAME',\n",
    "                       'DIVISION', 'DATE', 'TIME', 'DESC', 'ENTRIES', 'EXITS']\n",
    "\n",
    "raw_readings_0425 = {}\n",
    "for row in rows:\n",
    "    raw_readings_0425.setdefault(tuple(row[:4]), []).append(row[4:])\n",
    "#########################\n",
    "\n",
    "#########################\n",
    "### import 0502 data ####\n",
    "with open('turnstile_150502.txt') as f:\n",
    "    reader = csv.reader(f)\n",
    "    rows = [[cell.strip() for cell in row] for row in reader]\n",
    "    \n",
    "assert rows.pop(0) == ['C/A', 'UNIT', 'SCP', 'STATION', 'LINENAME',\n",
    "                       'DIVISION', 'DATE', 'TIME', 'DESC', 'ENTRIES', 'EXITS']\n",
    "raw_readings_0502 = {}\n",
    "for row in rows:\n",
    "    raw_readings_0502.setdefault(tuple(row[:4]), []).append(row[4:])\n",
    "#########################\n",
    "\n",
    "\n",
    "### combine into 0418_0502 data\n",
    "diclist_0418_0502 = [raw_readings_0418, raw_readings_0425 ,raw_readings_0502]\n",
    "\n",
    "def combine_dics(diclist): # thanks Garrett!\n",
    "    dic_combined = {}\n",
    "    for dic in diclist:\n",
    "        for key, val in dic.iteritems():\n",
    "            if not key in dic_combined:\n",
    "                dic_combined[key] = val\n",
    "            else:\n",
    "                dic_combined[key] = dic_combined[key] + val\n",
    "    return dic_combined\n",
    "\n",
    "dic_0418_0502 = combine_dics(diclist_0418_0502)"
   ]
  },
  {
   "cell_type": "code",
   "execution_count": 75,
   "metadata": {
    "collapsed": true
   },
   "outputs": [],
   "source": [
    "raw_readings = dic_0418_0502"
   ]
  },
  {
   "cell_type": "markdown",
   "metadata": {},
   "source": [
    "### Challenge 2\n",
    "Let's turn this into a time series. \n",
    "\n",
    "For each key (basically the control area, unit, device address and station of a specific turnstile), have a list again, but let the list be comprised of just the point in time and the count of entries."
   ]
  },
  {
   "cell_type": "code",
   "execution_count": 76,
   "metadata": {
    "collapsed": false
   },
   "outputs": [],
   "source": [
    "datetime_cumulative = {turnstile: [[datetime.strptime(date + time,\n",
    "                                                      '%m/%d/%Y%X'),\n",
    "                                    int(in_cumulative)]\n",
    "                                   for _, _, date, time,\n",
    "                                       _, in_cumulative, _ in rows]\n",
    "                       for turnstile, rows in raw_readings.items()}"
   ]
  },
  {
   "cell_type": "code",
   "execution_count": 77,
   "metadata": {
    "collapsed": false
   },
   "outputs": [],
   "source": [
    "# inspect data\n",
    "#datetime_cumulative.items()[0]"
   ]
  },
  {
   "cell_type": "code",
   "execution_count": 78,
   "metadata": {
    "collapsed": true
   },
   "outputs": [],
   "source": [
    "for rows in datetime_cumulative.values():\n",
    "    assert rows == sorted(rows)"
   ]
  },
  {
   "cell_type": "code",
   "execution_count": 79,
   "metadata": {
    "collapsed": false
   },
   "outputs": [],
   "source": [
    "datetime_count_times = {turnstile: [[rows[i][0],\n",
    "                                    rows[i+1][1] - rows[i][1],\n",
    "                                    rows[i+1][0] - rows[i][0]]\n",
    "                                     for i in range(len(rows) -1)]\n",
    "                        for turnstile, rows in datetime_cumulative.items()}"
   ]
  },
  {
   "cell_type": "code",
   "execution_count": 80,
   "metadata": {
    "collapsed": false,
    "scrolled": false
   },
   "outputs": [
    {
     "name": "stdout",
     "output_type": "stream",
     "text": [
      "[3008, 3027, 3049, 3050, 3065, 3075, 3102, 3107, 3118, 3148, 3198, 3400, 3677, 3727, 3823, 4117, 4150, 4270, 4730, 4831, 5037, 5050, 6608, 7074, 7179, 7596, 7779, 7818, 8610, 11728, 12982, 15248, 21585, 40637, 41825, 280665, 280665, 447244, 447792, 448280, 8553144, 23621940, 50331614, 83567603, 116981760, 117439432, 167770787, 1153104117, 1395619898, 1654488698]\n"
     ]
    }
   ],
   "source": [
    "all_counts = [count for rows in datetime_count_times.values() for _, count, _ in rows]\n",
    "all_counts.sort()\n",
    "print all_counts[-50:]"
   ]
  },
  {
   "cell_type": "code",
   "execution_count": 81,
   "metadata": {
    "collapsed": false
   },
   "outputs": [
    {
     "name": "stdout",
     "output_type": "stream",
     "text": [
      "[(4.0, 527494), (4.2, 32287), (8.0, 645), (4.433333333333334, 470), (0.23333333333333334, 241), (0.02222222222222222, 227), (0.022500000000000003, 80), (0.02277777777777778, 52), (3.999722222222222, 48), (4.000277777777778, 47)]\n"
     ]
    }
   ],
   "source": [
    "all_times = [duration.total_seconds() / 60 / 60\n",
    "             for rows in datetime_count_times.values()\n",
    "             for _, _, duration in rows]\n",
    "print Counter(all_times).most_common(10)"
   ]
  },
  {
   "cell_type": "code",
   "execution_count": 82,
   "metadata": {
    "collapsed": true
   },
   "outputs": [],
   "source": [
    "datetime_counts = {turnstile:[(time, count)\n",
    "                             for time, count, _ in rows\n",
    "                            if 0<= count <= 5000]\n",
    "                   for turnstile, rows in datetime_count_times.items()\n",
    "                  }"
   ]
  },
  {
   "cell_type": "markdown",
   "metadata": {},
   "source": [
    "### Challenge 3\n",
    "\n",
    "These counts are for every n hours. (What is n?) We want total daily entries.\n",
    "\n",
    "Now make it that we again have the same keys, but now we have a single value for a single day, which is the total number of passengers that entered through this turnstile on this day."
   ]
  },
  {
   "cell_type": "code",
   "execution_count": 83,
   "metadata": {
    "collapsed": false
   },
   "outputs": [],
   "source": [
    "day_counts = {}\n",
    "for turnstile, rows in datetime_counts.items():\n",
    "    byDay = {}\n",
    "    for time, count in rows:\n",
    "        day = time.date()\n",
    "        byDay[day] = byDay.get(day, 0) + count\n",
    "    day_counts[turnstile] = sorted(byDay.items())"
   ]
  },
  {
   "cell_type": "code",
   "execution_count": 84,
   "metadata": {
    "collapsed": true
   },
   "outputs": [],
   "source": [
    "# inspect data\n",
    "#sorted(day_counts.items()[:4])"
   ]
  },
  {
   "cell_type": "markdown",
   "metadata": {},
   "source": [
    "### Challenge 4\n",
    "\n",
    "We will plot the daily time series for a turnstile."
   ]
  },
  {
   "cell_type": "code",
   "execution_count": 85,
   "metadata": {
    "collapsed": false
   },
   "outputs": [
    {
     "data": {
      "image/png": "[encoded data removed]",
      "text/plain": [
       "<matplotlib.figure.Figure at 0x12d20fb10>"
      ]
     },
     "metadata": {},
     "output_type": "display_data"
    }
   ],
   "source": [
    "turnstile = day_counts.values()[1] # this is just for one turnstile\n",
    "\n",
    "dates = []\n",
    "counts = []\n",
    "\n",
    "for x, y in turnstile:\n",
    "    dates.append(x)\n",
    "    counts.append(y)\n",
    "\n",
    "\n",
    "with plt.style.context('fivethirtyeight'):\n",
    "    plt.figure(figsize=(10,3))\n",
    "    plt.ylabel('Traffic')\n",
    "    plt.title(day_counts.keys()[1]) # title of graph\n",
    "    plt.plot(dates,counts) # data for the graph\n",
    "\n",
    "plt.show()"
   ]
  },
  {
   "cell_type": "markdown",
   "metadata": {},
   "source": [
    "### Challenge 5\n",
    "So far we've been operating on a single turnstile level, let's combine turnstiles in the same ControlArea/Unit/Station combo. There are some ControlArea/Unit/Station groups that have a single turnstile, but most have multiple turnstilea-- same value for the C/A, UNIT and STATION columns, different values for the SCP column.\n",
    "\n",
    "We want to combine the numbers together -- for each ControlArea / UNIT / STATION combo, for each day, add the counts from each turnstile belonging to that combo."
   ]
  },
  {
   "cell_type": "code",
   "execution_count": 86,
   "metadata": {
    "collapsed": false
   },
   "outputs": [],
   "source": [
    "## Add up by turnstiles\n",
    "crunched_dict = {}\n",
    "\n",
    "for old_key, old_value in day_counts.items():\n",
    "    new_key = (old_key[0], old_key[1], old_key[3])\n",
    "    crunched_dict[new_key] = crunched_dict.get(new_key, []) + old_value\n",
    "\n",
    "# this solves the problem of adding up by turnstiles, but not aggregating by day"
   ]
  },
  {
   "cell_type": "code",
   "execution_count": 87,
   "metadata": {
    "collapsed": false
   },
   "outputs": [],
   "source": [
    "# now group the new keys by day\n",
    "crunched_dict_right ={}\n",
    "\n",
    "for new_turn, new_value in crunched_dict.items():\n",
    "    by_day ={}\n",
    "    for time, count in new_value:\n",
    "        by_day[time] = by_day.get(time, 0) + count\n",
    "    crunched_dict_right[new_turn] = sorted(by_day.items())\n",
    "\n",
    "#inspect data\n",
    "#crunched_dict_right.items()[:2]"
   ]
  },
  {
   "cell_type": "markdown",
   "metadata": {},
   "source": [
    "## Challenge 6\n",
    "Similarly, combine everything in each station, and come up with a time series of `[(date1, count1),(date2,count2),...]` type of time series for each STATION, by adding up all the turnstiles in a station."
   ]
  },
  {
   "cell_type": "code",
   "execution_count": 88,
   "metadata": {
    "collapsed": true
   },
   "outputs": [],
   "source": [
    "## Add up by stations\n",
    "station_dict = {}\n",
    "\n",
    "for old_key, old_value in crunched_dict_right.items():\n",
    "    new_key = (old_key[2])\n",
    "    station_dict[new_key] = station_dict.get(new_key, []) + old_value\n",
    "\n",
    "# this solves the problem of adding up by station, but not aggregating by day"
   ]
  },
  {
   "cell_type": "code",
   "execution_count": 89,
   "metadata": {
    "collapsed": false
   },
   "outputs": [],
   "source": [
    "# Now collapse by day\n",
    "crunched_by_station ={}\n",
    "\n",
    "for new_turn, new_value in station_dict.items():\n",
    "    by_day ={}\n",
    "    for time, count in new_value:\n",
    "        by_day[time] = by_day.get(time, 0) + count\n",
    "    crunched_by_station[new_turn] = sorted(by_day.items())"
   ]
  },
  {
   "cell_type": "markdown",
   "metadata": {},
   "source": [
    "## Challenge 7\n",
    "Plot the time series for a station."
   ]
  },
  {
   "cell_type": "code",
   "execution_count": 90,
   "metadata": {
    "collapsed": false,
    "scrolled": true
   },
   "outputs": [
    {
     "data": {
      "image/png": "[encoded data removed]",
      "text/plain": [
       "<matplotlib.figure.Figure at 0x12d20f150>"
      ]
     },
     "metadata": {},
     "output_type": "display_data"
    }
   ],
   "source": [
    "# select a station by i\n",
    "\n",
    "i = 2\n",
    "\n",
    "station = crunched_by_station.values()[i] \n",
    "\n",
    "dates = []\n",
    "counts = []\n",
    "\n",
    "for x, y in station:\n",
    "    dates.append(x)\n",
    "    counts.append(y)\n",
    "\n",
    "with plt.style.context('fivethirtyeight'):\n",
    "    plt.figure(figsize=(10,3))\n",
    "    plt.ylabel('Traffic')\n",
    "    plt.title(crunched_by_station.keys()[i]) # title of graph\n",
    "    plt.plot(dates,counts) # data for the graph\n",
    "\n",
    "plt.show()"
   ]
  },
  {
   "cell_type": "markdown",
   "metadata": {},
   "source": [
    "## Challenge 8\n",
    "Make one list of counts for one week for one station. Monday's count, Tuesday's count, etc. so it's a list of 7 counts. Make the same list for another week, and another week, and another week. `plt.plot(week_count_list)` for every `week_count_list` you created this way. You should get a rainbow plot of weekly commute numbers on top of each other."
   ]
  },
  {
   "cell_type": "code",
   "execution_count": 91,
   "metadata": {
    "collapsed": false
   },
   "outputs": [],
   "source": [
    "def week_count(start=0, stop=7):\n",
    "    \n",
    "    week_count_list = [] # just a list for one station, one week\n",
    "\n",
    "    for time, value in crunched_by_station.items()[1][1][start:stop]:\n",
    "        #day = time.strftime(\"%a\")\n",
    "        week_count_list.append([time.weekday(), value])\n",
    "\n",
    "    return week_count_list"
   ]
  },
  {
   "cell_type": "code",
   "execution_count": 93,
   "metadata": {
    "collapsed": false
   },
   "outputs": [
    {
     "data": {
      "image/png": "[encoded data removed]",
      "text/plain": [
       "<matplotlib.figure.Figure at 0x12cf61fd0>"
      ]
     },
     "metadata": {},
     "output_type": "display_data"
    }
   ],
   "source": [
    "# plot three weeks\n",
    "\n",
    "#labels = ['Sat', 'Sun', 'Mon', 'Tues', 'Wed', 'Thurs', 'Fri']\n",
    "with plt.style.context('fivethirtyeight'):\n",
    "    plt.figure(figsize=(10,3))\n",
    "    plt.ylabel('Traffic')\n",
    "    #plt.xticks(labels) this didn't work\n",
    "    plt.title(crunched_by_station.items()[0][0]) # title of graph\n",
    "    plt.plot(week_count()) \n",
    "    plt.plot(week_count(7,14))\n",
    "    plt.plot(week_count(14,21))\n",
    "plt.show()"
   ]
  },
  {
   "cell_type": "markdown",
   "metadata": {},
   "source": [
    "## Challenge 9\n",
    "Over multiple weeks, sum total ridership for each station and sort them, so you can find out the stations with the highest traffic during the time you investigate"
   ]
  },
  {
   "cell_type": "code",
   "execution_count": 94,
   "metadata": {
    "collapsed": false
   },
   "outputs": [
    {
     "data": {
      "text/plain": [
       "[('BOYD-88 ST', 52303),\n",
       " ('NEWKIRK PLAZA', 212300),\n",
       " ('PATH WTC', 821464),\n",
       " ('TREMONT AVE', 188958),\n",
       " ('22 AVE-BAY PKY', 30666)]"
      ]
     },
     "execution_count": 94,
     "metadata": {},
     "output_type": "execute_result"
    }
   ],
   "source": [
    "# combine counts for the 3 weeks by station\n",
    "big_dict ={}\n",
    "for k, v in crunched_by_station.items():\n",
    "    tot = sum([val[1] for val in v])\n",
    "    big_dict[k] = (tot)\n",
    "    \n",
    "big_dict.items()[:5]"
   ]
  },
  {
   "cell_type": "code",
   "execution_count": 95,
   "metadata": {
    "collapsed": false
   },
   "outputs": [],
   "source": [
    "# sort the dictionary by values in decending order\n",
    "top_5 = sorted(big_dict.items(), key = lambda x:x[1], reverse = True)[:5]"
   ]
  },
  {
   "cell_type": "code",
   "execution_count": 96,
   "metadata": {
    "collapsed": false
   },
   "outputs": [
    {
     "data": {
      "text/plain": [
       "[('34 ST-PENN STA', 3258516),\n",
       " ('42 ST-GRD CNTRL', 2787193),\n",
       " ('34 ST-HERALD SQ', 2263108),\n",
       " ('86 ST', 2185198),\n",
       " ('14 ST-UNION SQ', 2131164)]"
      ]
     },
     "execution_count": 96,
     "metadata": {},
     "output_type": "execute_result"
    }
   ],
   "source": [
    "top_5"
   ]
  },
  {
   "cell_type": "markdown",
   "metadata": {},
   "source": [
    "## Challenge 10\n",
    "Make a single list of these total ridership values and plot it with `plt.hist(total_ridership_counts)` to get an idea about the distribution of total ridership among different stations.\n",
    "\n",
    "This should show you that most stations have a small traffic, and the histogram bins for large traffic volumes have small bars."
   ]
  },
  {
   "cell_type": "code",
   "execution_count": 97,
   "metadata": {
    "collapsed": false
   },
   "outputs": [
    {
     "data": {
      "text/plain": [
       "[52303, 212300, 821464, 188958]"
      ]
     },
     "execution_count": 97,
     "metadata": {},
     "output_type": "execute_result"
    }
   ],
   "source": [
    "# make a list of the ridership values from stations\n",
    "\n",
    "ridership_vals = [val for _, val in big_dict.items()]\n",
    "ridership_vals[:4]"
   ]
  },
  {
   "cell_type": "code",
   "execution_count": 98,
   "metadata": {
    "collapsed": false
   },
   "outputs": [
    {
     "data": {
      "image/png": "[encoded data removed]",
      "text/plain": [
       "<matplotlib.figure.Figure at 0x12e026dd0>"
      ]
     },
     "metadata": {},
     "output_type": "display_data"
    }
   ],
   "source": [
    "plt.figure(figsize=(10,3))\n",
    "plt.hist(ridership_vals)\n",
    "plt.show()"
   ]
  },
  {
   "cell_type": "code",
   "execution_count": 99,
   "metadata": {
    "collapsed": false
   },
   "outputs": [
    {
     "data": {
      "image/png": "[encoded data removed]",
      "text/plain": [
       "<matplotlib.figure.Figure at 0x12cb7b5d0>"
      ]
     },
     "metadata": {},
     "output_type": "display_data"
    }
   ],
   "source": [
    "places = []\n",
    "counts = []\n",
    "\n",
    "indices = range(len(top_5))\n",
    "\n",
    "for x, y in top_5:\n",
    "    places.append(x)\n",
    "    counts.append(y)\n",
    "    \n",
    "plt.bar(indices, counts)\n",
    "plt.xlabel('Top 5 Stations')\n",
    "plt.ylabel('Turnstile traffic')\n",
    "plt.show()\n",
    "# Sadly I was unable to figure out how to make this graph have the right labels :("
   ]
  }
 ],
 "metadata": {
  "kernelspec": {
   "display_name": "Python 2",
   "language": "python",
   "name": "python2"
  },
  "language_info": {
   "codemirror_mode": {
    "name": "ipython",
    "version": 2
   },
   "file_extension": ".py",
   "mimetype": "text/x-python",
   "name": "python",
   "nbconvert_exporter": "python",
   "pygments_lexer": "ipython2",
   "version": "2.7.10"
  }
 },
 "nbformat": 4,
 "nbformat_minor": 0
}

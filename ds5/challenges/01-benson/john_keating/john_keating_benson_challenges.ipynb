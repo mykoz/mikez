{
 "cells": [
  {
   "cell_type": "markdown",
   "metadata": {},
   "source": [
    "### John Keating Benson Challenges\n",
    "### "
   ]
  },
  {
   "cell_type": "code",
   "execution_count": 1,
   "metadata": {
    "collapsed": true
   },
   "outputs": [],
   "source": [
    "from __future__ import division\n",
    "import csv\n",
    "from datetime import datetime\n",
    "from collections import Counter\n",
    "import pandas as pd"
   ]
  },
  {
   "cell_type": "markdown",
   "metadata": {},
   "source": [
    "### Challenge _1_"
   ]
  },
  {
   "cell_type": "code",
   "execution_count": 2,
   "metadata": {
    "collapsed": true
   },
   "outputs": [],
   "source": [
    "# function to read in the csv file\n",
    "def get_turnstiles(dates):\n",
    "    url = 'http://web.mta.info/developers/data/nyct/turnstile/turnstile_'\n",
    "    extension = '.txt'\n",
    "    url_list = []\n",
    "\n",
    "    for date in dates:\n",
    "        url_list.append(url + date + extension)\n",
    "\n",
    "    df = pd.DataFrame()\n",
    "\n",
    "    for t in url_list:\n",
    "        week = pd.read_csv(t)\n",
    "        \n",
    "        frames = [df, week]\n",
    "        \n",
    "        df = pd.concat(frames, axis=0, ignore_index=True)\n",
    "        \n",
    "    return df"
   ]
  },
  {
   "cell_type": "code",
   "execution_count": 3,
   "metadata": {
    "collapsed": true
   },
   "outputs": [],
   "source": [
    "dates = ['150502', '150509','150516','150523','150530']"
   ]
  },
  {
   "cell_type": "code",
   "execution_count": 4,
   "metadata": {
    "collapsed": false
   },
   "outputs": [
    {
     "name": "stdout",
     "output_type": "stream",
     "text": [
      "CPU times: user 1 µs, sys: 0 ns, total: 1 µs\n",
      "Wall time: 4.05 µs\n"
     ]
    },
    {
     "data": {
      "text/html": [
       "<div>\n",
       "<table border=\"1\" class=\"dataframe\">\n",
       "  <thead>\n",
       "    <tr style=\"text-align: right;\">\n",
       "      <th></th>\n",
       "      <th>C/A</th>\n",
       "      <th>UNIT</th>\n",
       "      <th>SCP</th>\n",
       "      <th>STATION</th>\n",
       "      <th>LINENAME</th>\n",
       "      <th>DIVISION</th>\n",
       "      <th>DATE</th>\n",
       "      <th>TIME</th>\n",
       "      <th>DESC</th>\n",
       "      <th>ENTRIES</th>\n",
       "      <th>EXITS</th>\n",
       "    </tr>\n",
       "  </thead>\n",
       "  <tbody>\n",
       "    <tr>\n",
       "      <th>0</th>\n",
       "      <td>A002</td>\n",
       "      <td>R051</td>\n",
       "      <td>02-00-00</td>\n",
       "      <td>LEXINGTON AVE</td>\n",
       "      <td>NQR456</td>\n",
       "      <td>BMT</td>\n",
       "      <td>04/25/2015</td>\n",
       "      <td>00:00:00</td>\n",
       "      <td>REGULAR</td>\n",
       "      <td>5106770</td>\n",
       "      <td>1729635</td>\n",
       "    </tr>\n",
       "    <tr>\n",
       "      <th>1</th>\n",
       "      <td>A002</td>\n",
       "      <td>R051</td>\n",
       "      <td>02-00-00</td>\n",
       "      <td>LEXINGTON AVE</td>\n",
       "      <td>NQR456</td>\n",
       "      <td>BMT</td>\n",
       "      <td>04/25/2015</td>\n",
       "      <td>04:00:00</td>\n",
       "      <td>REGULAR</td>\n",
       "      <td>5106810</td>\n",
       "      <td>1729649</td>\n",
       "    </tr>\n",
       "    <tr>\n",
       "      <th>2</th>\n",
       "      <td>A002</td>\n",
       "      <td>R051</td>\n",
       "      <td>02-00-00</td>\n",
       "      <td>LEXINGTON AVE</td>\n",
       "      <td>NQR456</td>\n",
       "      <td>BMT</td>\n",
       "      <td>04/25/2015</td>\n",
       "      <td>08:00:00</td>\n",
       "      <td>REGULAR</td>\n",
       "      <td>5106835</td>\n",
       "      <td>1729680</td>\n",
       "    </tr>\n",
       "    <tr>\n",
       "      <th>3</th>\n",
       "      <td>A002</td>\n",
       "      <td>R051</td>\n",
       "      <td>02-00-00</td>\n",
       "      <td>LEXINGTON AVE</td>\n",
       "      <td>NQR456</td>\n",
       "      <td>BMT</td>\n",
       "      <td>04/25/2015</td>\n",
       "      <td>12:00:00</td>\n",
       "      <td>REGULAR</td>\n",
       "      <td>5106961</td>\n",
       "      <td>1729784</td>\n",
       "    </tr>\n",
       "    <tr>\n",
       "      <th>4</th>\n",
       "      <td>A002</td>\n",
       "      <td>R051</td>\n",
       "      <td>02-00-00</td>\n",
       "      <td>LEXINGTON AVE</td>\n",
       "      <td>NQR456</td>\n",
       "      <td>BMT</td>\n",
       "      <td>04/25/2015</td>\n",
       "      <td>16:00:00</td>\n",
       "      <td>REGULAR</td>\n",
       "      <td>5107250</td>\n",
       "      <td>1729858</td>\n",
       "    </tr>\n",
       "  </tbody>\n",
       "</table>\n",
       "</div>"
      ],
      "text/plain": [
       "    C/A  UNIT       SCP        STATION LINENAME DIVISION        DATE  \\\n",
       "0  A002  R051  02-00-00  LEXINGTON AVE   NQR456      BMT  04/25/2015   \n",
       "1  A002  R051  02-00-00  LEXINGTON AVE   NQR456      BMT  04/25/2015   \n",
       "2  A002  R051  02-00-00  LEXINGTON AVE   NQR456      BMT  04/25/2015   \n",
       "3  A002  R051  02-00-00  LEXINGTON AVE   NQR456      BMT  04/25/2015   \n",
       "4  A002  R051  02-00-00  LEXINGTON AVE   NQR456      BMT  04/25/2015   \n",
       "\n",
       "       TIME     DESC  ENTRIES  \\\n",
       "0  00:00:00  REGULAR  5106770   \n",
       "1  04:00:00  REGULAR  5106810   \n",
       "2  08:00:00  REGULAR  5106835   \n",
       "3  12:00:00  REGULAR  5106961   \n",
       "4  16:00:00  REGULAR  5107250   \n",
       "\n",
       "   EXITS                                                                 \n",
       "0                                            1729635                     \n",
       "1                                            1729649                     \n",
       "2                                            1729680                     \n",
       "3                                            1729784                     \n",
       "4                                            1729858                     "
      ]
     },
     "execution_count": 4,
     "metadata": {},
     "output_type": "execute_result"
    }
   ],
   "source": [
    "%time\n",
    "df = get_turnstiles(dates)\n",
    "df.head()"
   ]
  },
  {
   "cell_type": "code",
   "execution_count": 5,
   "metadata": {
    "collapsed": true
   },
   "outputs": [],
   "source": [
    "# strip out all of the white space and lowercase the column names\n",
    "def strip_white(df):\n",
    "    df.rename(columns= lambda x: x.strip().lower(), inplace= True)\n",
    "    return df"
   ]
  },
  {
   "cell_type": "code",
   "execution_count": 6,
   "metadata": {
    "collapsed": false
   },
   "outputs": [
    {
     "data": {
      "text/plain": [
       "Index([u'c/a', u'unit', u'scp', u'station', u'linename', u'division', u'date',\n",
       "       u'time', u'desc', u'entries', u'exits'],\n",
       "      dtype='object')"
      ]
     },
     "execution_count": 6,
     "metadata": {},
     "output_type": "execute_result"
    }
   ],
   "source": [
    "df = strip_white(df)\n",
    "df.columns"
   ]
  },
  {
   "cell_type": "code",
   "execution_count": 7,
   "metadata": {
    "collapsed": false
   },
   "outputs": [
    {
     "ename": "IndentationError",
     "evalue": "unexpected indent (<ipython-input-7-90f92986ba96>, line 5)",
     "output_type": "error",
     "traceback": [
      "\u001b[0;36m  File \u001b[0;32m\"<ipython-input-7-90f92986ba96>\"\u001b[0;36m, line \u001b[0;32m5\u001b[0m\n\u001b[0;31m    df_dict = df.set_index(key_list).T.to_dict('list')\u001b[0m\n\u001b[0m    ^\u001b[0m\n\u001b[0;31mIndentationError\u001b[0m\u001b[0;31m:\u001b[0m unexpected indent\n"
     ]
    }
   ],
   "source": [
    "# produce a dictionary with the first 4 columns as keys\n",
    "# the rest of the columns will be lists of lists\n",
    "\n",
    "#def turnstiles_dict(df, key_list):\n",
    "    df_dict = df.set_index(key_list).T.to_dict('list')\n",
    "    return df_dict\n",
    "\n",
    "#%time\n",
    "dict_turnstiles = turnstiles_dict(df, ['c/a', 'unit', 'scp', 'station'])\n",
    "print dict_turnstiles.items()[100]\n",
    "\n",
    "print dict_turnstiles.items()[0]\n",
    "\n",
    "it is only produceing 1 list per dictionary key. It must be overwriting previous columns - will only work if everything is unique\n",
    "\n",
    "%time\n",
    "#def turnstiles_dict_zip(df):\n",
    "    df_dict = dict(zip())\n",
    "\n",
    "%time\n",
    "#def turnstiles_dict_looping(df):\n",
    "    df_dict = {}\n",
    "    for row in df.iterrows():\n",
    "        df_dict."
   ]
  },
  {
   "cell_type": "code",
   "execution_count": 8,
   "metadata": {
    "collapsed": false
   },
   "outputs": [],
   "source": [
    "key_list = ['c/a', 'unit', 'scp', 'station']\n",
    "item_list = ['linename', 'division', 'date', 'time', 'desc', 'entries', 'exits']\n",
    "dt = {x: g[item_list].values.tolist() for x,g in df.groupby(key_list)}"
   ]
  },
  {
   "cell_type": "code",
   "execution_count": 9,
   "metadata": {
    "collapsed": false
   },
   "outputs": [
    {
     "name": "stdout",
     "output_type": "stream",
     "text": [
      "('A030', 'R083', '01-06-00', '23 ST-5 AVE')\n",
      "['NR', 'BMT', '04/25/2015', '00:00:00', 'REGULAR', 5825571, 3246989]\n"
     ]
    }
   ],
   "source": [
    "print dt.items()[0][0]\n",
    "print dt.items()[0][1][0]"
   ]
  },
  {
   "cell_type": "markdown",
   "metadata": {},
   "source": [
    "#### dt is the answer for challenge 1"
   ]
  },
  {
   "cell_type": "markdown",
   "metadata": {},
   "source": [
    "### Challenge 2"
   ]
  },
  {
   "cell_type": "code",
   "execution_count": 10,
   "metadata": {
    "collapsed": false
   },
   "outputs": [],
   "source": [
    "dt_datetime = {turnstile:\n",
    "               [(datetime.strptime(date + time, '%m/%d/%Y%X'),\n",
    "               int(entries))\n",
    "                for _, _, date, time, _, entries, _ in rows]\n",
    "              for turnstile, rows in dt.items()}"
   ]
  },
  {
   "cell_type": "code",
   "execution_count": 11,
   "metadata": {
    "collapsed": false
   },
   "outputs": [
    {
     "name": "stdout",
     "output_type": "stream",
     "text": [
      "('A030', 'R083', '01-06-00', '23 ST-5 AVE')\n",
      "[(datetime.datetime(2015, 4, 25, 0, 0), 5825571), (datetime.datetime(2015, 4, 25, 4, 0), 5825639), (datetime.datetime(2015, 4, 25, 8, 0), 5825667)]\n"
     ]
    }
   ],
   "source": [
    "print dt_datetime.items()[0][0]\n",
    "print dt_datetime.items()[0][1][0:3]"
   ]
  },
  {
   "cell_type": "markdown",
   "metadata": {},
   "source": [
    "#### dt_datetime is the answer for Challenge 2"
   ]
  },
  {
   "cell_type": "markdown",
   "metadata": {},
   "source": [
    "### Challenge 3"
   ]
  },
  {
   "cell_type": "code",
   "execution_count": 12,
   "metadata": {
    "collapsed": false
   },
   "outputs": [
    {
     "name": "stdout",
     "output_type": "stream",
     "text": [
      "CPU times: user 3 µs, sys: 16 µs, total: 19 µs\n",
      "Wall time: 8.11 µs\n"
     ]
    }
   ],
   "source": [
    "%time\n",
    "dt_days = {}\n",
    "for turnstile, row in dt_datetime.items():\n",
    "    day_dict = {}\n",
    "    for time, entries in row:\n",
    "        day = time.date()\n",
    "        day_dict[day] = day_dict.get(day, 0) + entries\n",
    "    dt_days[turnstile] = sorted(day_dict.items())"
   ]
  },
  {
   "cell_type": "code",
   "execution_count": 13,
   "metadata": {
    "collapsed": false
   },
   "outputs": [
    {
     "data": {
      "text/plain": [
       "(('A030', 'R083', '01-06-00', '23 ST-5 AVE'),\n",
       " [(datetime.date(2015, 4, 25), 34955221),\n",
       "  (datetime.date(2015, 4, 26), 34961606),\n",
       "  (datetime.date(2015, 4, 27), 34969448),\n",
       "  (datetime.date(2015, 4, 28), 34984866),\n",
       "  (datetime.date(2015, 4, 29), 35001457),\n",
       "  (datetime.date(2015, 4, 30), 35018420),\n",
       "  (datetime.date(2015, 5, 1), 35034754),\n",
       "  (datetime.date(2015, 5, 2), 35047976),\n",
       "  (datetime.date(2015, 5, 3), 35054950),\n",
       "  (datetime.date(2015, 5, 4), 35063051),\n",
       "  (datetime.date(2015, 5, 5), 35078964),\n",
       "  (datetime.date(2015, 5, 6), 35095442),\n",
       "  (datetime.date(2015, 5, 7), 35111766),\n",
       "  (datetime.date(2015, 5, 8), 35126854),\n",
       "  (datetime.date(2015, 5, 9), 35138346),\n",
       "  (datetime.date(2015, 5, 10), 29286316),\n",
       "  (datetime.date(2015, 5, 12), 17575346),\n",
       "  (datetime.date(2015, 5, 13), 35162596),\n",
       "  (datetime.date(2015, 5, 14), 35179947),\n",
       "  (datetime.date(2015, 5, 15), 35196843),\n",
       "  (datetime.date(2015, 5, 16), 35209591),\n",
       "  (datetime.date(2015, 5, 17), 35216130),\n",
       "  (datetime.date(2015, 5, 18), 35223529),\n",
       "  (datetime.date(2015, 5, 19), 35238836),\n",
       "  (datetime.date(2015, 5, 20), 35254517),\n",
       "  (datetime.date(2015, 5, 21), 35270961),\n",
       "  (datetime.date(2015, 5, 22), 35286704),\n",
       "  (datetime.date(2015, 5, 23), 35296929),\n",
       "  (datetime.date(2015, 5, 24), 35301634),\n",
       "  (datetime.date(2015, 5, 25), 35305552),\n",
       "  (datetime.date(2015, 5, 26), 35312154),\n",
       "  (datetime.date(2015, 5, 27), 35326961),\n",
       "  (datetime.date(2015, 5, 28), 35343258),\n",
       "  (datetime.date(2015, 5, 29), 35358408)])"
      ]
     },
     "execution_count": 13,
     "metadata": {},
     "output_type": "execute_result"
    }
   ],
   "source": [
    "dt_days.items()[0]"
   ]
  },
  {
   "cell_type": "markdown",
   "metadata": {},
   "source": [
    "#### dt_days is the answer for Challenge 3"
   ]
  },
  {
   "cell_type": "markdown",
   "metadata": {},
   "source": [
    "### Challenge 4"
   ]
  },
  {
   "cell_type": "code",
   "execution_count": 14,
   "metadata": {
    "collapsed": false
   },
   "outputs": [
    {
     "data": {
      "text/plain": [
       "[<matplotlib.lines.Line2D at 0x10b25a250>]"
      ]
     },
     "execution_count": 14,
     "metadata": {},
     "output_type": "execute_result"
    },
    {
     "data": {
      "image/png": "[encoded data removed]",
      "text/plain": [
       "<matplotlib.figure.Figure at 0x10c8f3b10>"
      ]
     },
     "metadata": {},
     "output_type": "display_data"
    }
   ],
   "source": [
    "%matplotlib inline\n",
    "import matplotlib.pyplot as plt\n",
    "\n",
    "dates = []\n",
    "counts = []\n",
    "\n",
    "for day in dt_days.items()[0][1]:\n",
    "    dates.append(day[0])\n",
    "    counts.append(day[1])\n",
    "\n",
    "plt.figure(figsize=(10,3))\n",
    "plt.plot(dates,counts)"
   ]
  },
  {
   "cell_type": "markdown",
   "metadata": {},
   "source": [
    "### Challenge 5 and 6"
   ]
  },
  {
   "cell_type": "code",
   "execution_count": 15,
   "metadata": {
    "collapsed": false
   },
   "outputs": [],
   "source": [
    "dt_station = {}\n",
    "\n",
    "for turnstile, row in dt_datetime.items():\n",
    "    day_dict = {}\n",
    "    station = list(turnstile)\n",
    "    station.remove(turnstile[2])\n",
    "    station = tuple(station)\n",
    "    for time, entries in row:\n",
    "        day = time.date()\n",
    "        day_dict[day] = day_dict.get(day, 0) + entries\n",
    "    dt_station[station] = sorted(day_dict.items())\n"
   ]
  },
  {
   "cell_type": "code",
   "execution_count": 16,
   "metadata": {
    "collapsed": false
   },
   "outputs": [
    {
     "name": "stdout",
     "output_type": "stream",
     "text": [
      "[(datetime.date(2015, 4, 25), 3987091916), (datetime.date(2015, 4, 26), 3987097145), (datetime.date(2015, 4, 27), 3987104410), (datetime.date(2015, 4, 28), 3987113945), (datetime.date(2015, 4, 29), 3987123759), (datetime.date(2015, 4, 30), 3987133187), (datetime.date(2015, 5, 1), 3987142858), (datetime.date(2015, 5, 2), 5316201389), (datetime.date(2015, 5, 3), 3987156147), (datetime.date(2015, 5, 4), 3987163989), (datetime.date(2015, 5, 5), 3987173749), (datetime.date(2015, 5, 6), 3987183472), (datetime.date(2015, 5, 7), 3987193106), (datetime.date(2015, 5, 8), 3987202592), (datetime.date(2015, 5, 9), 3987210151), (datetime.date(2015, 5, 10), 3987215654), (datetime.date(2015, 5, 11), 3987222940), (datetime.date(2015, 5, 12), 3987232414), (datetime.date(2015, 5, 13), 3987242034), (datetime.date(2015, 5, 14), 3987251640), (datetime.date(2015, 5, 15), 3987261064), (datetime.date(2015, 5, 16), 3987268397), (datetime.date(2015, 5, 17), 3987273960), (datetime.date(2015, 5, 18), 3987281410), (datetime.date(2015, 5, 19), 3987290850), (datetime.date(2015, 5, 20), 3987300372), (datetime.date(2015, 5, 21), 3987309693), (datetime.date(2015, 5, 22), 3987318972), (datetime.date(2015, 5, 23), 3987326308), (datetime.date(2015, 5, 24), 3987331857), (datetime.date(2015, 5, 25), 3987337119), (datetime.date(2015, 5, 26), 3987345048), (datetime.date(2015, 5, 27), 4651913642), (datetime.date(2015, 5, 28), 3987364168), (datetime.date(2015, 5, 29), 3987373494)]\n"
     ]
    }
   ],
   "source": [
    "print dt_station.items()[0][1]"
   ]
  },
  {
   "cell_type": "markdown",
   "metadata": {},
   "source": [
    "#### dt_station is the answer for both Challenge 5 and Challenge 6"
   ]
  },
  {
   "cell_type": "markdown",
   "metadata": {},
   "source": [
    "### Challenge 7"
   ]
  },
  {
   "cell_type": "code",
   "execution_count": 17,
   "metadata": {
    "collapsed": false
   },
   "outputs": [
    {
     "data": {
      "text/plain": [
       "[<matplotlib.lines.Line2D at 0x10b224050>]"
      ]
     },
     "execution_count": 17,
     "metadata": {},
     "output_type": "execute_result"
    },
    {
     "data": {
      "image/png": "[encoded data removed]",
      "text/plain": [
       "<matplotlib.figure.Figure at 0x1069c1350>"
      ]
     },
     "metadata": {},
     "output_type": "display_data"
    }
   ],
   "source": [
    "dates = []\n",
    "counts = []\n",
    "\n",
    "for day in dt_station.items()[300][1]:\n",
    "    dates.append(day[0])\n",
    "    counts.append(day[1])\n",
    "\n",
    "plt.figure(figsize=(10,3))\n",
    "plt.plot(dates,counts)"
   ]
  },
  {
   "cell_type": "markdown",
   "metadata": {},
   "source": [
    "### Challenge 8"
   ]
  },
  {
   "cell_type": "code",
   "execution_count": 72,
   "metadata": {
    "collapsed": false
   },
   "outputs": [
    {
     "data": {
      "text/html": [
       "<div>\n",
       "<table border=\"1\" class=\"dataframe\">\n",
       "  <thead>\n",
       "    <tr style=\"text-align: right;\">\n",
       "      <th></th>\n",
       "      <th>date</th>\n",
       "      <th>entries</th>\n",
       "      <th>day</th>\n",
       "      <th>day_of_week</th>\n",
       "      <th>week_no</th>\n",
       "    </tr>\n",
       "  </thead>\n",
       "  <tbody>\n",
       "    <tr>\n",
       "      <th>0</th>\n",
       "      <td>2015-04-25</td>\n",
       "      <td>14952244</td>\n",
       "      <td>Saturday</td>\n",
       "      <td>6</td>\n",
       "      <td>16</td>\n",
       "    </tr>\n",
       "    <tr>\n",
       "      <th>1</th>\n",
       "      <td>2015-04-26</td>\n",
       "      <td>14952246</td>\n",
       "      <td>Sunday</td>\n",
       "      <td>0</td>\n",
       "      <td>17</td>\n",
       "    </tr>\n",
       "    <tr>\n",
       "      <th>2</th>\n",
       "      <td>2015-04-27</td>\n",
       "      <td>14954395</td>\n",
       "      <td>Monday</td>\n",
       "      <td>1</td>\n",
       "      <td>17</td>\n",
       "    </tr>\n",
       "    <tr>\n",
       "      <th>3</th>\n",
       "      <td>2015-04-28</td>\n",
       "      <td>14958788</td>\n",
       "      <td>Tuesday</td>\n",
       "      <td>2</td>\n",
       "      <td>17</td>\n",
       "    </tr>\n",
       "    <tr>\n",
       "      <th>4</th>\n",
       "      <td>2015-04-29</td>\n",
       "      <td>14963158</td>\n",
       "      <td>Wednesday</td>\n",
       "      <td>3</td>\n",
       "      <td>17</td>\n",
       "    </tr>\n",
       "  </tbody>\n",
       "</table>\n",
       "</div>"
      ],
      "text/plain": [
       "        date   entries        day day_of_week week_no\n",
       "0 2015-04-25  14952244   Saturday           6      16\n",
       "1 2015-04-26  14952246     Sunday           0      17\n",
       "2 2015-04-27  14954395     Monday           1      17\n",
       "3 2015-04-28  14958788    Tuesday           2      17\n",
       "4 2015-04-29  14963158  Wednesday           3      17"
      ]
     },
     "execution_count": 72,
     "metadata": {},
     "output_type": "execute_result"
    }
   ],
   "source": [
    "df_oxford_104 = pd.DataFrame(dt_station.values()[300],\n",
    "                               columns=['date', 'entries'])\n",
    "\n",
    "\n",
    "df_oxford_104['day'] = df_oxford_104['date'].apply(lambda x: x.strftime('%A'))\n",
    "df_oxford_104['date'] = df_oxford_104['date'].apply(lambda x: pd.to_datetime(x))\n",
    "df_oxford_104['day_of_week'] = df_oxford_104['date'].apply(lambda x: x.strftime('%w'))\n",
    "df_oxford_104['week_no'] = df_oxford_104['date'].apply(lambda x: x.strftime('%U'))\n",
    "df_oxford_104.sort(['date','day_of_week'], inplace=True)\n",
    "df_oxford_104.head()"
   ]
  },
  {
   "cell_type": "code",
   "execution_count": 76,
   "metadata": {
    "collapsed": false
   },
   "outputs": [
    {
     "data": {
      "image/png": "[encoded data removed]",
      "text/plain": [
       "<matplotlib.figure.Figure at 0x11059ea90>"
      ]
     },
     "metadata": {},
     "output_type": "display_data"
    }
   ],
   "source": [
    "for k, group in df_oxford_104.groupby(\n",
    "    [df_oxford_104.week_no]):\n",
    "    plt.plot(group['entries'])"
   ]
  },
  {
   "cell_type": "markdown",
   "metadata": {},
   "source": [
    "#### Dark Side of the Moon is the answer for Challenge 8"
   ]
  },
  {
   "cell_type": "markdown",
   "metadata": {},
   "source": [
    "### Challenge 9"
   ]
  },
  {
   "cell_type": "code",
   "execution_count": 188,
   "metadata": {
    "collapsed": false
   },
   "outputs": [
    {
     "name": "stdout",
     "output_type": "stream",
     "text": [
      "[(('N325A', 'R218', 'ELMHURST AVE'), 141546752851), (('R137', 'R031', '34 ST-PENN STA'), 877431928), (('R414', 'R162', 'ELDER AVE'), 1832393550), (('D012', 'R395', 'KINGS HIGHWAY'), 711825432)]\n"
     ]
    }
   ],
   "source": [
    "dt_totals = {}\n",
    "\n",
    "for station, rows in dt_station.items():\n",
    "    total_entries = []\n",
    "    for row in rows:\n",
    "        total_entries.append(row[1])\n",
    "    dt_totals[station] = sum(total_entries)\n",
    "\n",
    "print dt_totals.items()[0:4]"
   ]
  },
  {
   "cell_type": "markdown",
   "metadata": {},
   "source": [
    "#### dt_totals is the answer for Challenge 9"
   ]
  },
  {
   "cell_type": "markdown",
   "metadata": {},
   "source": [
    "### Challenge 10"
   ]
  },
  {
   "cell_type": "code",
   "execution_count": 195,
   "metadata": {
    "collapsed": false
   },
   "outputs": [
    {
     "name": "stdout",
     "output_type": "stream",
     "text": [
      "726\n"
     ]
    },
    {
     "data": {
      "text/html": [
       "<div>\n",
       "<table border=\"1\" class=\"dataframe\">\n",
       "  <thead>\n",
       "    <tr style=\"text-align: right;\">\n",
       "      <th></th>\n",
       "      <th>station</th>\n",
       "      <th>ridership</th>\n",
       "    </tr>\n",
       "  </thead>\n",
       "  <tbody>\n",
       "    <tr>\n",
       "      <th>0</th>\n",
       "      <td>(N325A, R218, ELMHURST AVE)</td>\n",
       "      <td>141546752851</td>\n",
       "    </tr>\n",
       "    <tr>\n",
       "      <th>1</th>\n",
       "      <td>(R137, R031, 34 ST-PENN STA)</td>\n",
       "      <td>877431928</td>\n",
       "    </tr>\n",
       "    <tr>\n",
       "      <th>2</th>\n",
       "      <td>(R414, R162, ELDER AVE)</td>\n",
       "      <td>1832393550</td>\n",
       "    </tr>\n",
       "    <tr>\n",
       "      <th>3</th>\n",
       "      <td>(D012, R395, KINGS HIGHWAY)</td>\n",
       "      <td>711825432</td>\n",
       "    </tr>\n",
       "    <tr>\n",
       "      <th>4</th>\n",
       "      <td>(R291, R183, BEDFORD PARK BL)</td>\n",
       "      <td>1127994162</td>\n",
       "    </tr>\n",
       "  </tbody>\n",
       "</table>\n",
       "</div>"
      ],
      "text/plain": [
       "                         station     ridership\n",
       "0    (N325A, R218, ELMHURST AVE)  141546752851\n",
       "1   (R137, R031, 34 ST-PENN STA)     877431928\n",
       "2        (R414, R162, ELDER AVE)    1832393550\n",
       "3    (D012, R395, KINGS HIGHWAY)     711825432\n",
       "4  (R291, R183, BEDFORD PARK BL)    1127994162"
      ]
     },
     "execution_count": 195,
     "metadata": {},
     "output_type": "execute_result"
    }
   ],
   "source": [
    "df_totals = pd.DataFrame(dt_totals.items(), columns = ['station', 'ridership'])\n",
    "print len(df_totals)\n",
    "df_totals.head()"
   ]
  },
  {
   "cell_type": "code",
   "execution_count": 193,
   "metadata": {
    "collapsed": false
   },
   "outputs": [],
   "source": [
    "total_ridership_counts = list(df_totals['ridership'])"
   ]
  },
  {
   "cell_type": "code",
   "execution_count": 194,
   "metadata": {
    "collapsed": false
   },
   "outputs": [
    {
     "data": {
      "text/plain": [
       "(array([ 710.,    3.,    1.,    4.,    1.,    1.,    1.,    0.,    2.,    3.]),\n",
       " array([  0.00000000e+00,   3.73656302e+10,   7.47312603e+10,\n",
       "          1.12096891e+11,   1.49462521e+11,   1.86828151e+11,\n",
       "          2.24193781e+11,   2.61559411e+11,   2.98925041e+11,\n",
       "          3.36290672e+11,   3.73656302e+11]),\n",
       " <a list of 10 Patch objects>)"
      ]
     },
     "execution_count": 194,
     "metadata": {},
     "output_type": "execute_result"
    },
    {
     "data": {
      "image/png": "[encoded data removed]",
      "text/plain": [
       "<matplotlib.figure.Figure at 0x12d6bc490>"
      ]
     },
     "metadata": {},
     "output_type": "display_data"
    }
   ],
   "source": [
    "plt.hist(total_ridership_counts)"
   ]
  },
  {
   "cell_type": "code",
   "execution_count": 197,
   "metadata": {
    "collapsed": false
   },
   "outputs": [
    {
     "data": {
      "text/plain": [
       "<Container object of 726 artists>"
      ]
     },
     "execution_count": 197,
     "metadata": {},
     "output_type": "execute_result"
    },
    {
     "data": {
      "image/png": "[encoded data removed]",
      "text/plain": [
       "<matplotlib.figure.Figure at 0x137cc7e50>"
      ]
     },
     "metadata": {},
     "output_type": "display_data"
    }
   ],
   "source": [
    "indices = range(len(total_ridership_counts))\n",
    "plt.bar(indices, total_ridership_counts)"
   ]
  },
  {
   "cell_type": "code",
   "execution_count": null,
   "metadata": {
    "collapsed": true
   },
   "outputs": [],
   "source": []
  }
 ],
 "metadata": {
  "kernelspec": {
   "display_name": "Python 2",
   "language": "python",
   "name": "python2"
  },
  "language_info": {
   "codemirror_mode": {
    "name": "ipython",
    "version": 2
   },
   "file_extension": ".py",
   "mimetype": "text/x-python",
   "name": "python",
   "nbconvert_exporter": "python",
   "pygments_lexer": "ipython2",
   "version": "2.7.10"
  }
 },
 "nbformat": 4,
 "nbformat_minor": 0
}

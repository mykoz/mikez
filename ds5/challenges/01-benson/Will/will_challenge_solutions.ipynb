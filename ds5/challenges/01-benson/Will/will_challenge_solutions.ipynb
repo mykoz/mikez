{
 "cells": [
  {
   "cell_type": "code",
   "execution_count": 36,
   "metadata": {
    "collapsed": false
   },
   "outputs": [
    {
     "name": "stdout",
     "output_type": "stream",
     "text": [
      "Populating the interactive namespace from numpy and matplotlib\n"
     ]
    },
    {
     "name": "stderr",
     "output_type": "stream",
     "text": [
      "WARNING: pylab import has clobbered these variables: ['datetime', 'f']\n",
      "`%matplotlib` prevents importing * from pylab and numpy\n"
     ]
    }
   ],
   "source": [
    "from __future__ import division\n",
    "%pylab inline"
   ]
  },
  {
   "cell_type": "markdown",
   "metadata": {},
   "source": [
    "# 1"
   ]
  },
  {
   "cell_type": "code",
   "execution_count": 1,
   "metadata": {
    "collapsed": false
   },
   "outputs": [
    {
     "name": "stdout",
     "output_type": "stream",
     "text": [
      "  % Total    % Received % Xferd  Average Speed   Time    Time     Time  Current\n",
      "                                 Dload  Upload   Total   Spent    Left  Speed\n",
      "100 24.0M    0 24.0M    0     0  2376k      0 --:--:--  0:00:10 --:--:-- 4909k\n"
     ]
    }
   ],
   "source": [
    "!curl -O http://web.mta.info/developers/data/nyct/turnstile/turnstile_150627.txt"
   ]
  },
  {
   "cell_type": "code",
   "execution_count": 2,
   "metadata": {
    "collapsed": false,
    "scrolled": true
   },
   "outputs": [
    {
     "name": "stdout",
     "output_type": "stream",
     "text": [
      "02_Will.ipynb                    all_stns_by_weekdayAllWeek.png\r\n",
      "2NY_BIG Annotated.jpg            all_turnstiles.py\r\n",
      "Assumptions and Challenges.pdf   busiest.csv\r\n",
      "CreativeCloudInstaller.dmg       challenge_solutions.ipynb\r\n",
      "Exploratory Analysis.ipynb       \u001b[34mdata\u001b[m\u001b[m\r\n",
      "Methodology.ipynb                mta_challenge_3.ipynb\r\n",
      "NY_BIG Annotated.jpg             three_Benson_solutions.ipynb\r\n",
      "README.md                        top_20_stations.tsv\r\n",
      "all_stns_by_weekday1.png         turnstile_150627.txt\r\n",
      "all_stns_by_weekday2.png         turnstiles.py\r\n",
      "all_stns_by_weekday3.png         turnstiles.py.orig\r\n",
      "all_stns_by_weekdayAll.png       turnstiles.pyc\r\n",
      "all_stns_by_weekdayAllWeek-1.png\r\n"
     ]
    }
   ],
   "source": [
    "!ls"
   ]
  },
  {
   "cell_type": "code",
   "execution_count": 4,
   "metadata": {
    "collapsed": false
   },
   "outputs": [
    {
     "name": "stdout",
     "output_type": "stream",
     "text": [
      "CPU times: user 962 ms, sys: 76.1 ms, total: 1.04 s\n",
      "Wall time: 1.04 s\n"
     ]
    }
   ],
   "source": [
    "%%time\n",
    "import csv\n",
    "with open('turnstile_150627.txt') as f:\n",
    "    reader = csv.reader(f)\n",
    "    rows = [[cell.strip() for cell in row] for row in reader]"
   ]
  },
  {
   "cell_type": "code",
   "execution_count": 5,
   "metadata": {
    "collapsed": false
   },
   "outputs": [
    {
     "data": {
      "text/plain": [
       "['C/A',\n",
       " 'UNIT',\n",
       " 'SCP',\n",
       " 'STATION',\n",
       " 'LINENAME',\n",
       " 'DIVISION',\n",
       " 'DATE',\n",
       " 'TIME',\n",
       " 'DESC',\n",
       " 'ENTRIES',\n",
       " 'EXITS']"
      ]
     },
     "execution_count": 5,
     "metadata": {},
     "output_type": "execute_result"
    }
   ],
   "source": [
    "rows.pop(0)"
   ]
  },
  {
   "cell_type": "code",
   "execution_count": 7,
   "metadata": {
    "collapsed": true
   },
   "outputs": [],
   "source": [
    "raw_readings = {}\n",
    "for row in rows:\n",
    "    raw_readings.setdefault(tuple(row[:4]), []).append((row[4:]))"
   ]
  },
  {
   "cell_type": "markdown",
   "metadata": {},
   "source": [
    "#  2"
   ]
  },
  {
   "cell_type": "code",
   "execution_count": 11,
   "metadata": {
    "collapsed": true
   },
   "outputs": [],
   "source": [
    "from datetime import datetime"
   ]
  },
  {
   "cell_type": "code",
   "execution_count": 12,
   "metadata": {
    "collapsed": false
   },
   "outputs": [],
   "source": [
    "datetime_cumulative = {turnstile: [(datetime.strptime(date + time,\n",
    "                                                      '%m/%d/%Y%X'),\n",
    "                                    int(in_cumulative))\n",
    "                                   for _, _, date, time,\n",
    "                                       _, in_cumulative, _ in rows]\n",
    "                       for turnstile, rows in raw_readings.items()}"
   ]
  },
  {
   "cell_type": "code",
   "execution_count": null,
   "metadata": {
    "collapsed": true
   },
   "outputs": [],
   "source": [
    "datetime_count_times = {turnstile: [[rows[i][0],\n",
    "                                     rows[i+1][1] - rows[i][1],\n",
    "                                     rows[i+1][0] - rows[i][0]]\n",
    "                                    for i in range(len(rows) - 1)]\n",
    "                        for turnstile, rows in datetime_cumulative.items()}"
   ]
  },
  {
   "cell_type": "code",
   "execution_count": 15,
   "metadata": {
    "collapsed": true
   },
   "outputs": [],
   "source": [
    "all_counts = [count for rows in datetime_count_times.values() for _, count, _ in rows]"
   ]
  },
  {
   "cell_type": "code",
   "execution_count": 16,
   "metadata": {
    "collapsed": false
   },
   "outputs": [
    {
     "name": "stdout",
     "output_type": "stream",
     "text": [
      "[2428, 2443, 2444, 2447, 2448, 2455, 2456, 2459, 2473, 2474, 2487, 2492, 2514, 2521, 2536, 2548, 2552, 2554, 2558, 2567, 2569, 2579, 2602, 2612, 2621, 2622, 2630, 2630, 2644, 2656, 2670, 2671, 2692, 2728, 2731, 2757, 2765, 2804, 2844, 2848, 2920, 2926, 2926, 3488, 87577, 130932, 131711, 131792, 531430, 117440499]\n"
     ]
    }
   ],
   "source": [
    "all_counts.sort()\n",
    "print all_counts[-50:]\n"
   ]
  },
  {
   "cell_type": "code",
   "execution_count": 18,
   "metadata": {
    "collapsed": false
   },
   "outputs": [
    {
     "name": "stdout",
     "output_type": "stream",
     "text": [
      "[-1208464910, -8664797, -7691983, -1958436, -1283643, -531174, -131370, -131215, -130432, -87562, -73467, -65355, -2545, -1929, -1852, -1782, -1720, -1703, -1687, -1677, -1662, -1659, -1645, -1608, -1572, -1571, -1553, -1543, -1533, -1524, -1492, -1484, -1482, -1455, -1410, -1404, -1403, -1402, -1401, -1397, -1378, -1376, -1362, -1357, -1345, -1339, -1332, -1326, -1323, -1311]\n"
     ]
    }
   ],
   "source": [
    "print all_counts[:50]\n"
   ]
  },
  {
   "cell_type": "code",
   "execution_count": 19,
   "metadata": {
    "collapsed": false
   },
   "outputs": [
    {
     "name": "stdout",
     "output_type": "stream",
     "text": [
      "[(4.0, 172791), (4.2, 10460), (8.0, 189), (4.433333333333334, 161), (0.02222222222222222, 80), (0.02277777777777778, 64), (0.022500000000000003, 55), (0.02777777777777778, 26), (0.03611111111111111, 24), (3.963888888888889, 24)]\n"
     ]
    }
   ],
   "source": [
    "from collections import Counter\n",
    "all_times = [duration.total_seconds() / 60 / 60\n",
    "             for rows in datetime_count_times.values()\n",
    "             for _, _, duration in rows]\n",
    "print Counter(all_times).most_common(10)"
   ]
  },
  {
   "cell_type": "code",
   "execution_count": 20,
   "metadata": {
    "collapsed": true
   },
   "outputs": [],
   "source": [
    "datetime_counts = {turnstile: [(time, count)\n",
    "                               for (time, count, _) in rows\n",
    "                               if 0 <= count <= 5000]\n",
    "                   for turnstile, rows in datetime_count_times.items()}"
   ]
  },
  {
   "cell_type": "code",
   "execution_count": 24,
   "metadata": {
    "collapsed": false,
    "scrolled": true
   },
   "outputs": [
    {
     "name": "stdout",
     "output_type": "stream",
     "text": [
      "0.99415985405\n"
     ]
    }
   ],
   "source": [
    "all_good_counts = [count for rows in datetime_counts.values() for _, count in rows]\n",
    "print len(all_good_counts) / len(all_counts)"
   ]
  },
  {
   "cell_type": "code",
   "execution_count": 27,
   "metadata": {
    "collapsed": false
   },
   "outputs": [
    {
     "name": "stdout",
     "output_type": "stream",
     "text": [
      "[2848, 2920, 2926, 2926, 3488]\n"
     ]
    }
   ],
   "source": [
    "all_good_counts.sort()\n",
    "print all_good_counts[-5:]"
   ]
  },
  {
   "cell_type": "markdown",
   "metadata": {},
   "source": [
    "# 3"
   ]
  },
  {
   "cell_type": "code",
   "execution_count": 28,
   "metadata": {
    "collapsed": true
   },
   "outputs": [],
   "source": [
    "day_counts = {}\n",
    "for turnstile, rows in datetime_counts.items():\n",
    "    by_day = {}\n",
    "    for time, count in rows:\n",
    "        day = time.date()\n",
    "        by_day[day] = by_day.get(day, 0) + count\n",
    "    day_counts[turnstile] = sorted(by_day.items())"
   ]
  },
  {
   "cell_type": "code",
   "execution_count": 29,
   "metadata": {
    "collapsed": false
   },
   "outputs": [
    {
     "data": {
      "text/plain": [
       "(('A030', 'R083', '01-06-00', '23 ST-5 AVE'),\n",
       " [(datetime.date(2015, 6, 20), 1008),\n",
       "  (datetime.date(2015, 6, 21), 767),\n",
       "  (datetime.date(2015, 6, 22), 2438),\n",
       "  (datetime.date(2015, 6, 23), 2651),\n",
       "  (datetime.date(2015, 6, 24), 2680),\n",
       "  (datetime.date(2015, 6, 25), 2683),\n",
       "  (datetime.date(2015, 6, 26), 1951)])"
      ]
     },
     "execution_count": 29,
     "metadata": {},
     "output_type": "execute_result"
    }
   ],
   "source": [
    "day_counts.items()[0]\n"
   ]
  },
  {
   "cell_type": "markdown",
   "metadata": {},
   "source": [
    "# 4, 5 ,6, and 7"
   ]
  },
  {
   "cell_type": "markdown",
   "metadata": {},
   "source": [
    "Note that I am merging the turnstiles here because it makes more sense for me to do it here rather than print time series for individual turnstiles."
   ]
  },
  {
   "cell_type": "code",
   "execution_count": 80,
   "metadata": {
    "collapsed": false
   },
   "outputs": [],
   "source": [
    "import pandas as pd\n",
    "cols = ['ca', 'unit', 'scp', 'station', \n",
    "            'linename', 'division', 'date', 'time', \n",
    "            'desc', 'entries', 'exits']\n",
    "df = pd.read_csv('turnstile_150627.txt', names=cols, header=True)"
   ]
  },
  {
   "cell_type": "code",
   "execution_count": 100,
   "metadata": {
    "collapsed": false,
    "scrolled": false
   },
   "outputs": [
    {
     "data": {
      "text/html": [
       "<div>\n",
       "<table border=\"1\" class=\"dataframe\">\n",
       "  <thead>\n",
       "    <tr style=\"text-align: right;\">\n",
       "      <th></th>\n",
       "      <th>station</th>\n",
       "      <th>datetime</th>\n",
       "      <th>date</th>\n",
       "      <th>time</th>\n",
       "      <th>entries</th>\n",
       "      <th>exits</th>\n",
       "    </tr>\n",
       "  </thead>\n",
       "  <tbody>\n",
       "    <tr>\n",
       "      <th>1</th>\n",
       "      <td>(LEXINGTON AVE, NQR456)</td>\n",
       "      <td>2015-06-20 08:00:00</td>\n",
       "      <td>06/20/2015</td>\n",
       "      <td>08:00:00</td>\n",
       "      <td>18</td>\n",
       "      <td>29</td>\n",
       "    </tr>\n",
       "    <tr>\n",
       "      <th>2</th>\n",
       "      <td>(LEXINGTON AVE, NQR456)</td>\n",
       "      <td>2015-06-20 12:00:00</td>\n",
       "      <td>06/20/2015</td>\n",
       "      <td>12:00:00</td>\n",
       "      <td>102</td>\n",
       "      <td>97</td>\n",
       "    </tr>\n",
       "    <tr>\n",
       "      <th>3</th>\n",
       "      <td>(LEXINGTON AVE, NQR456)</td>\n",
       "      <td>2015-06-20 16:00:00</td>\n",
       "      <td>06/20/2015</td>\n",
       "      <td>16:00:00</td>\n",
       "      <td>216</td>\n",
       "      <td>70</td>\n",
       "    </tr>\n",
       "    <tr>\n",
       "      <th>4</th>\n",
       "      <td>(LEXINGTON AVE, NQR456)</td>\n",
       "      <td>2015-06-20 20:00:00</td>\n",
       "      <td>06/20/2015</td>\n",
       "      <td>20:00:00</td>\n",
       "      <td>364</td>\n",
       "      <td>61</td>\n",
       "    </tr>\n",
       "    <tr>\n",
       "      <th>5</th>\n",
       "      <td>(LEXINGTON AVE, NQR456)</td>\n",
       "      <td>2015-06-21 00:00:00</td>\n",
       "      <td>06/21/2015</td>\n",
       "      <td>00:00:00</td>\n",
       "      <td>159</td>\n",
       "      <td>38</td>\n",
       "    </tr>\n",
       "  </tbody>\n",
       "</table>\n",
       "</div>"
      ],
      "text/plain": [
       "                   station            datetime        date      time  entries  \\\n",
       "1  (LEXINGTON AVE, NQR456) 2015-06-20 08:00:00  06/20/2015  08:00:00       18   \n",
       "2  (LEXINGTON AVE, NQR456) 2015-06-20 12:00:00  06/20/2015  12:00:00      102   \n",
       "3  (LEXINGTON AVE, NQR456) 2015-06-20 16:00:00  06/20/2015  16:00:00      216   \n",
       "4  (LEXINGTON AVE, NQR456) 2015-06-20 20:00:00  06/20/2015  20:00:00      364   \n",
       "5  (LEXINGTON AVE, NQR456) 2015-06-21 00:00:00  06/21/2015  00:00:00      159   \n",
       "\n",
       "   exits  \n",
       "1     29  \n",
       "2     97  \n",
       "3     70  \n",
       "4     61  \n",
       "5     38  "
      ]
     },
     "execution_count": 100,
     "metadata": {},
     "output_type": "execute_result"
    }
   ],
   "source": [
    "df.head()"
   ]
  },
  {
   "cell_type": "code",
   "execution_count": 81,
   "metadata": {
    "collapsed": false
   },
   "outputs": [],
   "source": [
    "from turnstiles import makeCols "
   ]
  },
  {
   "cell_type": "code",
   "execution_count": 82,
   "metadata": {
    "collapsed": true
   },
   "outputs": [],
   "source": [
    "df = makeCols(df)"
   ]
  },
  {
   "cell_type": "code",
   "execution_count": 84,
   "metadata": {
    "collapsed": false,
    "scrolled": true
   },
   "outputs": [],
   "source": [
    "dates = pd.DatetimeIndex(df.datetime)\n",
    "time_station_totals = df.groupby(['station', dates.date]).exits.sum()"
   ]
  },
  {
   "cell_type": "code",
   "execution_count": null,
   "metadata": {
    "collapsed": true
   },
   "outputs": [],
   "source": [
    "# Dealing with indices is annoying\n",
    "time_station_totals = time_station_totals.reset_index()"
   ]
  },
  {
   "cell_type": "code",
   "execution_count": 99,
   "metadata": {
    "collapsed": false,
    "scrolled": true
   },
   "outputs": [
    {
     "data": {
      "text/plain": [
       "<matplotlib.text.Text at 0x135332ad0>"
      ]
     },
     "execution_count": 99,
     "metadata": {},
     "output_type": "execute_result"
    },
    {
     "data": {
      "image/png": "[encoded data removed]",
      "text/plain": [
       "<matplotlib.figure.Figure at 0x12515e450>"
      ]
     },
     "metadata": {},
     "output_type": "display_data"
    }
   ],
   "source": [
    "time_station_totals[:7].plot()\n",
    "plt.title(\"1st AVENUE\")"
   ]
  },
  {
   "cell_type": "markdown",
   "metadata": {},
   "source": [
    "# 8"
   ]
  },
  {
   "cell_type": "code",
   "execution_count": 109,
   "metadata": {
    "collapsed": false,
    "scrolled": false
   },
   "outputs": [],
   "source": [
    "dates = pd.DatetimeIndex(time_station_totals.level_1)\n",
    "day_of_week_totals = time_station_totals.groupby([dates.dayofweek]).exits.sum()"
   ]
  },
  {
   "cell_type": "code",
   "execution_count": 110,
   "metadata": {
    "collapsed": false
   },
   "outputs": [
    {
     "data": {
      "text/plain": [
       "0    4360853\n",
       "1    4566817\n",
       "2    4605372\n",
       "3    4649481\n",
       "4    4579521\n",
       "5    2341996\n",
       "6    2311034\n",
       "Name: exits, dtype: float64"
      ]
     },
     "execution_count": 110,
     "metadata": {},
     "output_type": "execute_result"
    }
   ],
   "source": [
    "day_of_week_totals"
   ]
  },
  {
   "cell_type": "markdown",
   "metadata": {},
   "source": [
    "So we can see here that the total subway ridership decreases substantially during the weekdays."
   ]
  },
  {
   "cell_type": "markdown",
   "metadata": {},
   "source": [
    "# 9"
   ]
  },
  {
   "cell_type": "code",
   "execution_count": 111,
   "metadata": {
    "collapsed": false,
    "scrolled": true
   },
   "outputs": [
    {
     "data": {
      "text/html": [
       "<div>\n",
       "<table border=\"1\" class=\"dataframe\">\n",
       "  <thead>\n",
       "    <tr style=\"text-align: right;\">\n",
       "      <th></th>\n",
       "      <th>station</th>\n",
       "      <th>datetime</th>\n",
       "      <th>date</th>\n",
       "      <th>time</th>\n",
       "      <th>entries</th>\n",
       "      <th>exits</th>\n",
       "    </tr>\n",
       "  </thead>\n",
       "  <tbody>\n",
       "    <tr>\n",
       "      <th>1</th>\n",
       "      <td>(LEXINGTON AVE, NQR456)</td>\n",
       "      <td>2015-06-20 08:00:00</td>\n",
       "      <td>06/20/2015</td>\n",
       "      <td>08:00:00</td>\n",
       "      <td>18</td>\n",
       "      <td>29</td>\n",
       "    </tr>\n",
       "    <tr>\n",
       "      <th>2</th>\n",
       "      <td>(LEXINGTON AVE, NQR456)</td>\n",
       "      <td>2015-06-20 12:00:00</td>\n",
       "      <td>06/20/2015</td>\n",
       "      <td>12:00:00</td>\n",
       "      <td>102</td>\n",
       "      <td>97</td>\n",
       "    </tr>\n",
       "    <tr>\n",
       "      <th>3</th>\n",
       "      <td>(LEXINGTON AVE, NQR456)</td>\n",
       "      <td>2015-06-20 16:00:00</td>\n",
       "      <td>06/20/2015</td>\n",
       "      <td>16:00:00</td>\n",
       "      <td>216</td>\n",
       "      <td>70</td>\n",
       "    </tr>\n",
       "    <tr>\n",
       "      <th>4</th>\n",
       "      <td>(LEXINGTON AVE, NQR456)</td>\n",
       "      <td>2015-06-20 20:00:00</td>\n",
       "      <td>06/20/2015</td>\n",
       "      <td>20:00:00</td>\n",
       "      <td>364</td>\n",
       "      <td>61</td>\n",
       "    </tr>\n",
       "    <tr>\n",
       "      <th>5</th>\n",
       "      <td>(LEXINGTON AVE, NQR456)</td>\n",
       "      <td>2015-06-21 00:00:00</td>\n",
       "      <td>06/21/2015</td>\n",
       "      <td>00:00:00</td>\n",
       "      <td>159</td>\n",
       "      <td>38</td>\n",
       "    </tr>\n",
       "    <tr>\n",
       "      <th>6</th>\n",
       "      <td>(LEXINGTON AVE, NQR456)</td>\n",
       "      <td>2015-06-21 04:00:00</td>\n",
       "      <td>06/21/2015</td>\n",
       "      <td>04:00:00</td>\n",
       "      <td>26</td>\n",
       "      <td>7</td>\n",
       "    </tr>\n",
       "    <tr>\n",
       "      <th>7</th>\n",
       "      <td>(LEXINGTON AVE, NQR456)</td>\n",
       "      <td>2015-06-21 08:00:00</td>\n",
       "      <td>06/21/2015</td>\n",
       "      <td>08:00:00</td>\n",
       "      <td>26</td>\n",
       "      <td>18</td>\n",
       "    </tr>\n",
       "    <tr>\n",
       "      <th>8</th>\n",
       "      <td>(LEXINGTON AVE, NQR456)</td>\n",
       "      <td>2015-06-21 12:00:00</td>\n",
       "      <td>06/21/2015</td>\n",
       "      <td>12:00:00</td>\n",
       "      <td>72</td>\n",
       "      <td>54</td>\n",
       "    </tr>\n",
       "    <tr>\n",
       "      <th>9</th>\n",
       "      <td>(LEXINGTON AVE, NQR456)</td>\n",
       "      <td>2015-06-21 16:00:00</td>\n",
       "      <td>06/21/2015</td>\n",
       "      <td>16:00:00</td>\n",
       "      <td>219</td>\n",
       "      <td>57</td>\n",
       "    </tr>\n",
       "    <tr>\n",
       "      <th>10</th>\n",
       "      <td>(LEXINGTON AVE, NQR456)</td>\n",
       "      <td>2015-06-21 20:00:00</td>\n",
       "      <td>06/21/2015</td>\n",
       "      <td>20:00:00</td>\n",
       "      <td>233</td>\n",
       "      <td>44</td>\n",
       "    </tr>\n",
       "    <tr>\n",
       "      <th>11</th>\n",
       "      <td>(LEXINGTON AVE, NQR456)</td>\n",
       "      <td>2015-06-22 00:00:00</td>\n",
       "      <td>06/22/2015</td>\n",
       "      <td>00:00:00</td>\n",
       "      <td>124</td>\n",
       "      <td>45</td>\n",
       "    </tr>\n",
       "    <tr>\n",
       "      <th>12</th>\n",
       "      <td>(LEXINGTON AVE, NQR456)</td>\n",
       "      <td>2015-06-22 04:00:00</td>\n",
       "      <td>06/22/2015</td>\n",
       "      <td>04:00:00</td>\n",
       "      <td>11</td>\n",
       "      <td>3</td>\n",
       "    </tr>\n",
       "    <tr>\n",
       "      <th>13</th>\n",
       "      <td>(LEXINGTON AVE, NQR456)</td>\n",
       "      <td>2015-06-22 08:00:00</td>\n",
       "      <td>06/22/2015</td>\n",
       "      <td>08:00:00</td>\n",
       "      <td>44</td>\n",
       "      <td>109</td>\n",
       "    </tr>\n",
       "    <tr>\n",
       "      <th>14</th>\n",
       "      <td>(LEXINGTON AVE, NQR456)</td>\n",
       "      <td>2015-06-22 12:00:00</td>\n",
       "      <td>06/22/2015</td>\n",
       "      <td>12:00:00</td>\n",
       "      <td>219</td>\n",
       "      <td>265</td>\n",
       "    </tr>\n",
       "    <tr>\n",
       "      <th>15</th>\n",
       "      <td>(LEXINGTON AVE, NQR456)</td>\n",
       "      <td>2015-06-22 16:00:00</td>\n",
       "      <td>06/22/2015</td>\n",
       "      <td>16:00:00</td>\n",
       "      <td>303</td>\n",
       "      <td>77</td>\n",
       "    </tr>\n",
       "    <tr>\n",
       "      <th>16</th>\n",
       "      <td>(LEXINGTON AVE, NQR456)</td>\n",
       "      <td>2015-06-22 20:00:00</td>\n",
       "      <td>06/22/2015</td>\n",
       "      <td>20:00:00</td>\n",
       "      <td>909</td>\n",
       "      <td>77</td>\n",
       "    </tr>\n",
       "    <tr>\n",
       "      <th>17</th>\n",
       "      <td>(LEXINGTON AVE, NQR456)</td>\n",
       "      <td>2015-06-23 00:00:00</td>\n",
       "      <td>06/23/2015</td>\n",
       "      <td>00:00:00</td>\n",
       "      <td>252</td>\n",
       "      <td>32</td>\n",
       "    </tr>\n",
       "    <tr>\n",
       "      <th>18</th>\n",
       "      <td>(LEXINGTON AVE, NQR456)</td>\n",
       "      <td>2015-06-23 04:00:00</td>\n",
       "      <td>06/23/2015</td>\n",
       "      <td>04:00:00</td>\n",
       "      <td>23</td>\n",
       "      <td>0</td>\n",
       "    </tr>\n",
       "    <tr>\n",
       "      <th>19</th>\n",
       "      <td>(LEXINGTON AVE, NQR456)</td>\n",
       "      <td>2015-06-23 07:58:11</td>\n",
       "      <td>06/23/2015</td>\n",
       "      <td>07:58:11</td>\n",
       "      <td>62</td>\n",
       "      <td>93</td>\n",
       "    </tr>\n",
       "    <tr>\n",
       "      <th>20</th>\n",
       "      <td>(LEXINGTON AVE, NQR456)</td>\n",
       "      <td>2015-06-23 08:00:00</td>\n",
       "      <td>06/23/2015</td>\n",
       "      <td>08:00:00</td>\n",
       "      <td>1</td>\n",
       "      <td>5</td>\n",
       "    </tr>\n",
       "    <tr>\n",
       "      <th>21</th>\n",
       "      <td>(LEXINGTON AVE, NQR456)</td>\n",
       "      <td>2015-06-23 12:00:00</td>\n",
       "      <td>06/23/2015</td>\n",
       "      <td>12:00:00</td>\n",
       "      <td>187</td>\n",
       "      <td>316</td>\n",
       "    </tr>\n",
       "    <tr>\n",
       "      <th>22</th>\n",
       "      <td>(LEXINGTON AVE, NQR456)</td>\n",
       "      <td>2015-06-23 16:00:00</td>\n",
       "      <td>06/23/2015</td>\n",
       "      <td>16:00:00</td>\n",
       "      <td>322</td>\n",
       "      <td>74</td>\n",
       "    </tr>\n",
       "    <tr>\n",
       "      <th>23</th>\n",
       "      <td>(LEXINGTON AVE, NQR456)</td>\n",
       "      <td>2015-06-23 20:00:00</td>\n",
       "      <td>06/23/2015</td>\n",
       "      <td>20:00:00</td>\n",
       "      <td>924</td>\n",
       "      <td>80</td>\n",
       "    </tr>\n",
       "    <tr>\n",
       "      <th>24</th>\n",
       "      <td>(LEXINGTON AVE, NQR456)</td>\n",
       "      <td>2015-06-24 00:00:00</td>\n",
       "      <td>06/24/2015</td>\n",
       "      <td>00:00:00</td>\n",
       "      <td>272</td>\n",
       "      <td>28</td>\n",
       "    </tr>\n",
       "    <tr>\n",
       "      <th>25</th>\n",
       "      <td>(LEXINGTON AVE, NQR456)</td>\n",
       "      <td>2015-06-24 04:00:00</td>\n",
       "      <td>06/24/2015</td>\n",
       "      <td>04:00:00</td>\n",
       "      <td>18</td>\n",
       "      <td>1</td>\n",
       "    </tr>\n",
       "    <tr>\n",
       "      <th>26</th>\n",
       "      <td>(LEXINGTON AVE, NQR456)</td>\n",
       "      <td>2015-06-24 08:00:00</td>\n",
       "      <td>06/24/2015</td>\n",
       "      <td>08:00:00</td>\n",
       "      <td>58</td>\n",
       "      <td>94</td>\n",
       "    </tr>\n",
       "    <tr>\n",
       "      <th>27</th>\n",
       "      <td>(LEXINGTON AVE, NQR456)</td>\n",
       "      <td>2015-06-24 12:00:00</td>\n",
       "      <td>06/24/2015</td>\n",
       "      <td>12:00:00</td>\n",
       "      <td>189</td>\n",
       "      <td>254</td>\n",
       "    </tr>\n",
       "    <tr>\n",
       "      <th>28</th>\n",
       "      <td>(LEXINGTON AVE, NQR456)</td>\n",
       "      <td>2015-06-24 16:00:00</td>\n",
       "      <td>06/24/2015</td>\n",
       "      <td>16:00:00</td>\n",
       "      <td>304</td>\n",
       "      <td>64</td>\n",
       "    </tr>\n",
       "    <tr>\n",
       "      <th>29</th>\n",
       "      <td>(LEXINGTON AVE, NQR456)</td>\n",
       "      <td>2015-06-24 20:00:00</td>\n",
       "      <td>06/24/2015</td>\n",
       "      <td>20:00:00</td>\n",
       "      <td>1126</td>\n",
       "      <td>55</td>\n",
       "    </tr>\n",
       "    <tr>\n",
       "      <th>30</th>\n",
       "      <td>(LEXINGTON AVE, NQR456)</td>\n",
       "      <td>2015-06-25 00:00:00</td>\n",
       "      <td>06/25/2015</td>\n",
       "      <td>00:00:00</td>\n",
       "      <td>348</td>\n",
       "      <td>33</td>\n",
       "    </tr>\n",
       "    <tr>\n",
       "      <th>...</th>\n",
       "      <td>...</td>\n",
       "      <td>...</td>\n",
       "      <td>...</td>\n",
       "      <td>...</td>\n",
       "      <td>...</td>\n",
       "      <td>...</td>\n",
       "    </tr>\n",
       "    <tr>\n",
       "      <th>192536</th>\n",
       "      <td>(RIT-ROOSEVELT, R)</td>\n",
       "      <td>2015-06-22 01:00:00</td>\n",
       "      <td>06/22/2015</td>\n",
       "      <td>01:00:00</td>\n",
       "      <td>0</td>\n",
       "      <td>0</td>\n",
       "    </tr>\n",
       "    <tr>\n",
       "      <th>192537</th>\n",
       "      <td>(RIT-ROOSEVELT, R)</td>\n",
       "      <td>2015-06-22 05:00:00</td>\n",
       "      <td>06/22/2015</td>\n",
       "      <td>05:00:00</td>\n",
       "      <td>0</td>\n",
       "      <td>0</td>\n",
       "    </tr>\n",
       "    <tr>\n",
       "      <th>192538</th>\n",
       "      <td>(RIT-ROOSEVELT, R)</td>\n",
       "      <td>2015-06-22 09:00:00</td>\n",
       "      <td>06/22/2015</td>\n",
       "      <td>09:00:00</td>\n",
       "      <td>0</td>\n",
       "      <td>0</td>\n",
       "    </tr>\n",
       "    <tr>\n",
       "      <th>192539</th>\n",
       "      <td>(RIT-ROOSEVELT, R)</td>\n",
       "      <td>2015-06-22 13:00:00</td>\n",
       "      <td>06/22/2015</td>\n",
       "      <td>13:00:00</td>\n",
       "      <td>0</td>\n",
       "      <td>0</td>\n",
       "    </tr>\n",
       "    <tr>\n",
       "      <th>192540</th>\n",
       "      <td>(RIT-ROOSEVELT, R)</td>\n",
       "      <td>2015-06-22 17:00:00</td>\n",
       "      <td>06/22/2015</td>\n",
       "      <td>17:00:00</td>\n",
       "      <td>0</td>\n",
       "      <td>0</td>\n",
       "    </tr>\n",
       "    <tr>\n",
       "      <th>192541</th>\n",
       "      <td>(RIT-ROOSEVELT, R)</td>\n",
       "      <td>2015-06-22 21:00:00</td>\n",
       "      <td>06/22/2015</td>\n",
       "      <td>21:00:00</td>\n",
       "      <td>0</td>\n",
       "      <td>0</td>\n",
       "    </tr>\n",
       "    <tr>\n",
       "      <th>192542</th>\n",
       "      <td>(RIT-ROOSEVELT, R)</td>\n",
       "      <td>2015-06-23 01:00:00</td>\n",
       "      <td>06/23/2015</td>\n",
       "      <td>01:00:00</td>\n",
       "      <td>0</td>\n",
       "      <td>0</td>\n",
       "    </tr>\n",
       "    <tr>\n",
       "      <th>192543</th>\n",
       "      <td>(RIT-ROOSEVELT, R)</td>\n",
       "      <td>2015-06-23 05:00:00</td>\n",
       "      <td>06/23/2015</td>\n",
       "      <td>05:00:00</td>\n",
       "      <td>0</td>\n",
       "      <td>0</td>\n",
       "    </tr>\n",
       "    <tr>\n",
       "      <th>192544</th>\n",
       "      <td>(RIT-ROOSEVELT, R)</td>\n",
       "      <td>2015-06-23 09:00:00</td>\n",
       "      <td>06/23/2015</td>\n",
       "      <td>09:00:00</td>\n",
       "      <td>0</td>\n",
       "      <td>0</td>\n",
       "    </tr>\n",
       "    <tr>\n",
       "      <th>192545</th>\n",
       "      <td>(RIT-ROOSEVELT, R)</td>\n",
       "      <td>2015-06-23 13:00:00</td>\n",
       "      <td>06/23/2015</td>\n",
       "      <td>13:00:00</td>\n",
       "      <td>0</td>\n",
       "      <td>0</td>\n",
       "    </tr>\n",
       "    <tr>\n",
       "      <th>192546</th>\n",
       "      <td>(RIT-ROOSEVELT, R)</td>\n",
       "      <td>2015-06-23 17:00:00</td>\n",
       "      <td>06/23/2015</td>\n",
       "      <td>17:00:00</td>\n",
       "      <td>0</td>\n",
       "      <td>0</td>\n",
       "    </tr>\n",
       "    <tr>\n",
       "      <th>192547</th>\n",
       "      <td>(RIT-ROOSEVELT, R)</td>\n",
       "      <td>2015-06-23 21:00:00</td>\n",
       "      <td>06/23/2015</td>\n",
       "      <td>21:00:00</td>\n",
       "      <td>0</td>\n",
       "      <td>0</td>\n",
       "    </tr>\n",
       "    <tr>\n",
       "      <th>192548</th>\n",
       "      <td>(RIT-ROOSEVELT, R)</td>\n",
       "      <td>2015-06-24 01:00:00</td>\n",
       "      <td>06/24/2015</td>\n",
       "      <td>01:00:00</td>\n",
       "      <td>0</td>\n",
       "      <td>0</td>\n",
       "    </tr>\n",
       "    <tr>\n",
       "      <th>192549</th>\n",
       "      <td>(RIT-ROOSEVELT, R)</td>\n",
       "      <td>2015-06-24 05:00:00</td>\n",
       "      <td>06/24/2015</td>\n",
       "      <td>05:00:00</td>\n",
       "      <td>0</td>\n",
       "      <td>0</td>\n",
       "    </tr>\n",
       "    <tr>\n",
       "      <th>192550</th>\n",
       "      <td>(RIT-ROOSEVELT, R)</td>\n",
       "      <td>2015-06-24 09:00:00</td>\n",
       "      <td>06/24/2015</td>\n",
       "      <td>09:00:00</td>\n",
       "      <td>0</td>\n",
       "      <td>0</td>\n",
       "    </tr>\n",
       "    <tr>\n",
       "      <th>192551</th>\n",
       "      <td>(RIT-ROOSEVELT, R)</td>\n",
       "      <td>2015-06-24 13:00:00</td>\n",
       "      <td>06/24/2015</td>\n",
       "      <td>13:00:00</td>\n",
       "      <td>0</td>\n",
       "      <td>0</td>\n",
       "    </tr>\n",
       "    <tr>\n",
       "      <th>192552</th>\n",
       "      <td>(RIT-ROOSEVELT, R)</td>\n",
       "      <td>2015-06-24 17:00:00</td>\n",
       "      <td>06/24/2015</td>\n",
       "      <td>17:00:00</td>\n",
       "      <td>0</td>\n",
       "      <td>0</td>\n",
       "    </tr>\n",
       "    <tr>\n",
       "      <th>192553</th>\n",
       "      <td>(RIT-ROOSEVELT, R)</td>\n",
       "      <td>2015-06-24 21:00:00</td>\n",
       "      <td>06/24/2015</td>\n",
       "      <td>21:00:00</td>\n",
       "      <td>0</td>\n",
       "      <td>0</td>\n",
       "    </tr>\n",
       "    <tr>\n",
       "      <th>192554</th>\n",
       "      <td>(RIT-ROOSEVELT, R)</td>\n",
       "      <td>2015-06-25 01:00:00</td>\n",
       "      <td>06/25/2015</td>\n",
       "      <td>01:00:00</td>\n",
       "      <td>0</td>\n",
       "      <td>0</td>\n",
       "    </tr>\n",
       "    <tr>\n",
       "      <th>192555</th>\n",
       "      <td>(RIT-ROOSEVELT, R)</td>\n",
       "      <td>2015-06-25 05:00:00</td>\n",
       "      <td>06/25/2015</td>\n",
       "      <td>05:00:00</td>\n",
       "      <td>0</td>\n",
       "      <td>0</td>\n",
       "    </tr>\n",
       "    <tr>\n",
       "      <th>192556</th>\n",
       "      <td>(RIT-ROOSEVELT, R)</td>\n",
       "      <td>2015-06-25 09:00:00</td>\n",
       "      <td>06/25/2015</td>\n",
       "      <td>09:00:00</td>\n",
       "      <td>0</td>\n",
       "      <td>0</td>\n",
       "    </tr>\n",
       "    <tr>\n",
       "      <th>192557</th>\n",
       "      <td>(RIT-ROOSEVELT, R)</td>\n",
       "      <td>2015-06-25 13:00:00</td>\n",
       "      <td>06/25/2015</td>\n",
       "      <td>13:00:00</td>\n",
       "      <td>0</td>\n",
       "      <td>0</td>\n",
       "    </tr>\n",
       "    <tr>\n",
       "      <th>192558</th>\n",
       "      <td>(RIT-ROOSEVELT, R)</td>\n",
       "      <td>2015-06-25 17:00:00</td>\n",
       "      <td>06/25/2015</td>\n",
       "      <td>17:00:00</td>\n",
       "      <td>0</td>\n",
       "      <td>0</td>\n",
       "    </tr>\n",
       "    <tr>\n",
       "      <th>192559</th>\n",
       "      <td>(RIT-ROOSEVELT, R)</td>\n",
       "      <td>2015-06-25 21:00:00</td>\n",
       "      <td>06/25/2015</td>\n",
       "      <td>21:00:00</td>\n",
       "      <td>0</td>\n",
       "      <td>0</td>\n",
       "    </tr>\n",
       "    <tr>\n",
       "      <th>192560</th>\n",
       "      <td>(RIT-ROOSEVELT, R)</td>\n",
       "      <td>2015-06-26 01:00:00</td>\n",
       "      <td>06/26/2015</td>\n",
       "      <td>01:00:00</td>\n",
       "      <td>0</td>\n",
       "      <td>0</td>\n",
       "    </tr>\n",
       "    <tr>\n",
       "      <th>192561</th>\n",
       "      <td>(RIT-ROOSEVELT, R)</td>\n",
       "      <td>2015-06-26 05:00:00</td>\n",
       "      <td>06/26/2015</td>\n",
       "      <td>05:00:00</td>\n",
       "      <td>0</td>\n",
       "      <td>0</td>\n",
       "    </tr>\n",
       "    <tr>\n",
       "      <th>192562</th>\n",
       "      <td>(RIT-ROOSEVELT, R)</td>\n",
       "      <td>2015-06-26 09:00:00</td>\n",
       "      <td>06/26/2015</td>\n",
       "      <td>09:00:00</td>\n",
       "      <td>0</td>\n",
       "      <td>0</td>\n",
       "    </tr>\n",
       "    <tr>\n",
       "      <th>192563</th>\n",
       "      <td>(RIT-ROOSEVELT, R)</td>\n",
       "      <td>2015-06-26 13:00:00</td>\n",
       "      <td>06/26/2015</td>\n",
       "      <td>13:00:00</td>\n",
       "      <td>0</td>\n",
       "      <td>0</td>\n",
       "    </tr>\n",
       "    <tr>\n",
       "      <th>192564</th>\n",
       "      <td>(RIT-ROOSEVELT, R)</td>\n",
       "      <td>2015-06-26 17:00:00</td>\n",
       "      <td>06/26/2015</td>\n",
       "      <td>17:00:00</td>\n",
       "      <td>0</td>\n",
       "      <td>0</td>\n",
       "    </tr>\n",
       "    <tr>\n",
       "      <th>192565</th>\n",
       "      <td>(RIT-ROOSEVELT, R)</td>\n",
       "      <td>2015-06-26 21:00:00</td>\n",
       "      <td>06/26/2015</td>\n",
       "      <td>21:00:00</td>\n",
       "      <td>0</td>\n",
       "      <td>0</td>\n",
       "    </tr>\n",
       "  </tbody>\n",
       "</table>\n",
       "<p>186497 rows × 6 columns</p>\n",
       "</div>"
      ],
      "text/plain": [
       "                        station            datetime        date      time  \\\n",
       "1       (LEXINGTON AVE, NQR456) 2015-06-20 08:00:00  06/20/2015  08:00:00   \n",
       "2       (LEXINGTON AVE, NQR456) 2015-06-20 12:00:00  06/20/2015  12:00:00   \n",
       "3       (LEXINGTON AVE, NQR456) 2015-06-20 16:00:00  06/20/2015  16:00:00   \n",
       "4       (LEXINGTON AVE, NQR456) 2015-06-20 20:00:00  06/20/2015  20:00:00   \n",
       "5       (LEXINGTON AVE, NQR456) 2015-06-21 00:00:00  06/21/2015  00:00:00   \n",
       "6       (LEXINGTON AVE, NQR456) 2015-06-21 04:00:00  06/21/2015  04:00:00   \n",
       "7       (LEXINGTON AVE, NQR456) 2015-06-21 08:00:00  06/21/2015  08:00:00   \n",
       "8       (LEXINGTON AVE, NQR456) 2015-06-21 12:00:00  06/21/2015  12:00:00   \n",
       "9       (LEXINGTON AVE, NQR456) 2015-06-21 16:00:00  06/21/2015  16:00:00   \n",
       "10      (LEXINGTON AVE, NQR456) 2015-06-21 20:00:00  06/21/2015  20:00:00   \n",
       "11      (LEXINGTON AVE, NQR456) 2015-06-22 00:00:00  06/22/2015  00:00:00   \n",
       "12      (LEXINGTON AVE, NQR456) 2015-06-22 04:00:00  06/22/2015  04:00:00   \n",
       "13      (LEXINGTON AVE, NQR456) 2015-06-22 08:00:00  06/22/2015  08:00:00   \n",
       "14      (LEXINGTON AVE, NQR456) 2015-06-22 12:00:00  06/22/2015  12:00:00   \n",
       "15      (LEXINGTON AVE, NQR456) 2015-06-22 16:00:00  06/22/2015  16:00:00   \n",
       "16      (LEXINGTON AVE, NQR456) 2015-06-22 20:00:00  06/22/2015  20:00:00   \n",
       "17      (LEXINGTON AVE, NQR456) 2015-06-23 00:00:00  06/23/2015  00:00:00   \n",
       "18      (LEXINGTON AVE, NQR456) 2015-06-23 04:00:00  06/23/2015  04:00:00   \n",
       "19      (LEXINGTON AVE, NQR456) 2015-06-23 07:58:11  06/23/2015  07:58:11   \n",
       "20      (LEXINGTON AVE, NQR456) 2015-06-23 08:00:00  06/23/2015  08:00:00   \n",
       "21      (LEXINGTON AVE, NQR456) 2015-06-23 12:00:00  06/23/2015  12:00:00   \n",
       "22      (LEXINGTON AVE, NQR456) 2015-06-23 16:00:00  06/23/2015  16:00:00   \n",
       "23      (LEXINGTON AVE, NQR456) 2015-06-23 20:00:00  06/23/2015  20:00:00   \n",
       "24      (LEXINGTON AVE, NQR456) 2015-06-24 00:00:00  06/24/2015  00:00:00   \n",
       "25      (LEXINGTON AVE, NQR456) 2015-06-24 04:00:00  06/24/2015  04:00:00   \n",
       "26      (LEXINGTON AVE, NQR456) 2015-06-24 08:00:00  06/24/2015  08:00:00   \n",
       "27      (LEXINGTON AVE, NQR456) 2015-06-24 12:00:00  06/24/2015  12:00:00   \n",
       "28      (LEXINGTON AVE, NQR456) 2015-06-24 16:00:00  06/24/2015  16:00:00   \n",
       "29      (LEXINGTON AVE, NQR456) 2015-06-24 20:00:00  06/24/2015  20:00:00   \n",
       "30      (LEXINGTON AVE, NQR456) 2015-06-25 00:00:00  06/25/2015  00:00:00   \n",
       "...                         ...                 ...         ...       ...   \n",
       "192536       (RIT-ROOSEVELT, R) 2015-06-22 01:00:00  06/22/2015  01:00:00   \n",
       "192537       (RIT-ROOSEVELT, R) 2015-06-22 05:00:00  06/22/2015  05:00:00   \n",
       "192538       (RIT-ROOSEVELT, R) 2015-06-22 09:00:00  06/22/2015  09:00:00   \n",
       "192539       (RIT-ROOSEVELT, R) 2015-06-22 13:00:00  06/22/2015  13:00:00   \n",
       "192540       (RIT-ROOSEVELT, R) 2015-06-22 17:00:00  06/22/2015  17:00:00   \n",
       "192541       (RIT-ROOSEVELT, R) 2015-06-22 21:00:00  06/22/2015  21:00:00   \n",
       "192542       (RIT-ROOSEVELT, R) 2015-06-23 01:00:00  06/23/2015  01:00:00   \n",
       "192543       (RIT-ROOSEVELT, R) 2015-06-23 05:00:00  06/23/2015  05:00:00   \n",
       "192544       (RIT-ROOSEVELT, R) 2015-06-23 09:00:00  06/23/2015  09:00:00   \n",
       "192545       (RIT-ROOSEVELT, R) 2015-06-23 13:00:00  06/23/2015  13:00:00   \n",
       "192546       (RIT-ROOSEVELT, R) 2015-06-23 17:00:00  06/23/2015  17:00:00   \n",
       "192547       (RIT-ROOSEVELT, R) 2015-06-23 21:00:00  06/23/2015  21:00:00   \n",
       "192548       (RIT-ROOSEVELT, R) 2015-06-24 01:00:00  06/24/2015  01:00:00   \n",
       "192549       (RIT-ROOSEVELT, R) 2015-06-24 05:00:00  06/24/2015  05:00:00   \n",
       "192550       (RIT-ROOSEVELT, R) 2015-06-24 09:00:00  06/24/2015  09:00:00   \n",
       "192551       (RIT-ROOSEVELT, R) 2015-06-24 13:00:00  06/24/2015  13:00:00   \n",
       "192552       (RIT-ROOSEVELT, R) 2015-06-24 17:00:00  06/24/2015  17:00:00   \n",
       "192553       (RIT-ROOSEVELT, R) 2015-06-24 21:00:00  06/24/2015  21:00:00   \n",
       "192554       (RIT-ROOSEVELT, R) 2015-06-25 01:00:00  06/25/2015  01:00:00   \n",
       "192555       (RIT-ROOSEVELT, R) 2015-06-25 05:00:00  06/25/2015  05:00:00   \n",
       "192556       (RIT-ROOSEVELT, R) 2015-06-25 09:00:00  06/25/2015  09:00:00   \n",
       "192557       (RIT-ROOSEVELT, R) 2015-06-25 13:00:00  06/25/2015  13:00:00   \n",
       "192558       (RIT-ROOSEVELT, R) 2015-06-25 17:00:00  06/25/2015  17:00:00   \n",
       "192559       (RIT-ROOSEVELT, R) 2015-06-25 21:00:00  06/25/2015  21:00:00   \n",
       "192560       (RIT-ROOSEVELT, R) 2015-06-26 01:00:00  06/26/2015  01:00:00   \n",
       "192561       (RIT-ROOSEVELT, R) 2015-06-26 05:00:00  06/26/2015  05:00:00   \n",
       "192562       (RIT-ROOSEVELT, R) 2015-06-26 09:00:00  06/26/2015  09:00:00   \n",
       "192563       (RIT-ROOSEVELT, R) 2015-06-26 13:00:00  06/26/2015  13:00:00   \n",
       "192564       (RIT-ROOSEVELT, R) 2015-06-26 17:00:00  06/26/2015  17:00:00   \n",
       "192565       (RIT-ROOSEVELT, R) 2015-06-26 21:00:00  06/26/2015  21:00:00   \n",
       "\n",
       "        entries  exits  \n",
       "1            18     29  \n",
       "2           102     97  \n",
       "3           216     70  \n",
       "4           364     61  \n",
       "5           159     38  \n",
       "6            26      7  \n",
       "7            26     18  \n",
       "8            72     54  \n",
       "9           219     57  \n",
       "10          233     44  \n",
       "11          124     45  \n",
       "12           11      3  \n",
       "13           44    109  \n",
       "14          219    265  \n",
       "15          303     77  \n",
       "16          909     77  \n",
       "17          252     32  \n",
       "18           23      0  \n",
       "19           62     93  \n",
       "20            1      5  \n",
       "21          187    316  \n",
       "22          322     74  \n",
       "23          924     80  \n",
       "24          272     28  \n",
       "25           18      1  \n",
       "26           58     94  \n",
       "27          189    254  \n",
       "28          304     64  \n",
       "29         1126     55  \n",
       "30          348     33  \n",
       "...         ...    ...  \n",
       "192536        0      0  \n",
       "192537        0      0  \n",
       "192538        0      0  \n",
       "192539        0      0  \n",
       "192540        0      0  \n",
       "192541        0      0  \n",
       "192542        0      0  \n",
       "192543        0      0  \n",
       "192544        0      0  \n",
       "192545        0      0  \n",
       "192546        0      0  \n",
       "192547        0      0  \n",
       "192548        0      0  \n",
       "192549        0      0  \n",
       "192550        0      0  \n",
       "192551        0      0  \n",
       "192552        0      0  \n",
       "192553        0      0  \n",
       "192554        0      0  \n",
       "192555        0      0  \n",
       "192556        0      0  \n",
       "192557        0      0  \n",
       "192558        0      0  \n",
       "192559        0      0  \n",
       "192560        0      0  \n",
       "192561        0      0  \n",
       "192562        0      0  \n",
       "192563        0      0  \n",
       "192564        0      0  \n",
       "192565        0      0  \n",
       "\n",
       "[186497 rows x 6 columns]"
      ]
     },
     "execution_count": 111,
     "metadata": {},
     "output_type": "execute_result"
    }
   ],
   "source": [
    "df"
   ]
  },
  {
   "cell_type": "code",
   "execution_count": 121,
   "metadata": {
    "collapsed": true
   },
   "outputs": [],
   "source": [
    "dates = pd.DatetimeIndex(df.datetime)\n",
    "total_per_station = df.groupby('station').sum()"
   ]
  },
  {
   "cell_type": "code",
   "execution_count": 124,
   "metadata": {
    "collapsed": false
   },
   "outputs": [
    {
     "data": {
      "text/html": [
       "<div>\n",
       "<table border=\"1\" class=\"dataframe\">\n",
       "  <thead>\n",
       "    <tr style=\"text-align: right;\">\n",
       "      <th></th>\n",
       "      <th>entries</th>\n",
       "      <th>exits</th>\n",
       "    </tr>\n",
       "    <tr>\n",
       "      <th>station</th>\n",
       "      <th></th>\n",
       "      <th></th>\n",
       "    </tr>\n",
       "  </thead>\n",
       "  <tbody>\n",
       "    <tr>\n",
       "      <th>(1 AVE, L)</th>\n",
       "      <td>150372</td>\n",
       "      <td>156406</td>\n",
       "    </tr>\n",
       "    <tr>\n",
       "      <th>(103 ST, 1)</th>\n",
       "      <td>84286</td>\n",
       "      <td>38634</td>\n",
       "    </tr>\n",
       "    <tr>\n",
       "      <th>(103 ST, 6)</th>\n",
       "      <td>47863</td>\n",
       "      <td>70490</td>\n",
       "    </tr>\n",
       "    <tr>\n",
       "      <th>(103 ST, BC)</th>\n",
       "      <td>29319</td>\n",
       "      <td>19095</td>\n",
       "    </tr>\n",
       "    <tr>\n",
       "      <th>(103 ST-CORONA, 7)</th>\n",
       "      <td>122220</td>\n",
       "      <td>76700</td>\n",
       "    </tr>\n",
       "  </tbody>\n",
       "</table>\n",
       "</div>"
      ],
      "text/plain": [
       "                    entries   exits\n",
       "station                            \n",
       "(1 AVE, L)           150372  156406\n",
       "(103 ST, 1)           84286   38634\n",
       "(103 ST, 6)           47863   70490\n",
       "(103 ST, BC)          29319   19095\n",
       "(103 ST-CORONA, 7)   122220   76700"
      ]
     },
     "execution_count": 124,
     "metadata": {},
     "output_type": "execute_result"
    }
   ],
   "source": [
    "total_per_station.head()"
   ]
  },
  {
   "cell_type": "markdown",
   "metadata": {},
   "source": [
    "# 10"
   ]
  },
  {
   "cell_type": "markdown",
   "metadata": {},
   "source": [
    "I plot the 15 most trafficked stations"
   ]
  },
  {
   "cell_type": "code",
   "execution_count": 138,
   "metadata": {
    "collapsed": false
   },
   "outputs": [],
   "source": [
    "curated_total_per_station = total_per_station.sort(columns=['exits'], \n",
    "                                                   ascending=False)[:15]"
   ]
  },
  {
   "cell_type": "code",
   "execution_count": 139,
   "metadata": {
    "collapsed": false,
    "scrolled": true
   },
   "outputs": [
    {
     "data": {
      "image/png": "[encoded data removed]",
      "text/plain": [
       "<matplotlib.figure.Figure at 0x13255b4d0>"
      ]
     },
     "metadata": {},
     "output_type": "display_data"
    }
   ],
   "source": [
    "curated_total_per_station.plot(kind='barh')\n",
    "plt.gca().invert_yaxis()"
   ]
  }
 ],
 "metadata": {
  "kernelspec": {
   "display_name": "Python 2",
   "language": "python",
   "name": "python2"
  },
  "language_info": {
   "codemirror_mode": {
    "name": "ipython",
    "version": 2
   },
   "file_extension": ".py",
   "mimetype": "text/x-python",
   "name": "python",
   "nbconvert_exporter": "python",
   "pygments_lexer": "ipython2",
   "version": "2.7.10"
  }
 },
 "nbformat": 4,
 "nbformat_minor": 0
}

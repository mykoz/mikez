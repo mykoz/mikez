{
 "cells": [
  {
   "cell_type": "code",
   "execution_count": 1,
   "metadata": {
    "collapsed": true
   },
   "outputs": [],
   "source": []
  },
  {
   "cell_type": "code",
   "execution_count": 2,
   "metadata": {
    "collapsed": false
   },
   "outputs": [],
   "source": [
    "from collections import defaultdict\n",
    "import os\n",
    "import csv\n",
    "import dateutil.parser\n",
    "%matplotlib inline\n",
    "import matplotlib.pyplot as plt"
   ]
  },
  {
   "cell_type": "code",
   "execution_count": 3,
   "metadata": {
    "collapsed": false
   },
   "outputs": [
    {
     "ename": "OSError",
     "evalue": "[Errno 2] No such file or directory: './data/'",
     "output_type": "error",
     "traceback": [
      "\u001b[1;31m---------------------------------------------------------------------------\u001b[0m",
      "\u001b[1;31mOSError\u001b[0m                                   Traceback (most recent call last)",
      "\u001b[1;32m<ipython-input-3-b3a8a52fbef0>\u001b[0m in \u001b[0;36m<module>\u001b[1;34m()\u001b[0m\n\u001b[0;32m     21\u001b[0m \u001b[1;33m\u001b[0m\u001b[0m\n\u001b[0;32m     22\u001b[0m \u001b[1;33m\u001b[0m\u001b[0m\n\u001b[1;32m---> 23\u001b[1;33m \u001b[0mreader\u001b[0m\u001b[1;33m(\u001b[0m\u001b[1;33m)\u001b[0m\u001b[1;33m\u001b[0m\u001b[0m\n\u001b[0m",
      "\u001b[1;32m<ipython-input-3-b3a8a52fbef0>\u001b[0m in \u001b[0;36mreader\u001b[1;34m(directory)\u001b[0m\n\u001b[0;32m      1\u001b[0m \u001b[1;32mdef\u001b[0m \u001b[0mreader\u001b[0m\u001b[1;33m(\u001b[0m\u001b[0mdirectory\u001b[0m\u001b[1;33m=\u001b[0m \u001b[1;34m\"./data/\"\u001b[0m\u001b[1;33m)\u001b[0m\u001b[1;33m:\u001b[0m\u001b[1;33m\u001b[0m\u001b[0m\n\u001b[0;32m      2\u001b[0m     \u001b[0mlistOfLists\u001b[0m \u001b[1;33m=\u001b[0m \u001b[1;33m[\u001b[0m\u001b[1;33m]\u001b[0m\u001b[1;33m\u001b[0m\u001b[0m\n\u001b[1;32m----> 3\u001b[1;33m     \u001b[1;32mfor\u001b[0m \u001b[0mf\u001b[0m \u001b[1;32min\u001b[0m \u001b[0mos\u001b[0m\u001b[1;33m.\u001b[0m\u001b[0mlistdir\u001b[0m\u001b[1;33m(\u001b[0m\u001b[0mdirectory\u001b[0m\u001b[1;33m)\u001b[0m\u001b[1;33m:\u001b[0m\u001b[1;33m\u001b[0m\u001b[0m\n\u001b[0m\u001b[0;32m      4\u001b[0m         \u001b[1;32mif\u001b[0m \u001b[0mf\u001b[0m\u001b[1;33m.\u001b[0m\u001b[0mendswith\u001b[0m\u001b[1;33m(\u001b[0m\u001b[1;34m\".txt\"\u001b[0m\u001b[1;33m)\u001b[0m\u001b[1;33m:\u001b[0m\u001b[1;33m\u001b[0m\u001b[0m\n\u001b[0;32m      5\u001b[0m             \u001b[0mf\u001b[0m \u001b[1;33m=\u001b[0m \u001b[0mdirectory\u001b[0m \u001b[1;33m+\u001b[0m \u001b[0mf\u001b[0m\u001b[1;33m\u001b[0m\u001b[0m\n",
      "\u001b[1;31mOSError\u001b[0m: [Errno 2] No such file or directory: './data/'"
     ]
    }
   ],
   "source": [
    "def reader(directory= \"./data/\"):\n",
    "    listOfLists = []\n",
    "    for f in os.listdir(directory):\n",
    "        if f.endswith(\".txt\"):\n",
    "            f = directory + f\n",
    "            with open(f, \"rb\") as csvfile:\n",
    "                \n",
    "                #SKIP HEADER ['C/A', 'UNIT', 'SCP', 'STATION', 'LINENAME', 'DIVISION', 'DATE', 'TIME', 'DESC', 'ENTRIES', 'EXITS     ']\n",
    "                next(csvfile)\n",
    "                for line in csvfile:\n",
    "                    listOfLists.append(line.split(\",\"))\n",
    "    \n",
    "    #Remove excess space and \\n from last item\n",
    "    for item in listOfLists[0:80000]:\n",
    "        item[-1] = item[-1][0:10]\n",
    "                    \n",
    "                    \n",
    "\n",
    "    return listOfLists[0:80000]\n",
    "    print listOfLists\n",
    "\n",
    "\n",
    "reader()"
   ]
  },
  {
   "cell_type": "markdown",
   "metadata": {},
   "source": [
    "**CHALLENGE 1**"
   ]
  },
  {
   "cell_type": "code",
   "execution_count": null,
   "metadata": {
    "collapsed": false
   },
   "outputs": [],
   "source": [
    "def ConvertRawDataToDict(inlist):\n",
    "    d = defaultdict(list)\n",
    "    #d = {}\n",
    "    \n",
    "    for row in inlist:\n",
    "        key = tuple(row[0:4])\n",
    "        vals = row[4:]\n",
    "\n",
    "        if key in d:\n",
    "            d[key].append(vals)\n",
    "        else:\n",
    "            valsRow = list(vals)\n",
    "            d[key] = [valsRow]\n",
    "            \n",
    "    return d\n",
    "\n",
    "d = ConvertRawDataToDict(reader())\n",
    "print len(d)\n"
   ]
  },
  {
   "cell_type": "markdown",
   "metadata": {},
   "source": [
    "**CHALLENGE 2**"
   ]
  },
  {
   "cell_type": "code",
   "execution_count": null,
   "metadata": {
    "collapsed": false
   },
   "outputs": [],
   "source": [
    "def timesDict(dictionary):\n",
    "    \n",
    "    newDict = defaultdict()\n",
    "    \n",
    "    for key, value in dictionary.items():\n",
    "        newDict[key] = []\n",
    "        \n",
    "               \n",
    "        for row in value: \n",
    "            #for each key, make date time into one string        \n",
    "            dateStr = row[2] + \" \" + row[3]\n",
    "            \n",
    "            #use dateutil to convert date time\n",
    "            daTime = dateutil.parser.parse(dateStr)\n",
    "            \n",
    "            \n",
    "            #convert entries to integer to get rid of leading 0's\n",
    "            entryInt = int(row[5])\n",
    "            \n",
    "            \n",
    "            #creates list of lists with DaTime, Entry count\n",
    "            newDataRow = []\n",
    "            newDataRow.append(daTime)\n",
    "            newDataRow.append(entryInt)\n",
    "            \n",
    "            newDict[key].append(newDataRow)\n",
    "        \n",
    "    for k, val in newDict.items():\n",
    "        \n",
    "        #sort date\n",
    "        val = sorted(val, key = lambda x: x[0])\n",
    "        \n",
    "        #subtract previous count from recent count\n",
    "        for i, row in enumerate(val):\n",
    "            if i == 0:\n",
    "                row.append(0)\n",
    "            else:\n",
    "                row.append(val[i][1] - val[i-1][1])\n",
    "        \n",
    "        #remove old count value\n",
    "        for item in val:\n",
    "            item.pop(-2)\n",
    "    return newDict\n",
    "        \n",
    "    \n",
    "d =  timesDict(d)\n",
    "\n",
    "# for key,value in d.items()\n"
   ]
  },
  {
   "cell_type": "markdown",
   "metadata": {
    "collapsed": true
   },
   "source": [
    "**CHALLENGE 3**"
   ]
  },
  {
   "cell_type": "code",
   "execution_count": null,
   "metadata": {
    "collapsed": false
   },
   "outputs": [],
   "source": [
    "#n = 4, data comes every 4 hours\n",
    "#OBJECTIVE: same keys, single count for single day\n",
    "\n",
    "def perDay(d):\n",
    "    bydayDict = defaultdict()\n",
    "    \n",
    "    for key, val in d.items():\n",
    "        \n",
    "        \n",
    "        bydayDict[key] = []\n",
    "        \n",
    "        bydayDate = \"\"\n",
    "        \n",
    "        count = 0\n",
    "        for index, ls in enumerate(sorted(val)):\n",
    "            try:\n",
    "                date = ls[0].date()\n",
    "            except AttributeError:\n",
    "                date = ls[0]\n",
    "            entry = ls[1]\n",
    "            \n",
    "            if index == 0:\n",
    "                lastDate = date\n",
    "            if date == lastDate:\n",
    "                count += entry\n",
    "            else:\n",
    "                bydayDict[key].append([lastDate,count])\n",
    "                lastDate = date\n",
    "                count = entry\n",
    "        bydayDict[key].append([lastDate,count])\n",
    "        \n",
    "    return bydayDict\n",
    "            \n",
    "daily = perDay(d)\n"
   ]
  },
  {
   "cell_type": "code",
   "execution_count": null,
   "metadata": {
    "collapsed": false
   },
   "outputs": [],
   "source": []
  },
  {
   "cell_type": "markdown",
   "metadata": {},
   "source": [
    "**CHALLENGE 4**"
   ]
  },
  {
   "cell_type": "code",
   "execution_count": null,
   "metadata": {
    "collapsed": true
   },
   "outputs": [],
   "source": [
    "#to choose  to print for one day\n",
    "def PlotbyDay(dictionary, key):\n",
    "    dates = [date[0] for date in dictionary[key]]\n",
    "    counts = [count[1] for count in dictionary[key]]\n",
    "    \n",
    "    return dates, counts\n"
   ]
  },
  {
   "cell_type": "code",
   "execution_count": null,
   "metadata": {
    "collapsed": false
   },
   "outputs": [],
   "source": [
    "def TimeSeries(dates, counts):\n",
    "    plt.figure(figsize=(10,5))\n",
    "    plt.plot(dates, counts)\n",
    "    \n",
    "dates, counts = PlotbyDay(daily, list(daily.keys())[0])\n",
    "TimeSeries(dates, counts)"
   ]
  },
  {
   "cell_type": "markdown",
   "metadata": {},
   "source": [
    "**CHALLENGE 5**"
   ]
  },
  {
   "cell_type": "code",
   "execution_count": null,
   "metadata": {
    "collapsed": true
   },
   "outputs": [],
   "source": [
    "\n",
    "def perSCPs(dictionary):\n",
    "    scpDict = defaultdict()\n",
    "    \n",
    "    for k, lol in dictionary.items():\n",
    "        newK = tuple(k[:2] + (k[3],))\n",
    "        try:\n",
    "            scpDict[newK] += lol\n",
    "        except KeyError:\n",
    "            # if there is no entry for this key, make one\n",
    "            scpDict[newK] = lol\n",
    "        \n",
    "    scpDict = perDay(scpDict)\n",
    "    \n",
    "    return scpDict\n",
    "\n",
    "SCPs = perSCPs(daily)\n"
   ]
  },
  {
   "cell_type": "markdown",
   "metadata": {},
   "source": [
    "**CHALLENGE 6**"
   ]
  },
  {
   "cell_type": "code",
   "execution_count": null,
   "metadata": {
    "collapsed": false
   },
   "outputs": [],
   "source": [
    "def perStations(dictionary):\n",
    "    staDict = defaultdict()\n",
    "    \n",
    "    for k, lol in dictionary.items():\n",
    "        newK = k[2]\n",
    "        try:\n",
    "            staDict[newK] += lol\n",
    "        except KeyError:\n",
    "            # if there is no entry for this key, make one\n",
    "            staDict[newK] = lol\n",
    "        \n",
    "    staDict = perDay(staDict)\n",
    "    \n",
    "    return staDict\n",
    "\n",
    "stations = perStations(SCPs)"
   ]
  },
  {
   "cell_type": "markdown",
   "metadata": {},
   "source": [
    "**CHALLENGE 7**\n"
   ]
  },
  {
   "cell_type": "code",
   "execution_count": null,
   "metadata": {
    "collapsed": false
   },
   "outputs": [],
   "source": [
    "dates, counts = PlotbyDay(stations, list(stations.keys())[0])\n",
    "TimeSeries(dates, counts)"
   ]
  },
  {
   "cell_type": "markdown",
   "metadata": {},
   "source": [
    "**CHALLENGE 8**"
   ]
  },
  {
   "cell_type": "code",
   "execution_count": null,
   "metadata": {
    "collapsed": false
   },
   "outputs": [],
   "source": [
    "def SplitWeekly(d, station):\n",
    "    Weeklylist = []\n",
    "    weekEntries = []\n",
    "    \n",
    "    for i, dataList in enumerate(sorted(d[station])):\n",
    "        date = dataList[0]\n",
    "        weekday = date.weekday()\n",
    "        entries = dataList[1]\n",
    "        \n",
    "        if (i == 0) and (weekday != 6):  # If first item in list and weekday is NOT Sunday\n",
    "            daysAhead = (7 + weekday) - 6\n",
    "            for i in range(daysAhead):\n",
    "                weekEntries.append(0)\n",
    "        \n",
    "        weekEntries.append(entries)\n",
    "        \n",
    "        if (weekday == 5):  # If NOT Sunday\n",
    "            Weeklylist.append(weekEntries)\n",
    "            weekEntries = []\n",
    "        \n",
    "    lastWeekLen = len(weekEntries)\n",
    "    if lastWeekLen != 0:\n",
    "        for i in range(7 - lastWeekLen):\n",
    "            weekEntries.append(0)\n",
    "\n",
    "    Weeklylist.append(weekEntries)\n",
    "    \n",
    "    return Weeklylist\n",
    "\n",
    "weekls = SplitWeekly(stations, list(stations.keys())[0])"
   ]
  },
  {
   "cell_type": "code",
   "execution_count": null,
   "metadata": {
    "collapsed": true
   },
   "outputs": [],
   "source": [
    "def WeekData(oneweek):\n",
    "    # weekdays = [\"Sunday\", \"Monday\", \"Tuesday\", \"Wednesday\", \"Thursday\", \"Friday\", \"Saturday\"]\n",
    "    weekdays = [x + 1 for x in range(7)]\n",
    "    counts = oneweek\n",
    "    return weekdays, counts"
   ]
  },
  {
   "cell_type": "code",
   "execution_count": null,
   "metadata": {
    "collapsed": false
   },
   "outputs": [],
   "source": [
    "def RainbowWeek(weeklyLists):\n",
    "    for week in weeklyLists:\n",
    "        weekdays, counts = WeekData(week)\n",
    "        plt.plot(weekdays, counts)\n",
    "        \n",
    "RainbowWeek(weekls)"
   ]
  },
  {
   "cell_type": "markdown",
   "metadata": {},
   "source": [
    "**CHALLENGE 9**"
   ]
  },
  {
   "cell_type": "code",
   "execution_count": null,
   "metadata": {
    "collapsed": false
   },
   "outputs": [],
   "source": [
    "def AllDations(d):\n",
    "    return {k: sum([lst[1] for lst in LoLs]) for k, LoLs in d.items()}\n",
    "\n",
    "alldatestation = sorted(AllDations(stations).items(), key=lambda x: x[1], reverse=1)\n"
   ]
  },
  {
   "cell_type": "code",
   "execution_count": null,
   "metadata": {
    "collapsed": false
   },
   "outputs": [],
   "source": [
    "stationCount = len(alldatestation)\n",
    "print alldatestation"
   ]
  },
  {
   "cell_type": "markdown",
   "metadata": {},
   "source": [
    "**CHALLENGE 10**"
   ]
  },
  {
   "cell_type": "code",
   "execution_count": null,
   "metadata": {
    "collapsed": false
   },
   "outputs": [],
   "source": [
    "counts = [count for station, count in alldatestation]\n",
    "plt.hist(counts)"
   ]
  },
  {
   "cell_type": "code",
   "execution_count": null,
   "metadata": {
    "collapsed": false
   },
   "outputs": [],
   "source": [
    "indices = range(1, len(counts) + 1)\n",
    "plt.bar(indices, counts)"
   ]
  },
  {
   "cell_type": "code",
   "execution_count": null,
   "metadata": {
    "collapsed": true
   },
   "outputs": [],
   "source": []
  },
  {
   "cell_type": "code",
   "execution_count": null,
   "metadata": {
    "collapsed": true
   },
   "outputs": [],
   "source": []
  }
 ],
 "metadata": {
  "kernelspec": {
   "display_name": "Python 2",
   "language": "python",
   "name": "python2"
  },
  "language_info": {
   "codemirror_mode": {
    "name": "ipython",
    "version": 2
   },
   "file_extension": ".py",
   "mimetype": "text/x-python",
   "name": "python",
   "nbconvert_exporter": "python",
   "pygments_lexer": "ipython2",
   "version": "2.7.10"
  }
 },
 "nbformat": 4,
 "nbformat_minor": 0
}

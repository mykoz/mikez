{
 "cells": [
  {
   "cell_type": "markdown",
   "metadata": {},
   "source": [
    "##Benson Challenges"
   ]
  },
  {
   "cell_type": "markdown",
   "metadata": {},
   "source": [
    "#### Challenge 1\n",
    "\n",
    "- Open up a new IPython notebook\n",
    "- Download a few MTA turnstile data files\n",
    "- Open up a file, use csv reader to read it, make a python dict where\n",
    "  there is a key for each (C/A, UNIT, SCP, STATION). These are the\n",
    "  first four columns. The value for this key should be a list of\n",
    "  lists. Each list in the list is the rest of the columns in a\n",
    "  row. For example, one key-value pair should look like\n",
    "\n",
    "\n",
    "{    ('A002','R051','02-00-00','LEXINGTON AVE'):\n",
    "[\n",
    "['NQR456', 'BMT', '01/03/2015', '03:00:00', 'REGULAR', '0004945474', '0001675324'],\n",
    "['NQR456', 'BMT', '01/03/2015', '07:00:00', 'REGULAR', '0004945478', '0001675333'],\n",
    "['NQR456', 'BMT', '01/03/2015', '11:00:00', 'REGULAR', '0004945515', '0001675364'],\n",
    "...\n",
    "]\n",
    "}"
   ]
  },
  {
   "cell_type": "code",
   "execution_count": 1,
   "metadata": {
    "collapsed": false,
    "scrolled": false
   },
   "outputs": [
    {
     "name": "stdout",
     "output_type": "stream",
     "text": [
      "http://web.mta.info/developers/data/nyct/turnstile/turnstile_150912.txt 385032\n",
      "http://web.mta.info/developers/data/nyct/turnstile/turnstile_150919.txt 581937\n"
     ]
    }
   ],
   "source": [
    " from datetime import datetime, timedelta\n",
    "\n",
    "from pprint import pprint\n",
    "import pandas as pd\n",
    "\n",
    "\n",
    "def get_data(start,end):\n",
    "\n",
    "    \"\"\"\n",
    "    Downloads data from online MTA data source\n",
    "    It loops through all recent data, and appends it to a single csv datafile\n",
    "    \"\"\"\n",
    "\n",
    "    end_date = datetime.strptime(end, '%y%m%d')\n",
    "    current_date = datetime.strptime(start, '%y%m%d')\n",
    "    base_link = 'http://web.mta.info/developers/data/nyct/turnstile/turnstile_'\n",
    "    df = pd.read_csv(base_link+current_date.strftime('%y%m%d')+'.txt')\n",
    "    total = len(df)\n",
    "    while(current_date < end_date):\n",
    "        current_date = current_date+timedelta(days=7)\n",
    "        link = base_link+current_date.strftime('%y%m%d')+'.txt'\n",
    "        new_df = pd.read_csv(link)\n",
    "        total += len(new_df)\n",
    "        print link, total\n",
    "        df = df.append(new_df, ignore_index=True)\n",
    "\n",
    "    return df\n",
    "df=get_data('150905','150919')"
   ]
  },
  {
   "cell_type": "code",
   "execution_count": 2,
   "metadata": {
    "collapsed": false,
    "scrolled": true
   },
   "outputs": [],
   "source": [
    "##add Day and Month Column\n",
    "data=df\n",
    "data['DAY'] = data['DATE'].apply(lambda x: datetime.strptime(x, '%m/%d/%Y').strftime('%a'))\n",
    "data['DAY_NUM'] = data['DATE'].apply(lambda x: datetime.strptime(x, '%m/%d/%Y').strftime('%w'))\n",
    "data['MONTH'] = data['DATE'].apply(lambda x: datetime.strptime(x, '%m/%d/%Y').strftime('%m'))\n",
    "\n",
    "##Remove the entries and exits collumation factor by subtracking the previous value\n",
    "data = data.rename(columns={'EXITS                                                               ': 'EXITS'})\n",
    "data['TIMEFRAME_ENTRIES']  = data['ENTRIES'] - data.groupby(['C/A', 'UNIT', 'SCP', 'STATION'])['ENTRIES'].shift(1)\n",
    "data['TIMEFRAME_EXITS']= data['EXITS'] - data.groupby(['C/A', 'UNIT', 'SCP', 'STATION'])['EXITS'].shift(1)\n",
    "\n",
    "##Remove unreasonable values from the entries and exit columns\n",
    "data = data[(data['TIMEFRAME_ENTRIES'] >= 0) &(data['TIMEFRAME_ENTRIES'] <= 5000)]\n",
    "data = data[(data['TIMEFRAME_EXITS'] >= 0) & (data['TIMEFRAME_EXITS'] <= 5000)]\n",
    "\n",
    "##save file to data pickle file\n",
    "data.to_pickle('benson_dataframe.p')\n"
   ]
  },
  {
   "cell_type": "code",
   "execution_count": 3,
   "metadata": {
    "collapsed": false
   },
   "outputs": [],
   "source": [
    "#create dic of turnstile grouped by ['C/A','UNIT','SCP','STATION']\n",
    "dic={}\n",
    "for key, value in data.groupby(['C/A','UNIT','SCP','STATION']):\n",
    "    dic[key]=value[[x for x in value.columns.tolist() if x not in ['C/A','UNIT','SCP','STATION']]].values.tolist()"
   ]
  },
  {
   "cell_type": "markdown",
   "metadata": {},
   "source": [
    "#### Challenge 2\n",
    "\n",
    "- Let's turn this into a time series.\n",
    "\n",
    " For each key (basically the control area, unit, device address and\n",
    " station of a specific turnstile), have a list again, but let the list\n",
    " be comprised of just the point in time and the count of entries.\n",
    "\n",
    "This basically means keeping only the date, time, and entries fields\n",
    "in each list. You can convert the date and time into datetime objects\n",
    "-- That is a python class that represents a point in time. You can\n",
    "combine the date and time fields into a string and use the\n",
    "[dateutil](https://labix.org/python-dateutil) module to convert it\n",
    "into a datetime object. For an example check\n",
    "[this StackOverflow question](http://stackoverflow.com/questions/23385003/attributeerror-when-using-import-dateutil-and-dateutil-parser-parse-but-no).\n",
    "\n",
    "Your new dict should look something like\n",
    "\n",
    "{    ('A002','R051','02-00-00','LEXINGTON AVE'):\n",
    "[\n",
    "[datetime.datetime(2013, 3, 2, 3, 0), 3788],\n",
    "[datetime.datetime(2013, 3, 2, 7, 0), 2585],\n",
    "[datetime.datetime(2013, 3, 2, 12, 0), 10653],\n",
    "[datetime.datetime(2013, 3, 2, 17, 0), 11016],\n",
    "[datetime.datetime(2013, 3, 2, 23, 0), 10666],\n",
    "[datetime.datetime(2013, 3, 3, 3, 0), 10814],\n",
    "[datetime.datetime(2013, 3, 3, 7, 0), 10229],\n",
    "...\n",
    "],\n",
    "....\n",
    "}"
   ]
  },
  {
   "cell_type": "code",
   "execution_count": 4,
   "metadata": {
    "collapsed": false
   },
   "outputs": [],
   "source": [
    "for key in dic:\n",
    "    lst=[]\n",
    "    for i in xrange(1,len(dic[key])):\n",
    "        lst.append([datetime.strptime(dic[key][i][2]+\" \"+dic[key][i][3], '%m/%d/%Y %H:%M:%S'),dic[key][i][-2]])\n",
    "    dic[key]=lst"
   ]
  },
  {
   "cell_type": "markdown",
   "metadata": {},
   "source": [
    "#### Challenge 3\n",
    "\n",
    "- These counts are for every n hours. (What is n?) We want total daily\n",
    "  entries.\n",
    "\n",
    "Now make it that we again have the same keys, but now we have a single\n",
    "value for a single day, which is the total number of passengers that\n",
    "entered through this turnstile on this day.\n",
    "\n",
    "\n"
   ]
  },
  {
   "cell_type": "code",
   "execution_count": 5,
   "metadata": {
    "collapsed": false
   },
   "outputs": [],
   "source": [
    "#N is about every 4 hours but not always data is dirty.\n",
    "for key in dic:\n",
    "    dicDay={}\n",
    "    for time, count in dic[key]:\n",
    "        time=time.date()\n",
    "        if time in dicDay:\n",
    "            dicDay[time]+=count\n",
    "        else:\n",
    "            dicDay[time]=count\n",
    "    dic[key]=sorted([(x,dicDay[x]) for x in dicDay])"
   ]
  },
  {
   "cell_type": "markdown",
   "metadata": {},
   "source": [
    "\n",
    "#### Challenge 4\n",
    "\n",
    "We will plot the daily time series for a turnstile.\n",
    "\n",
    "In ipython notebook, add this to the beginning of your next cell:\n",
    "\n",
    "    %matplotlib inline\n",
    "\n",
    "This will make your matplotlib graphs integrate nicely with the\n",
    "notebook. To plot the time series, import matplotlib with\n",
    "\n",
    "    import matplotlib.pyplot as plt\n",
    "\n",
    "Take the list of [(date1, count1), (date2, count2), ...], for the\n",
    "turnstile and turn it into two lists:\n",
    "dates and counts. This should plot it:\n",
    "\n",
    "    plt.figure(figsize=(10,3))\n",
    "    plt.plot(dates,counts)\n",
    "\n",
    "\n"
   ]
  },
  {
   "cell_type": "code",
   "execution_count": 6,
   "metadata": {
    "collapsed": false
   },
   "outputs": [
    {
     "data": {
      "text/plain": [
       "[<matplotlib.lines.Line2D at 0x122b41390>]"
      ]
     },
     "execution_count": 6,
     "metadata": {},
     "output_type": "execute_result"
    },
    {
     "data": {
      "image/png": "[encoded data removed]",
      "text/plain": [
       "<matplotlib.figure.Figure at 0x106aaf690>"
      ]
     },
     "metadata": {},
     "output_type": "display_data"
    }
   ],
   "source": [
    "%matplotlib inline\n",
    "import matplotlib.pyplot as plt\n",
    "dates=[item[0] for item in dic[dic.keys()[0]]]\n",
    "counts=[item[1] for item in dic[dic.keys()[0]]]\n",
    "plt.figure(figsize=(10,3))\n",
    "plt.plot(dates,counts)"
   ]
  },
  {
   "cell_type": "markdown",
   "metadata": {},
   "source": [
    "#### Challenge 5\n",
    "\n",
    "- So far we've been operating on a single turnstile level, let's\n",
    "  combine turnstiles in the same ControlArea/Unit/Station combo. There\n",
    "  are some ControlArea/Unit/Station groups that have a single\n",
    "  turnstile, but most have multiple turnstilea-- same value for the\n",
    "  C/A, UNIT and STATION columns, different values for the SCP column.\n",
    "\n",
    "We want to combine the numbers together -- for each\n",
    "ControlArea/UNIT/STATION combo, for each day, add the counts from each\n",
    "turnstile belonging to that combo."
   ]
  },
  {
   "cell_type": "code",
   "execution_count": 7,
   "metadata": {
    "collapsed": false
   },
   "outputs": [],
   "source": [
    "ch5={}\n",
    "for key, value in data.groupby(['C/A', 'UNIT', 'STATION']):\n",
    "    ch5[key]=[(date,x['TIMEFRAME_ENTRIES'].sum()) for date, x in value.groupby('DATE')]"
   ]
  },
  {
   "cell_type": "markdown",
   "metadata": {},
   "source": [
    "#### Challenge 6\n",
    "\n",
    "Similarly, combine everything in each station, and come up with a time\n",
    "series of `[(date1, count1),(date2,count2),...]` type of time series\n",
    "for each STATION, by adding up all the turnstiles in a station."
   ]
  },
  {
   "cell_type": "code",
   "execution_count": 8,
   "metadata": {
    "collapsed": false
   },
   "outputs": [],
   "source": [
    "ch6={}\n",
    "for key, value in data.groupby(['STATION']):\n",
    "    ch6[key]=[(datetime.strptime(date,'%m/%d/%Y'),x['TIMEFRAME_ENTRIES'].sum()) for date, x in value.groupby('DATE')]"
   ]
  },
  {
   "cell_type": "markdown",
   "metadata": {},
   "source": [
    "#### Challenge 7\n",
    "\n",
    "Plot the time series for a station."
   ]
  },
  {
   "cell_type": "code",
   "execution_count": 9,
   "metadata": {
    "collapsed": false
   },
   "outputs": [
    {
     "data": {
      "text/plain": [
       "[<matplotlib.lines.Line2D at 0x1043dd290>]"
      ]
     },
     "execution_count": 9,
     "metadata": {},
     "output_type": "execute_result"
    },
    {
     "data": {
      "image/png": "[encoded data removed]",
      "text/plain": [
       "<matplotlib.figure.Figure at 0x128b72050>"
      ]
     },
     "metadata": {},
     "output_type": "display_data"
    }
   ],
   "source": [
    "x, y =zip(*ch6[key])\n",
    "plt.figure(figsize=(10,3))\n",
    "plt.plot(x,y)"
   ]
  },
  {
   "cell_type": "markdown",
   "metadata": {},
   "source": [
    "#### Challenge 8\n",
    "\n",
    "- Make one list of counts for **one** week for one station. Monday's\n",
    "count, Tuesday's count, etc. so it's a list of 7 counts.\n",
    "Make the same list for another week, and another week, and another\n",
    "week.\n",
    "`plt.plot(week_count_list)` for every `week_count_list` you created\n",
    "this way. You should get a rainbow plot of weekly commute numbers on\n",
    "top of each other."
   ]
  },
  {
   "cell_type": "code",
   "execution_count": 10,
   "metadata": {
    "collapsed": false
   },
   "outputs": [],
   "source": [
    "week_count_list=[]\n",
    "dic={}\n",
    "for day in ch6['ZEREGA AVE']:\n",
    "    key=day[0].strftime('%W %Y')\n",
    "    if key not in dic:\n",
    "        dic[key]=[(day[0].strftime('%w'),day[1])]\n",
    "    else:\n",
    "        dic[key]+=[(day[0].strftime('%w'),day[1])]\n",
    "##change dic to list\n",
    "for key in dic:\n",
    "    week_count_list.append(dic[key])"
   ]
  },
  {
   "cell_type": "code",
   "execution_count": 11,
   "metadata": {
    "collapsed": false
   },
   "outputs": [
    {
     "data": {
      "image/png": "[encoded data removed]",
      "text/plain": [
       "<matplotlib.figure.Figure at 0x106a98fd0>"
      ]
     },
     "metadata": {},
     "output_type": "display_data"
    }
   ],
   "source": [
    "#graph all the weeks on one chart\n",
    "plt.figure(figsize=(10,3))\n",
    "for week in week_count_list:\n",
    "    x, y = zip(*week)\n",
    "    plt.plot(x,y)"
   ]
  },
  {
   "cell_type": "markdown",
   "metadata": {},
   "source": [
    "#### Challenge 9\n",
    "\n",
    "- Over multiple weeks, sum total ridership for each station and sort\n",
    "  them, so you can find out the stations with the highest traffic\n",
    "  during the time you investigate"
   ]
  },
  {
   "cell_type": "code",
   "execution_count": 12,
   "metadata": {
    "collapsed": false
   },
   "outputs": [
    {
     "data": {
      "text/plain": [
       "STATION\n",
       "34 ST-PENN STA     3006697\n",
       "42 ST-GRD CNTRL    2603232\n",
       "34 ST-HERALD SQ    2087479\n",
       "14 ST-UNION SQ     1962174\n",
       "86 ST              1888202\n",
       "42 ST-TIMES SQ     1834433\n",
       "42 ST-PA BUS TE    1655014\n",
       "125 ST             1354916\n",
       "96 ST              1343708\n",
       "FULTON ST          1317473\n",
       "Name: TIMEFRAME_ENTRIES, dtype: float64"
      ]
     },
     "execution_count": 12,
     "metadata": {},
     "output_type": "execute_result"
    }
   ],
   "source": [
    "data.groupby(['STATION']).sum().sort('TIMEFRAME_ENTRIES', ascending=False).head(10)['TIMEFRAME_ENTRIES']"
   ]
  },
  {
   "cell_type": "markdown",
   "metadata": {},
   "source": [
    "#### Challenge 10\n",
    "\n",
    "- Make a single list of these total ridership values and plot it with\n",
    "\n",
    "    plt.hist(total_ridership_counts)\n",
    "\n",
    "to get an idea about the distribution of total ridership among\n",
    "different stations.\n",
    "\n",
    "This should show you that most stations have a small traffic, and the\n",
    "histogram bins for large traffic volumes have small bars.\n",
    "\n",
    "*Additional Hint*:\n",
    "\n",
    "If you want to see which stations take the meat of the traffic, you\n",
    "can sort the total ridership counts and make a `plt.bar` graph. For\n",
    "this, you want to have two lists: the indices of each bar, and the\n",
    "values. The indices can just be `0,1,2,3,...`, so you can do\n",
    "\n",
    "    indices = range(len(total_ridership_values))\n",
    "    plt.bar(indices, total_ridership_values)"
   ]
  },
  {
   "cell_type": "code",
   "execution_count": 21,
   "metadata": {
    "collapsed": false,
    "scrolled": false
   },
   "outputs": [
    {
     "data": {
      "text/plain": [
       "(array([ 295.,   54.,   19.,    4.,    6.,    1.,    4.,    0.,    1.,    1.]),\n",
       " array([    5607.,   305716.,   605825.,   905934.,  1206043.,  1506152.,\n",
       "         1806261.,  2106370.,  2406479.,  2706588.,  3006697.]),\n",
       " <a list of 10 Patch objects>)"
      ]
     },
     "execution_count": 21,
     "metadata": {},
     "output_type": "execute_result"
    },
    {
     "data": {
      "image/png": "[encoded data removed]",
      "text/plain": [
       "<matplotlib.figure.Figure at 0x10fa9be10>"
      ]
     },
     "metadata": {},
     "output_type": "display_data"
    }
   ],
   "source": [
    "total_ridership_counts=data.groupby(['STATION']).sum()['TIMEFRAME_ENTRIES'].tolist()\n",
    "plt.hist(total_ridership_counts)"
   ]
  },
  {
   "cell_type": "code",
   "execution_count": null,
   "metadata": {
    "collapsed": true
   },
   "outputs": [],
   "source": []
  }
 ],
 "metadata": {
  "kernelspec": {
   "display_name": "Python 2",
   "language": "python",
   "name": "python2"
  },
  "language_info": {
   "codemirror_mode": {
    "name": "ipython",
    "version": 2
   },
   "file_extension": ".py",
   "mimetype": "text/x-python",
   "name": "python",
   "nbconvert_exporter": "python",
   "pygments_lexer": "ipython2",
   "version": "2.7.10"
  }
 },
 "nbformat": 4,
 "nbformat_minor": 0
}

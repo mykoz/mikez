{
 "cells": [
  {
   "cell_type": "markdown",
   "metadata": {},
   "source": [
    "#### Topic:      Prework \n",
    "#### Date:        9/24/2015\n",
    "#### Author:     Reshama\n",
    "#### Cohort:     5 (Fall 2015)"
   ]
  },
  {
   "cell_type": "markdown",
   "metadata": {},
   "source": [
    "------------------------------------------------------------------------------- "
   ]
  },
  {
   "cell_type": "markdown",
   "metadata": {},
   "source": [
    "###Prework: Required Exercises\n",
    "\n",
    "https://github.com/thisismetis/dsp\n"
   ]
  },
  {
   "cell_type": "markdown",
   "metadata": {},
   "source": [
    "------------------------------------------------------------------------------- "
   ]
  },
  {
   "cell_type": "markdown",
   "metadata": {},
   "source": [
    "##Table of Contents \n",
    "\n",
    "\n",
    "[01_install.md](#1)\n",
    "\n",
    "**Python Installation**\n",
    "Did you install Python 2 or 3? Why? How can you check the version of Python installed if you happen to be on an unfamiliar computer?\n",
    "\n",
    "\n",
    "[02_editors.md](#2)\n",
    "\n",
    "**a)  Terminal Editor**\n",
    "What terminal editor will you use? How did you make your decision?\n",
    "\n",
    "**b)  Graphical Editor**\n",
    "What graphical editor will you use? How did you make your decision? What are some interesting features of your editor? What are some useful keyboard shortcuts for your editor? How do you customize your editor?\n",
    " \n",
    "[03_command_line.md](#3)\n",
    "\n",
    "**Command Line**\n",
    "\n",
    "a)  Make a cheat sheet for yourself: a list of commands and what they do, focused on things that are new, interesting, or otherwise worth remembering.\n",
    "\n",
    "b)  What does ls do? What do ls -a, ls -l, and ls -lh do? What combinations of those flags are meaningful?\n",
    "\n",
    "c)  What does xargs do? Give an example of how to use it.\n"
   ]
  },
  {
   "cell_type": "markdown",
   "metadata": {},
   "source": [
    "-----------------------------------------------------------------------------------------"
   ]
  },
  {
   "cell_type": "markdown",
   "metadata": {},
   "source": [
    "## <a id='1'></a>01_install.md"
   ]
  },
  {
   "cell_type": "code",
   "execution_count": 92,
   "metadata": {
    "collapsed": false
   },
   "outputs": [
    {
     "name": "stdout",
     "output_type": "stream",
     "text": [
      "using version 2.7 since not all libraries have been migrated to 3\n"
     ]
    }
   ],
   "source": [
    "#Did you install Python 2 or 3? Why? How can you check the version of Python installed if you happen \n",
    "# to be on an unfamiliar computer?\n",
    "\n",
    "print \"using version 2.7 since not all libraries have been migrated to 3\""
   ]
  },
  {
   "cell_type": "code",
   "execution_count": 93,
   "metadata": {
    "collapsed": false
   },
   "outputs": [
    {
     "name": "stdout",
     "output_type": "stream",
     "text": [
      "Python 2.7.10 :: Anaconda 2.3.0 (x86_64)\r\n"
     ]
    }
   ],
   "source": [
    "!python --version"
   ]
  },
  {
   "cell_type": "code",
   "execution_count": 94,
   "metadata": {
    "collapsed": false
   },
   "outputs": [
    {
     "name": "stdout",
     "output_type": "stream",
     "text": [
      "Python 2.7.10 :: Anaconda 2.3.0 (x86_64)\r\n"
     ]
    }
   ],
   "source": [
    "!python -V"
   ]
  },
  {
   "cell_type": "markdown",
   "metadata": {},
   "source": [
    "-------------------------------------------------------------------------------------------"
   ]
  },
  {
   "cell_type": "markdown",
   "metadata": {},
   "source": [
    "## <a id='2'></a>02_editors.md"
   ]
  },
  {
   "cell_type": "markdown",
   "metadata": {
    "collapsed": true
   },
   "source": [
    "a)  What TERMINAL editor will you use? How did you make your decision?\n",
    "\n",
    ">Emacs, that's the first editor I learned"
   ]
  },
  {
   "cell_type": "markdown",
   "metadata": {
    "collapsed": true
   },
   "source": [
    "b) What GRAPHICAL editor will you use? \n",
    "How did you make your decision? \n",
    "What are some interesting features of your editor? \n",
    "What are some useful keyboard shortcuts for your editor? \n",
    "How do you customize your editor?\n",
    "\n",
    ">Emacs"
   ]
  },
  {
   "cell_type": "markdown",
   "metadata": {},
   "source": [
    "------------------------------------------------------------------------------- "
   ]
  },
  {
   "cell_type": "markdown",
   "metadata": {},
   "source": [
    "## <a id='3'></a>03_command_line.md\n",
    "\n",
    "a)  Make a cheat sheet for yourself: a list of commands and what they do, focused on things that are new, interesting, or otherwise worth remembering.\n",
    "\n",
    "b)  What does ls do? What do ls -a, ls -l, and ls -lh do? What combinations of those flags are meaningful?\n",
    "\n",
    "c)  What does xargs do? Give an example of how to use it."
   ]
  },
  {
   "cell_type": "code",
   "execution_count": 81,
   "metadata": {
    "collapsed": false
   },
   "outputs": [
    {
     "name": "stdout",
     "output_type": "stream",
     "text": [
      "RESHAMAs-MacBook-Pro.local\r\n"
     ]
    }
   ],
   "source": [
    "!hostname  #see whose user name is on computer"
   ]
  },
  {
   "cell_type": "code",
   "execution_count": 95,
   "metadata": {
    "collapsed": false
   },
   "outputs": [
    {
     "name": "stdout",
     "output_type": "stream",
     "text": [
      "TERM_PROGRAM=Apple_Terminal\r\n",
      "SHELL=/bin/bash\r\n",
      "TERM=xterm-color\r\n",
      "CLICOLOR=1\r\n",
      "TMPDIR=/var/folders/f5/4hllfzqx6pq2sfm22_khf5400000gn/T/\r\n",
      "Apple_PubSub_Socket_Render=/private/tmp/com.apple.launchd.iBUFdpbtNo/Render\r\n",
      "TERM_PROGRAM_VERSION=343.7\r\n",
      "TERM_SESSION_ID=41DE7A29-AF4E-4051-9C7D-E0A9C86EEF9E\r\n",
      "USER=reshamashaikh\r\n",
      "SSH_AUTH_SOCK=/private/tmp/com.apple.launchd.WT1kG9M2wH/Listeners\r\n",
      "__CF_USER_TEXT_ENCODING=0x1F5:0x0:0x0\r\n",
      "JPY_PARENT_PID=627\r\n",
      "COLUMNS=90\r\n",
      "PAGER=cat\r\n",
      "PATH=/Users/reshamashaikh/anaconda/bin:/usr/local/heroku/bin:/Library/Frameworks/Python.framework/Versions/3.4/bin:/Library/Frameworks/Python.framework/Versions/3.4/bin://anaconda/bin:/Users/reshamashaikh/anaconda/bin:/Applications/anaconda/bin://anaconda/bin:/Library/Frameworks/Python.framework/Versions/3.4/bin:/usr/local/bin:/usr/bin:/bin:/usr/sbin:/sbin:/opt/X11/bin:/Library/TeX/texbin\r\n",
      "_=/usr/bin/env\r\n",
      "PWD=/Users/reshamashaikh/_ds/metis/mypractice/_prework\r\n",
      "LANG=en_US.UTF-8\r\n",
      "XPC_FLAGS=0x0\r\n",
      "LINES=30\r\n",
      "XPC_SERVICE_NAME=0\r\n",
      "SHLVL=3\r\n",
      "HOME=/Users/reshamashaikh\r\n",
      "LOGNAME=reshamashaikh\r\n",
      "DISPLAY=/private/tmp/com.apple.launchd.6Z4yaw0WQQ/org.macosforge.xquartz:0\r\n",
      "GIT_PAGER=cat\r\n"
     ]
    }
   ],
   "source": [
    "!env   # list environmental parameters"
   ]
  },
  {
   "cell_type": "code",
   "execution_count": 83,
   "metadata": {
    "collapsed": false
   },
   "outputs": [
    {
     "name": "stdout",
     "output_type": "stream",
     "text": [
      "test\n",
      "hello\n"
     ]
    }
   ],
   "source": [
    "!echo test\n",
    "!echo hello"
   ]
  },
  {
   "cell_type": "code",
   "execution_count": 84,
   "metadata": {
    "collapsed": false,
    "scrolled": true
   },
   "outputs": [
    {
     "name": "stdout",
     "output_type": "stream",
     "text": [
      "      77 check_dates.xlsx\r\n",
      "     741 prework_python.ipynb\r\n",
      "     800 prework_solutions_part1_emoji_editor_commandline.ipynb\r\n",
      "     547 prework_solutions_part1_install_editor_commandline.ipynb\r\n",
      "wc: regex_biostat_faculty: read: Is a directory\r\n",
      "wc: tennis: read: Is a directory\r\n",
      "    2165 total\r\n"
     ]
    }
   ],
   "source": [
    "# list number of lines in each file in current directory\n",
    "!wc -l *"
   ]
  },
  {
   "cell_type": "markdown",
   "metadata": {},
   "source": [
    ">b) **What does ls do?** What do ls -a, ls -l, and ls -lh do? What combinations of those flags are meaningful?"
   ]
  },
  {
   "cell_type": "code",
   "execution_count": 85,
   "metadata": {
    "collapsed": false
   },
   "outputs": [
    {
     "name": "stdout",
     "output_type": "stream",
     "text": [
      "total 200\r\n",
      "-rw-r--r--@ 1 reshamashaikh  staff  36951 Sep  4 23:08 check_dates.xlsx\r\n",
      "-rw-r--r--  1 reshamashaikh  staff  19530 Sep  9 14:42 prework_python.ipynb\r\n",
      "-rw-r--r--  1 reshamashaikh  staff  21234 Sep 24 00:10 prework_solutions_part1_emoji_editor_commandline.ipynb\r\n",
      "-rw-r--r--  1 reshamashaikh  staff  15217 Sep 24 09:45 prework_solutions_part1_install_editor_commandline.ipynb\r\n",
      "drwxr-xr-x  8 reshamashaikh  staff    272 Sep 10 12:16 \u001b[34mregex_biostat_faculty\u001b[m\u001b[m/\r\n",
      "drwxr-xr-x  5 reshamashaikh  staff    170 Jul 14 14:31 \u001b[34mtennis\u001b[m\u001b[m/\r\n"
     ]
    }
   ],
   "source": [
    "# prints directories in blue\n",
    "!ls -Glp"
   ]
  },
  {
   "cell_type": "code",
   "execution_count": 86,
   "metadata": {
    "collapsed": false
   },
   "outputs": [],
   "source": [
    "# lists contents, recursively; in all sub-directories\n",
    "#!ls -lR"
   ]
  },
  {
   "cell_type": "code",
   "execution_count": 87,
   "metadata": {
    "collapsed": false
   },
   "outputs": [
    {
     "name": "stdout",
     "output_type": "stream",
     "text": [
      "\u001b[34m.\u001b[m\u001b[m\n",
      "\u001b[34m..\u001b[m\u001b[m\n",
      ".DS_Store\n",
      "\u001b[34m.ipynb_checkpoints\u001b[m\u001b[m\n",
      "check_dates.xlsx\n",
      "prework_python.ipynb\n",
      "prework_solutions_part1_emoji_editor_commandline.ipynb\n",
      "prework_solutions_part1_install_editor_commandline.ipynb\n",
      "\u001b[34mregex_biostat_faculty\u001b[m\u001b[m\n",
      "\u001b[34mtennis\u001b[m\u001b[m\n",
      "\n",
      "total 200\n",
      "-rw-r--r--@ 1 reshamashaikh  staff  36951 Sep  4 23:08 check_dates.xlsx\n",
      "-rw-r--r--  1 reshamashaikh  staff  19530 Sep  9 14:42 prework_python.ipynb\n",
      "-rw-r--r--  1 reshamashaikh  staff  21234 Sep 24 00:10 prework_solutions_part1_emoji_editor_commandline.ipynb\n",
      "-rw-r--r--  1 reshamashaikh  staff  15217 Sep 24 09:45 prework_solutions_part1_install_editor_commandline.ipynb\n",
      "drwxr-xr-x  8 reshamashaikh  staff    272 Sep 10 12:16 \u001b[34mregex_biostat_faculty\u001b[m\u001b[m\n",
      "drwxr-xr-x  5 reshamashaikh  staff    170 Jul 14 14:31 \u001b[34mtennis\u001b[m\u001b[m\n",
      "\n",
      "total 200\n",
      "-rw-r--r--@ 1 reshamashaikh  staff    36K Sep  4 23:08 check_dates.xlsx\n",
      "-rw-r--r--  1 reshamashaikh  staff    19K Sep  9 14:42 prework_python.ipynb\n",
      "-rw-r--r--  1 reshamashaikh  staff    21K Sep 24 00:10 prework_solutions_part1_emoji_editor_commandline.ipynb\n",
      "-rw-r--r--  1 reshamashaikh  staff    15K Sep 24 09:45 prework_solutions_part1_install_editor_commandline.ipynb\n",
      "drwxr-xr-x  8 reshamashaikh  staff   272B Sep 10 12:16 \u001b[34mregex_biostat_faculty\u001b[m\u001b[m\n",
      "drwxr-xr-x  5 reshamashaikh  staff   170B Jul 14 14:31 \u001b[34mtennis\u001b[m\u001b[m\n"
     ]
    }
   ],
   "source": [
    "#What does ls do? What do ls -a, ls -l, and ls -lh do? What combinations of those flags are meaningful?\n",
    "!ls -a   # list all files\n",
    "print\n",
    "!ls -l\n",
    "print\n",
    "!ls -lh"
   ]
  },
  {
   "cell_type": "code",
   "execution_count": 88,
   "metadata": {
    "collapsed": false
   },
   "outputs": [
    {
     "name": "stdout",
     "output_type": "stream",
     "text": [
      "check_dates.xlsx\r\n",
      "prework_python.ipynb\r\n",
      "prework_solutions_part1_emoji_editor_commandline.ipynb\r\n",
      "prework_solutions_part1_install_editor_commandline.ipynb\r\n",
      "\u001b[34mregex_biostat_faculty\u001b[m\u001b[m/\r\n",
      "\u001b[34mtennis\u001b[m\u001b[m/\r\n"
     ]
    }
   ],
   "source": [
    "!ls -F"
   ]
  },
  {
   "cell_type": "code",
   "execution_count": 89,
   "metadata": {
    "collapsed": false
   },
   "outputs": [],
   "source": [
    "# ls   - List the files in the current directory, and (optionally) their characteristics.\n",
    "\n",
    "# Examples:\n",
    "# ls\n",
    "# list just the names of the files in the current directory\n",
    "\n",
    "# ls -l\n",
    "# (long) list the files with their characteristics (size, privs, owner, etc)\n",
    "\n",
    "# ls -lo\n",
    "# list the files with their flags (see chflags) in addition to the usual characteristics -l shows\n",
    "\n",
    "# ls -a\n",
    "# list all files in the current directory (including those that would normally be invisible)\n",
    "\n",
    "# ls -F\n",
    "# list filenames with a special character at the end that tells you what kind of file it is (\"/\" for directory, \"*\" for unix executable, \"@\" for alias/symlink, etc)\n",
    "\n",
    "# ls *.jpg\n",
    "# list the names of all files with names ending in \".jpg\"\n",
    "\n",
    "# ls a*\n",
    "# list the names of all files with names beginning with \"a\"\n",
    "\n",
    "# ls *att*\n",
    "# list the names of all files with names containing \"att\"\n",
    " "
   ]
  },
  {
   "cell_type": "markdown",
   "metadata": {},
   "source": [
    "----"
   ]
  },
  {
   "cell_type": "markdown",
   "metadata": {},
   "source": [
    ">c) **What does xargs do?** Give an example of how to use it."
   ]
  },
  {
   "cell_type": "code",
   "execution_count": 90,
   "metadata": {
    "collapsed": false
   },
   "outputs": [
    {
     "name": "stdout",
     "output_type": "stream",
     "text": [
      "xargs is a command used to execute commands based on arguments from standard input\n"
     ]
    }
   ],
   "source": [
    "#What does xargs do? Give an example of how to use it.\n",
    "\n",
    "print (\"xargs is a command used to execute commands based on arguments from standard input\")"
   ]
  },
  {
   "cell_type": "code",
   "execution_count": 98,
   "metadata": {
    "collapsed": false
   },
   "outputs": [
    {
     "name": "stdout",
     "output_type": "stream",
     "text": [
      "     741 ./.ipynb_checkpoints/prework_python-checkpoint.ipynb\r\n",
      "     800 ./.ipynb_checkpoints/prework_solutions_part1_emoji_editor_commandline-checkpoint.ipynb\r\n",
      "     567 ./.ipynb_checkpoints/prework_solutions_part1_install_editor_commandline-checkpoint.ipynb\r\n",
      "     741 ./prework_python.ipynb\r\n",
      "     800 ./prework_solutions_part1_emoji_editor_commandline.ipynb\r\n",
      "     567 ./prework_solutions_part1_install_editor_commandline.ipynb\r\n",
      "    4216 total\r\n"
     ]
    }
   ],
   "source": [
    "#Python files and count the number of lines\n",
    "!find . -name 'p*.*' | xargs wc -l"
   ]
  },
  {
   "cell_type": "code",
   "execution_count": null,
   "metadata": {
    "collapsed": false
   },
   "outputs": [],
   "source": [
    "# find python files than begin with p, and list the line numbers\n",
    "!find . -name 'p*.py' | xargs wc -l"
   ]
  },
  {
   "cell_type": "code",
   "execution_count": null,
   "metadata": {
    "collapsed": true
   },
   "outputs": [],
   "source": []
  }
 ],
 "metadata": {
  "kernelspec": {
   "display_name": "Python 2",
   "language": "python",
   "name": "python2"
  },
  "language_info": {
   "codemirror_mode": {
    "name": "ipython",
    "version": 2
   },
   "file_extension": ".py",
   "mimetype": "text/x-python",
   "name": "python",
   "nbconvert_exporter": "python",
   "pygments_lexer": "ipython2",
   "version": "2.7.10"
  }
 },
 "nbformat": 4,
 "nbformat_minor": 0
}
